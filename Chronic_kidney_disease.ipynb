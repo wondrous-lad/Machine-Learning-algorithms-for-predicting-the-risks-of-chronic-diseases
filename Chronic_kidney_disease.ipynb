{
  "cells": [
    {
      "cell_type": "code",
      "execution_count": 72,
      "metadata": {
        "id": "StdXd14YzEla"
      },
      "outputs": [],
      "source": [
        "# necessary imports \n",
        "import pandas as pd\n",
        "import numpy as np\n",
        "import matplotlib.pyplot as plt\n",
        "import seaborn as sns\n",
        "import plotly.express as px\n",
        "from sklearn.metrics import accuracy_score\n",
        "from sklearn.metrics import f1_score\n",
        "from sklearn.metrics import recall_score\n",
        "from sklearn.metrics import precision_score\n",
        "from sklearn.metrics import precision_recall_fscore_support\n",
        "from sklearn.metrics import precision_recall_curve\n",
        "from sklearn.metrics import classification_report\n",
        "from sklearn.metrics import roc_curve\n",
        "from sklearn.metrics import auc\n",
        "from sklearn.metrics import roc_auc_score\n",
        "from sklearn.metrics import zero_one_loss\n",
        "from sklearn.model_selection import train_test_split\n",
        "import warnings\n",
        "warnings.filterwarnings('ignore')\n",
        "\n",
        "plt.style.use('fivethirtyeight')\n",
        "%matplotlib inline\n",
        "pd.set_option('display.max_columns', 26)"
      ]
    },
    {
      "cell_type": "code",
      "execution_count": 73,
      "metadata": {
        "id": "pAXpCrXG1upN"
      },
      "outputs": [],
      "source": [
        "df=pd.read_csv('kidney_disease.csv')"
      ]
    },
    {
      "cell_type": "code",
      "execution_count": 74,
      "metadata": {
        "colab": {
          "base_uri": "https://localhost:8080/",
          "height": 427
        },
        "id": "o8IgZzDx2i4A",
        "outputId": "7bfb403a-8fa0-4c96-f6dd-a14e24969ffb"
      },
      "outputs": [
        {
          "output_type": "execute_result",
          "data": {
            "text/plain": [
              "   id   age     bp     sg   al   su       rbc        pc         pcc  \\\n",
              "0   0  48.0   80.0  1.020  1.0  0.0       NaN    normal  notpresent   \n",
              "1   1   7.0   50.0  1.020  4.0  0.0       NaN    normal  notpresent   \n",
              "2   2  62.0   80.0  1.010  2.0  3.0    normal    normal  notpresent   \n",
              "3   3  48.0   70.0  1.005  4.0  0.0    normal  abnormal     present   \n",
              "4   4  51.0   80.0  1.010  2.0  0.0    normal    normal  notpresent   \n",
              "5   5  60.0   90.0  1.015  3.0  0.0       NaN       NaN  notpresent   \n",
              "6   6  68.0   70.0  1.010  0.0  0.0       NaN    normal  notpresent   \n",
              "7   7  24.0    NaN  1.015  2.0  4.0    normal  abnormal  notpresent   \n",
              "8   8  52.0  100.0  1.015  3.0  0.0    normal  abnormal     present   \n",
              "9   9  53.0   90.0  1.020  2.0  0.0  abnormal  abnormal     present   \n",
              "\n",
              "           ba    bgr     bu    sc    sod  pot  hemo pcv     wc   rc  htn   dm  \\\n",
              "0  notpresent  121.0   36.0   1.2    NaN  NaN  15.4  44   7800  5.2  yes  yes   \n",
              "1  notpresent    NaN   18.0   0.8    NaN  NaN  11.3  38   6000  NaN   no   no   \n",
              "2  notpresent  423.0   53.0   1.8    NaN  NaN   9.6  31   7500  NaN   no  yes   \n",
              "3  notpresent  117.0   56.0   3.8  111.0  2.5  11.2  32   6700  3.9  yes   no   \n",
              "4  notpresent  106.0   26.0   1.4    NaN  NaN  11.6  35   7300  4.6   no   no   \n",
              "5  notpresent   74.0   25.0   1.1  142.0  3.2  12.2  39   7800  4.4  yes  yes   \n",
              "6  notpresent  100.0   54.0  24.0  104.0  4.0  12.4  36    NaN  NaN   no   no   \n",
              "7  notpresent  410.0   31.0   1.1    NaN  NaN  12.4  44   6900    5   no  yes   \n",
              "8  notpresent  138.0   60.0   1.9    NaN  NaN  10.8  33   9600    4  yes  yes   \n",
              "9  notpresent   70.0  107.0   7.2  114.0  3.7   9.5  29  12100  3.7  yes  yes   \n",
              "\n",
              "  cad appet   pe  ane classification  \n",
              "0  no  good   no   no            ckd  \n",
              "1  no  good   no   no            ckd  \n",
              "2  no  poor   no  yes            ckd  \n",
              "3  no  poor  yes  yes            ckd  \n",
              "4  no  good   no   no            ckd  \n",
              "5  no  good  yes   no            ckd  \n",
              "6  no  good   no   no            ckd  \n",
              "7  no  good  yes   no            ckd  \n",
              "8  no  good   no  yes            ckd  \n",
              "9  no  poor   no  yes            ckd  "
            ],
            "text/html": [
              "\n",
              "  <div id=\"df-5e18b679-2506-4332-b43d-88b2b1e5fa48\">\n",
              "    <div class=\"colab-df-container\">\n",
              "      <div>\n",
              "<style scoped>\n",
              "    .dataframe tbody tr th:only-of-type {\n",
              "        vertical-align: middle;\n",
              "    }\n",
              "\n",
              "    .dataframe tbody tr th {\n",
              "        vertical-align: top;\n",
              "    }\n",
              "\n",
              "    .dataframe thead th {\n",
              "        text-align: right;\n",
              "    }\n",
              "</style>\n",
              "<table border=\"1\" class=\"dataframe\">\n",
              "  <thead>\n",
              "    <tr style=\"text-align: right;\">\n",
              "      <th></th>\n",
              "      <th>id</th>\n",
              "      <th>age</th>\n",
              "      <th>bp</th>\n",
              "      <th>sg</th>\n",
              "      <th>al</th>\n",
              "      <th>su</th>\n",
              "      <th>rbc</th>\n",
              "      <th>pc</th>\n",
              "      <th>pcc</th>\n",
              "      <th>ba</th>\n",
              "      <th>bgr</th>\n",
              "      <th>bu</th>\n",
              "      <th>sc</th>\n",
              "      <th>sod</th>\n",
              "      <th>pot</th>\n",
              "      <th>hemo</th>\n",
              "      <th>pcv</th>\n",
              "      <th>wc</th>\n",
              "      <th>rc</th>\n",
              "      <th>htn</th>\n",
              "      <th>dm</th>\n",
              "      <th>cad</th>\n",
              "      <th>appet</th>\n",
              "      <th>pe</th>\n",
              "      <th>ane</th>\n",
              "      <th>classification</th>\n",
              "    </tr>\n",
              "  </thead>\n",
              "  <tbody>\n",
              "    <tr>\n",
              "      <th>0</th>\n",
              "      <td>0</td>\n",
              "      <td>48.0</td>\n",
              "      <td>80.0</td>\n",
              "      <td>1.020</td>\n",
              "      <td>1.0</td>\n",
              "      <td>0.0</td>\n",
              "      <td>NaN</td>\n",
              "      <td>normal</td>\n",
              "      <td>notpresent</td>\n",
              "      <td>notpresent</td>\n",
              "      <td>121.0</td>\n",
              "      <td>36.0</td>\n",
              "      <td>1.2</td>\n",
              "      <td>NaN</td>\n",
              "      <td>NaN</td>\n",
              "      <td>15.4</td>\n",
              "      <td>44</td>\n",
              "      <td>7800</td>\n",
              "      <td>5.2</td>\n",
              "      <td>yes</td>\n",
              "      <td>yes</td>\n",
              "      <td>no</td>\n",
              "      <td>good</td>\n",
              "      <td>no</td>\n",
              "      <td>no</td>\n",
              "      <td>ckd</td>\n",
              "    </tr>\n",
              "    <tr>\n",
              "      <th>1</th>\n",
              "      <td>1</td>\n",
              "      <td>7.0</td>\n",
              "      <td>50.0</td>\n",
              "      <td>1.020</td>\n",
              "      <td>4.0</td>\n",
              "      <td>0.0</td>\n",
              "      <td>NaN</td>\n",
              "      <td>normal</td>\n",
              "      <td>notpresent</td>\n",
              "      <td>notpresent</td>\n",
              "      <td>NaN</td>\n",
              "      <td>18.0</td>\n",
              "      <td>0.8</td>\n",
              "      <td>NaN</td>\n",
              "      <td>NaN</td>\n",
              "      <td>11.3</td>\n",
              "      <td>38</td>\n",
              "      <td>6000</td>\n",
              "      <td>NaN</td>\n",
              "      <td>no</td>\n",
              "      <td>no</td>\n",
              "      <td>no</td>\n",
              "      <td>good</td>\n",
              "      <td>no</td>\n",
              "      <td>no</td>\n",
              "      <td>ckd</td>\n",
              "    </tr>\n",
              "    <tr>\n",
              "      <th>2</th>\n",
              "      <td>2</td>\n",
              "      <td>62.0</td>\n",
              "      <td>80.0</td>\n",
              "      <td>1.010</td>\n",
              "      <td>2.0</td>\n",
              "      <td>3.0</td>\n",
              "      <td>normal</td>\n",
              "      <td>normal</td>\n",
              "      <td>notpresent</td>\n",
              "      <td>notpresent</td>\n",
              "      <td>423.0</td>\n",
              "      <td>53.0</td>\n",
              "      <td>1.8</td>\n",
              "      <td>NaN</td>\n",
              "      <td>NaN</td>\n",
              "      <td>9.6</td>\n",
              "      <td>31</td>\n",
              "      <td>7500</td>\n",
              "      <td>NaN</td>\n",
              "      <td>no</td>\n",
              "      <td>yes</td>\n",
              "      <td>no</td>\n",
              "      <td>poor</td>\n",
              "      <td>no</td>\n",
              "      <td>yes</td>\n",
              "      <td>ckd</td>\n",
              "    </tr>\n",
              "    <tr>\n",
              "      <th>3</th>\n",
              "      <td>3</td>\n",
              "      <td>48.0</td>\n",
              "      <td>70.0</td>\n",
              "      <td>1.005</td>\n",
              "      <td>4.0</td>\n",
              "      <td>0.0</td>\n",
              "      <td>normal</td>\n",
              "      <td>abnormal</td>\n",
              "      <td>present</td>\n",
              "      <td>notpresent</td>\n",
              "      <td>117.0</td>\n",
              "      <td>56.0</td>\n",
              "      <td>3.8</td>\n",
              "      <td>111.0</td>\n",
              "      <td>2.5</td>\n",
              "      <td>11.2</td>\n",
              "      <td>32</td>\n",
              "      <td>6700</td>\n",
              "      <td>3.9</td>\n",
              "      <td>yes</td>\n",
              "      <td>no</td>\n",
              "      <td>no</td>\n",
              "      <td>poor</td>\n",
              "      <td>yes</td>\n",
              "      <td>yes</td>\n",
              "      <td>ckd</td>\n",
              "    </tr>\n",
              "    <tr>\n",
              "      <th>4</th>\n",
              "      <td>4</td>\n",
              "      <td>51.0</td>\n",
              "      <td>80.0</td>\n",
              "      <td>1.010</td>\n",
              "      <td>2.0</td>\n",
              "      <td>0.0</td>\n",
              "      <td>normal</td>\n",
              "      <td>normal</td>\n",
              "      <td>notpresent</td>\n",
              "      <td>notpresent</td>\n",
              "      <td>106.0</td>\n",
              "      <td>26.0</td>\n",
              "      <td>1.4</td>\n",
              "      <td>NaN</td>\n",
              "      <td>NaN</td>\n",
              "      <td>11.6</td>\n",
              "      <td>35</td>\n",
              "      <td>7300</td>\n",
              "      <td>4.6</td>\n",
              "      <td>no</td>\n",
              "      <td>no</td>\n",
              "      <td>no</td>\n",
              "      <td>good</td>\n",
              "      <td>no</td>\n",
              "      <td>no</td>\n",
              "      <td>ckd</td>\n",
              "    </tr>\n",
              "    <tr>\n",
              "      <th>5</th>\n",
              "      <td>5</td>\n",
              "      <td>60.0</td>\n",
              "      <td>90.0</td>\n",
              "      <td>1.015</td>\n",
              "      <td>3.0</td>\n",
              "      <td>0.0</td>\n",
              "      <td>NaN</td>\n",
              "      <td>NaN</td>\n",
              "      <td>notpresent</td>\n",
              "      <td>notpresent</td>\n",
              "      <td>74.0</td>\n",
              "      <td>25.0</td>\n",
              "      <td>1.1</td>\n",
              "      <td>142.0</td>\n",
              "      <td>3.2</td>\n",
              "      <td>12.2</td>\n",
              "      <td>39</td>\n",
              "      <td>7800</td>\n",
              "      <td>4.4</td>\n",
              "      <td>yes</td>\n",
              "      <td>yes</td>\n",
              "      <td>no</td>\n",
              "      <td>good</td>\n",
              "      <td>yes</td>\n",
              "      <td>no</td>\n",
              "      <td>ckd</td>\n",
              "    </tr>\n",
              "    <tr>\n",
              "      <th>6</th>\n",
              "      <td>6</td>\n",
              "      <td>68.0</td>\n",
              "      <td>70.0</td>\n",
              "      <td>1.010</td>\n",
              "      <td>0.0</td>\n",
              "      <td>0.0</td>\n",
              "      <td>NaN</td>\n",
              "      <td>normal</td>\n",
              "      <td>notpresent</td>\n",
              "      <td>notpresent</td>\n",
              "      <td>100.0</td>\n",
              "      <td>54.0</td>\n",
              "      <td>24.0</td>\n",
              "      <td>104.0</td>\n",
              "      <td>4.0</td>\n",
              "      <td>12.4</td>\n",
              "      <td>36</td>\n",
              "      <td>NaN</td>\n",
              "      <td>NaN</td>\n",
              "      <td>no</td>\n",
              "      <td>no</td>\n",
              "      <td>no</td>\n",
              "      <td>good</td>\n",
              "      <td>no</td>\n",
              "      <td>no</td>\n",
              "      <td>ckd</td>\n",
              "    </tr>\n",
              "    <tr>\n",
              "      <th>7</th>\n",
              "      <td>7</td>\n",
              "      <td>24.0</td>\n",
              "      <td>NaN</td>\n",
              "      <td>1.015</td>\n",
              "      <td>2.0</td>\n",
              "      <td>4.0</td>\n",
              "      <td>normal</td>\n",
              "      <td>abnormal</td>\n",
              "      <td>notpresent</td>\n",
              "      <td>notpresent</td>\n",
              "      <td>410.0</td>\n",
              "      <td>31.0</td>\n",
              "      <td>1.1</td>\n",
              "      <td>NaN</td>\n",
              "      <td>NaN</td>\n",
              "      <td>12.4</td>\n",
              "      <td>44</td>\n",
              "      <td>6900</td>\n",
              "      <td>5</td>\n",
              "      <td>no</td>\n",
              "      <td>yes</td>\n",
              "      <td>no</td>\n",
              "      <td>good</td>\n",
              "      <td>yes</td>\n",
              "      <td>no</td>\n",
              "      <td>ckd</td>\n",
              "    </tr>\n",
              "    <tr>\n",
              "      <th>8</th>\n",
              "      <td>8</td>\n",
              "      <td>52.0</td>\n",
              "      <td>100.0</td>\n",
              "      <td>1.015</td>\n",
              "      <td>3.0</td>\n",
              "      <td>0.0</td>\n",
              "      <td>normal</td>\n",
              "      <td>abnormal</td>\n",
              "      <td>present</td>\n",
              "      <td>notpresent</td>\n",
              "      <td>138.0</td>\n",
              "      <td>60.0</td>\n",
              "      <td>1.9</td>\n",
              "      <td>NaN</td>\n",
              "      <td>NaN</td>\n",
              "      <td>10.8</td>\n",
              "      <td>33</td>\n",
              "      <td>9600</td>\n",
              "      <td>4</td>\n",
              "      <td>yes</td>\n",
              "      <td>yes</td>\n",
              "      <td>no</td>\n",
              "      <td>good</td>\n",
              "      <td>no</td>\n",
              "      <td>yes</td>\n",
              "      <td>ckd</td>\n",
              "    </tr>\n",
              "    <tr>\n",
              "      <th>9</th>\n",
              "      <td>9</td>\n",
              "      <td>53.0</td>\n",
              "      <td>90.0</td>\n",
              "      <td>1.020</td>\n",
              "      <td>2.0</td>\n",
              "      <td>0.0</td>\n",
              "      <td>abnormal</td>\n",
              "      <td>abnormal</td>\n",
              "      <td>present</td>\n",
              "      <td>notpresent</td>\n",
              "      <td>70.0</td>\n",
              "      <td>107.0</td>\n",
              "      <td>7.2</td>\n",
              "      <td>114.0</td>\n",
              "      <td>3.7</td>\n",
              "      <td>9.5</td>\n",
              "      <td>29</td>\n",
              "      <td>12100</td>\n",
              "      <td>3.7</td>\n",
              "      <td>yes</td>\n",
              "      <td>yes</td>\n",
              "      <td>no</td>\n",
              "      <td>poor</td>\n",
              "      <td>no</td>\n",
              "      <td>yes</td>\n",
              "      <td>ckd</td>\n",
              "    </tr>\n",
              "  </tbody>\n",
              "</table>\n",
              "</div>\n",
              "      <button class=\"colab-df-convert\" onclick=\"convertToInteractive('df-5e18b679-2506-4332-b43d-88b2b1e5fa48')\"\n",
              "              title=\"Convert this dataframe to an interactive table.\"\n",
              "              style=\"display:none;\">\n",
              "        \n",
              "  <svg xmlns=\"http://www.w3.org/2000/svg\" height=\"24px\"viewBox=\"0 0 24 24\"\n",
              "       width=\"24px\">\n",
              "    <path d=\"M0 0h24v24H0V0z\" fill=\"none\"/>\n",
              "    <path d=\"M18.56 5.44l.94 2.06.94-2.06 2.06-.94-2.06-.94-.94-2.06-.94 2.06-2.06.94zm-11 1L8.5 8.5l.94-2.06 2.06-.94-2.06-.94L8.5 2.5l-.94 2.06-2.06.94zm10 10l.94 2.06.94-2.06 2.06-.94-2.06-.94-.94-2.06-.94 2.06-2.06.94z\"/><path d=\"M17.41 7.96l-1.37-1.37c-.4-.4-.92-.59-1.43-.59-.52 0-1.04.2-1.43.59L10.3 9.45l-7.72 7.72c-.78.78-.78 2.05 0 2.83L4 21.41c.39.39.9.59 1.41.59.51 0 1.02-.2 1.41-.59l7.78-7.78 2.81-2.81c.8-.78.8-2.07 0-2.86zM5.41 20L4 18.59l7.72-7.72 1.47 1.35L5.41 20z\"/>\n",
              "  </svg>\n",
              "      </button>\n",
              "      \n",
              "  <style>\n",
              "    .colab-df-container {\n",
              "      display:flex;\n",
              "      flex-wrap:wrap;\n",
              "      gap: 12px;\n",
              "    }\n",
              "\n",
              "    .colab-df-convert {\n",
              "      background-color: #E8F0FE;\n",
              "      border: none;\n",
              "      border-radius: 50%;\n",
              "      cursor: pointer;\n",
              "      display: none;\n",
              "      fill: #1967D2;\n",
              "      height: 32px;\n",
              "      padding: 0 0 0 0;\n",
              "      width: 32px;\n",
              "    }\n",
              "\n",
              "    .colab-df-convert:hover {\n",
              "      background-color: #E2EBFA;\n",
              "      box-shadow: 0px 1px 2px rgba(60, 64, 67, 0.3), 0px 1px 3px 1px rgba(60, 64, 67, 0.15);\n",
              "      fill: #174EA6;\n",
              "    }\n",
              "\n",
              "    [theme=dark] .colab-df-convert {\n",
              "      background-color: #3B4455;\n",
              "      fill: #D2E3FC;\n",
              "    }\n",
              "\n",
              "    [theme=dark] .colab-df-convert:hover {\n",
              "      background-color: #434B5C;\n",
              "      box-shadow: 0px 1px 3px 1px rgba(0, 0, 0, 0.15);\n",
              "      filter: drop-shadow(0px 1px 2px rgba(0, 0, 0, 0.3));\n",
              "      fill: #FFFFFF;\n",
              "    }\n",
              "  </style>\n",
              "\n",
              "      <script>\n",
              "        const buttonEl =\n",
              "          document.querySelector('#df-5e18b679-2506-4332-b43d-88b2b1e5fa48 button.colab-df-convert');\n",
              "        buttonEl.style.display =\n",
              "          google.colab.kernel.accessAllowed ? 'block' : 'none';\n",
              "\n",
              "        async function convertToInteractive(key) {\n",
              "          const element = document.querySelector('#df-5e18b679-2506-4332-b43d-88b2b1e5fa48');\n",
              "          const dataTable =\n",
              "            await google.colab.kernel.invokeFunction('convertToInteractive',\n",
              "                                                     [key], {});\n",
              "          if (!dataTable) return;\n",
              "\n",
              "          const docLinkHtml = 'Like what you see? Visit the ' +\n",
              "            '<a target=\"_blank\" href=https://colab.research.google.com/notebooks/data_table.ipynb>data table notebook</a>'\n",
              "            + ' to learn more about interactive tables.';\n",
              "          element.innerHTML = '';\n",
              "          dataTable['output_type'] = 'display_data';\n",
              "          await google.colab.output.renderOutput(dataTable, element);\n",
              "          const docLink = document.createElement('div');\n",
              "          docLink.innerHTML = docLinkHtml;\n",
              "          element.appendChild(docLink);\n",
              "        }\n",
              "      </script>\n",
              "    </div>\n",
              "  </div>\n",
              "  "
            ]
          },
          "metadata": {},
          "execution_count": 74
        }
      ],
      "source": [
        "#printing some of the data just first columns\n",
        "df.head(10)"
      ]
    },
    {
      "cell_type": "code",
      "execution_count": 75,
      "metadata": {
        "colab": {
          "base_uri": "https://localhost:8080/"
        },
        "id": "6hNgP2cA3Qsd",
        "outputId": "5deb144b-3b7e-4481-87ba-703b933a2cda"
      },
      "outputs": [
        {
          "output_type": "execute_result",
          "data": {
            "text/plain": [
              "(400, 26)"
            ]
          },
          "metadata": {},
          "execution_count": 75
        }
      ],
      "source": [
        "df.shape"
      ]
    },
    {
      "cell_type": "code",
      "execution_count": 76,
      "metadata": {
        "colab": {
          "base_uri": "https://localhost:8080/",
          "height": 320
        },
        "id": "ZmqWMiK_3VzF",
        "outputId": "4fc6ebc9-e7dd-4df8-becf-b301f49c6af8"
      },
      "outputs": [
        {
          "output_type": "execute_result",
          "data": {
            "text/plain": [
              "<pandas.io.formats.style.Styler at 0x7f4cfffb2e50>"
            ],
            "text/html": [
              "<style type=\"text/css\">\n",
              "#T_da91c_row0_col0, #T_da91c_row0_col1, #T_da91c_row0_col2, #T_da91c_row0_col3, #T_da91c_row0_col4, #T_da91c_row0_col5, #T_da91c_row0_col8, #T_da91c_row0_col9, #T_da91c_row0_col10, #T_da91c_row0_col11, #T_da91c_row7_col0, #T_da91c_row7_col6, #T_da91c_row7_col7 {\n",
              "  background-color: #ffc77f;\n",
              "  color: #000000;\n",
              "}\n",
              "#T_da91c_row0_col6 {\n",
              "  background-color: #e18e5b;\n",
              "  color: #f1f1f1;\n",
              "}\n",
              "#T_da91c_row0_col7 {\n",
              "  background-color: #ffc37c;\n",
              "  color: #000000;\n",
              "}\n",
              "#T_da91c_row1_col0, #T_da91c_row5_col0 {\n",
              "  background-color: #9d633f;\n",
              "  color: #f1f1f1;\n",
              "}\n",
              "#T_da91c_row1_col1, #T_da91c_row2_col7 {\n",
              "  background-color: #281910;\n",
              "  color: #f1f1f1;\n",
              "}\n",
              "#T_da91c_row1_col2, #T_da91c_row4_col6, #T_da91c_row6_col7 {\n",
              "  background-color: #342115;\n",
              "  color: #f1f1f1;\n",
              "}\n",
              "#T_da91c_row1_col3, #T_da91c_row1_col4, #T_da91c_row1_col5, #T_da91c_row2_col2, #T_da91c_row2_col3, #T_da91c_row2_col4, #T_da91c_row2_col5, #T_da91c_row2_col10, #T_da91c_row2_col11, #T_da91c_row3_col0, #T_da91c_row3_col1, #T_da91c_row3_col3, #T_da91c_row3_col4, #T_da91c_row3_col5, #T_da91c_row3_col6, #T_da91c_row3_col7, #T_da91c_row3_col8, #T_da91c_row3_col9, #T_da91c_row3_col10, #T_da91c_row3_col11, #T_da91c_row4_col3, #T_da91c_row4_col4, #T_da91c_row4_col5, #T_da91c_row4_col8, #T_da91c_row5_col3, #T_da91c_row5_col4, #T_da91c_row5_col5, #T_da91c_row5_col8, #T_da91c_row6_col3, #T_da91c_row6_col5, #T_da91c_row7_col3 {\n",
              "  background-color: #000000;\n",
              "  color: #f1f1f1;\n",
              "}\n",
              "#T_da91c_row1_col6 {\n",
              "  background-color: #543522;\n",
              "  color: #f1f1f1;\n",
              "}\n",
              "#T_da91c_row1_col7, #T_da91c_row7_col10 {\n",
              "  background-color: #2c1c12;\n",
              "  color: #f1f1f1;\n",
              "}\n",
              "#T_da91c_row1_col8, #T_da91c_row1_col10, #T_da91c_row4_col10, #T_da91c_row5_col10, #T_da91c_row6_col4, #T_da91c_row6_col8, #T_da91c_row6_col10 {\n",
              "  background-color: #010100;\n",
              "  color: #f1f1f1;\n",
              "}\n",
              "#T_da91c_row1_col9, #T_da91c_row5_col9 {\n",
              "  background-color: #885637;\n",
              "  color: #f1f1f1;\n",
              "}\n",
              "#T_da91c_row1_col11, #T_da91c_row5_col11 {\n",
              "  background-color: #090503;\n",
              "  color: #f1f1f1;\n",
              "}\n",
              "#T_da91c_row2_col0 {\n",
              "  background-color: #5a3924;\n",
              "  color: #f1f1f1;\n",
              "}\n",
              "#T_da91c_row2_col1 {\n",
              "  background-color: #0b0704;\n",
              "  color: #f1f1f1;\n",
              "}\n",
              "#T_da91c_row2_col6 {\n",
              "  background-color: #26180f;\n",
              "  color: #f1f1f1;\n",
              "}\n",
              "#T_da91c_row2_col8, #T_da91c_row7_col4, #T_da91c_row7_col5 {\n",
              "  background-color: #040201;\n",
              "  color: #f1f1f1;\n",
              "}\n",
              "#T_da91c_row2_col9 {\n",
              "  background-color: #050302;\n",
              "  color: #f1f1f1;\n",
              "}\n",
              "#T_da91c_row3_col2 {\n",
              "  background-color: #1e130c;\n",
              "  color: #f1f1f1;\n",
              "}\n",
              "#T_da91c_row4_col0 {\n",
              "  background-color: #4e311f;\n",
              "  color: #f1f1f1;\n",
              "}\n",
              "#T_da91c_row4_col1, #T_da91c_row5_col7 {\n",
              "  background-color: #20140d;\n",
              "  color: #f1f1f1;\n",
              "}\n",
              "#T_da91c_row4_col2 {\n",
              "  background-color: #2f1e13;\n",
              "  color: #f1f1f1;\n",
              "}\n",
              "#T_da91c_row4_col7 {\n",
              "  background-color: #140c08;\n",
              "  color: #f1f1f1;\n",
              "}\n",
              "#T_da91c_row4_col9 {\n",
              "  background-color: #855436;\n",
              "  color: #f1f1f1;\n",
              "}\n",
              "#T_da91c_row4_col11 {\n",
              "  background-color: #060402;\n",
              "  color: #f1f1f1;\n",
              "}\n",
              "#T_da91c_row5_col1 {\n",
              "  background-color: #2a1b11;\n",
              "  color: #f1f1f1;\n",
              "}\n",
              "#T_da91c_row5_col2, #T_da91c_row6_col2 {\n",
              "  background-color: #382316;\n",
              "  color: #f1f1f1;\n",
              "}\n",
              "#T_da91c_row5_col6 {\n",
              "  background-color: #432a1b;\n",
              "  color: #f1f1f1;\n",
              "}\n",
              "#T_da91c_row6_col0 {\n",
              "  background-color: #ec955f;\n",
              "  color: #f1f1f1;\n",
              "}\n",
              "#T_da91c_row6_col1 {\n",
              "  background-color: #332014;\n",
              "  color: #f1f1f1;\n",
              "}\n",
              "#T_da91c_row6_col6 {\n",
              "  background-color: #5f3c26;\n",
              "  color: #f1f1f1;\n",
              "}\n",
              "#T_da91c_row6_col9 {\n",
              "  background-color: #8d5939;\n",
              "  color: #f1f1f1;\n",
              "}\n",
              "#T_da91c_row6_col11 {\n",
              "  background-color: #0a0604;\n",
              "  color: #f1f1f1;\n",
              "}\n",
              "#T_da91c_row7_col1 {\n",
              "  background-color: #462d1c;\n",
              "  color: #f1f1f1;\n",
              "}\n",
              "#T_da91c_row7_col2 {\n",
              "  background-color: #8c5838;\n",
              "  color: #f1f1f1;\n",
              "}\n",
              "#T_da91c_row7_col8 {\n",
              "  background-color: #3e2719;\n",
              "  color: #f1f1f1;\n",
              "}\n",
              "#T_da91c_row7_col9 {\n",
              "  background-color: #a26641;\n",
              "  color: #f1f1f1;\n",
              "}\n",
              "#T_da91c_row7_col11 {\n",
              "  background-color: #0e0905;\n",
              "  color: #f1f1f1;\n",
              "}\n",
              "</style>\n",
              "<table id=\"T_da91c_\" class=\"dataframe\">\n",
              "  <thead>\n",
              "    <tr>\n",
              "      <th class=\"blank level0\" >&nbsp;</th>\n",
              "      <th class=\"col_heading level0 col0\" >id</th>\n",
              "      <th class=\"col_heading level0 col1\" >age</th>\n",
              "      <th class=\"col_heading level0 col2\" >bp</th>\n",
              "      <th class=\"col_heading level0 col3\" >sg</th>\n",
              "      <th class=\"col_heading level0 col4\" >al</th>\n",
              "      <th class=\"col_heading level0 col5\" >su</th>\n",
              "      <th class=\"col_heading level0 col6\" >bgr</th>\n",
              "      <th class=\"col_heading level0 col7\" >bu</th>\n",
              "      <th class=\"col_heading level0 col8\" >sc</th>\n",
              "      <th class=\"col_heading level0 col9\" >sod</th>\n",
              "      <th class=\"col_heading level0 col10\" >pot</th>\n",
              "      <th class=\"col_heading level0 col11\" >hemo</th>\n",
              "    </tr>\n",
              "  </thead>\n",
              "  <tbody>\n",
              "    <tr>\n",
              "      <th id=\"T_da91c_level0_row0\" class=\"row_heading level0 row0\" >count</th>\n",
              "      <td id=\"T_da91c_row0_col0\" class=\"data row0 col0\" >400.000000</td>\n",
              "      <td id=\"T_da91c_row0_col1\" class=\"data row0 col1\" >391.000000</td>\n",
              "      <td id=\"T_da91c_row0_col2\" class=\"data row0 col2\" >388.000000</td>\n",
              "      <td id=\"T_da91c_row0_col3\" class=\"data row0 col3\" >353.000000</td>\n",
              "      <td id=\"T_da91c_row0_col4\" class=\"data row0 col4\" >354.000000</td>\n",
              "      <td id=\"T_da91c_row0_col5\" class=\"data row0 col5\" >351.000000</td>\n",
              "      <td id=\"T_da91c_row0_col6\" class=\"data row0 col6\" >356.000000</td>\n",
              "      <td id=\"T_da91c_row0_col7\" class=\"data row0 col7\" >381.000000</td>\n",
              "      <td id=\"T_da91c_row0_col8\" class=\"data row0 col8\" >383.000000</td>\n",
              "      <td id=\"T_da91c_row0_col9\" class=\"data row0 col9\" >313.000000</td>\n",
              "      <td id=\"T_da91c_row0_col10\" class=\"data row0 col10\" >312.000000</td>\n",
              "      <td id=\"T_da91c_row0_col11\" class=\"data row0 col11\" >348.000000</td>\n",
              "    </tr>\n",
              "    <tr>\n",
              "      <th id=\"T_da91c_level0_row1\" class=\"row_heading level0 row1\" >mean</th>\n",
              "      <td id=\"T_da91c_row1_col0\" class=\"data row1 col0\" >199.500000</td>\n",
              "      <td id=\"T_da91c_row1_col1\" class=\"data row1 col1\" >51.483376</td>\n",
              "      <td id=\"T_da91c_row1_col2\" class=\"data row1 col2\" >76.469072</td>\n",
              "      <td id=\"T_da91c_row1_col3\" class=\"data row1 col3\" >1.017408</td>\n",
              "      <td id=\"T_da91c_row1_col4\" class=\"data row1 col4\" >1.016949</td>\n",
              "      <td id=\"T_da91c_row1_col5\" class=\"data row1 col5\" >0.450142</td>\n",
              "      <td id=\"T_da91c_row1_col6\" class=\"data row1 col6\" >148.036517</td>\n",
              "      <td id=\"T_da91c_row1_col7\" class=\"data row1 col7\" >57.425722</td>\n",
              "      <td id=\"T_da91c_row1_col8\" class=\"data row1 col8\" >3.072454</td>\n",
              "      <td id=\"T_da91c_row1_col9\" class=\"data row1 col9\" >137.528754</td>\n",
              "      <td id=\"T_da91c_row1_col10\" class=\"data row1 col10\" >4.627244</td>\n",
              "      <td id=\"T_da91c_row1_col11\" class=\"data row1 col11\" >12.526437</td>\n",
              "    </tr>\n",
              "    <tr>\n",
              "      <th id=\"T_da91c_level0_row2\" class=\"row_heading level0 row2\" >std</th>\n",
              "      <td id=\"T_da91c_row2_col0\" class=\"data row2 col0\" >115.614301</td>\n",
              "      <td id=\"T_da91c_row2_col1\" class=\"data row2 col1\" >17.169714</td>\n",
              "      <td id=\"T_da91c_row2_col2\" class=\"data row2 col2\" >13.683637</td>\n",
              "      <td id=\"T_da91c_row2_col3\" class=\"data row2 col3\" >0.005717</td>\n",
              "      <td id=\"T_da91c_row2_col4\" class=\"data row2 col4\" >1.352679</td>\n",
              "      <td id=\"T_da91c_row2_col5\" class=\"data row2 col5\" >1.099191</td>\n",
              "      <td id=\"T_da91c_row2_col6\" class=\"data row2 col6\" >79.281714</td>\n",
              "      <td id=\"T_da91c_row2_col7\" class=\"data row2 col7\" >50.503006</td>\n",
              "      <td id=\"T_da91c_row2_col8\" class=\"data row2 col8\" >5.741126</td>\n",
              "      <td id=\"T_da91c_row2_col9\" class=\"data row2 col9\" >10.408752</td>\n",
              "      <td id=\"T_da91c_row2_col10\" class=\"data row2 col10\" >3.193904</td>\n",
              "      <td id=\"T_da91c_row2_col11\" class=\"data row2 col11\" >2.912587</td>\n",
              "    </tr>\n",
              "    <tr>\n",
              "      <th id=\"T_da91c_level0_row3\" class=\"row_heading level0 row3\" >min</th>\n",
              "      <td id=\"T_da91c_row3_col0\" class=\"data row3 col0\" >0.000000</td>\n",
              "      <td id=\"T_da91c_row3_col1\" class=\"data row3 col1\" >2.000000</td>\n",
              "      <td id=\"T_da91c_row3_col2\" class=\"data row3 col2\" >50.000000</td>\n",
              "      <td id=\"T_da91c_row3_col3\" class=\"data row3 col3\" >1.005000</td>\n",
              "      <td id=\"T_da91c_row3_col4\" class=\"data row3 col4\" >0.000000</td>\n",
              "      <td id=\"T_da91c_row3_col5\" class=\"data row3 col5\" >0.000000</td>\n",
              "      <td id=\"T_da91c_row3_col6\" class=\"data row3 col6\" >22.000000</td>\n",
              "      <td id=\"T_da91c_row3_col7\" class=\"data row3 col7\" >1.500000</td>\n",
              "      <td id=\"T_da91c_row3_col8\" class=\"data row3 col8\" >0.400000</td>\n",
              "      <td id=\"T_da91c_row3_col9\" class=\"data row3 col9\" >4.500000</td>\n",
              "      <td id=\"T_da91c_row3_col10\" class=\"data row3 col10\" >2.500000</td>\n",
              "      <td id=\"T_da91c_row3_col11\" class=\"data row3 col11\" >3.100000</td>\n",
              "    </tr>\n",
              "    <tr>\n",
              "      <th id=\"T_da91c_level0_row4\" class=\"row_heading level0 row4\" >25%</th>\n",
              "      <td id=\"T_da91c_row4_col0\" class=\"data row4 col0\" >99.750000</td>\n",
              "      <td id=\"T_da91c_row4_col1\" class=\"data row4 col1\" >42.000000</td>\n",
              "      <td id=\"T_da91c_row4_col2\" class=\"data row4 col2\" >70.000000</td>\n",
              "      <td id=\"T_da91c_row4_col3\" class=\"data row4 col3\" >1.010000</td>\n",
              "      <td id=\"T_da91c_row4_col4\" class=\"data row4 col4\" >0.000000</td>\n",
              "      <td id=\"T_da91c_row4_col5\" class=\"data row4 col5\" >0.000000</td>\n",
              "      <td id=\"T_da91c_row4_col6\" class=\"data row4 col6\" >99.000000</td>\n",
              "      <td id=\"T_da91c_row4_col7\" class=\"data row4 col7\" >27.000000</td>\n",
              "      <td id=\"T_da91c_row4_col8\" class=\"data row4 col8\" >0.900000</td>\n",
              "      <td id=\"T_da91c_row4_col9\" class=\"data row4 col9\" >135.000000</td>\n",
              "      <td id=\"T_da91c_row4_col10\" class=\"data row4 col10\" >3.800000</td>\n",
              "      <td id=\"T_da91c_row4_col11\" class=\"data row4 col11\" >10.300000</td>\n",
              "    </tr>\n",
              "    <tr>\n",
              "      <th id=\"T_da91c_level0_row5\" class=\"row_heading level0 row5\" >50%</th>\n",
              "      <td id=\"T_da91c_row5_col0\" class=\"data row5 col0\" >199.500000</td>\n",
              "      <td id=\"T_da91c_row5_col1\" class=\"data row5 col1\" >55.000000</td>\n",
              "      <td id=\"T_da91c_row5_col2\" class=\"data row5 col2\" >80.000000</td>\n",
              "      <td id=\"T_da91c_row5_col3\" class=\"data row5 col3\" >1.020000</td>\n",
              "      <td id=\"T_da91c_row5_col4\" class=\"data row5 col4\" >0.000000</td>\n",
              "      <td id=\"T_da91c_row5_col5\" class=\"data row5 col5\" >0.000000</td>\n",
              "      <td id=\"T_da91c_row5_col6\" class=\"data row5 col6\" >121.000000</td>\n",
              "      <td id=\"T_da91c_row5_col7\" class=\"data row5 col7\" >42.000000</td>\n",
              "      <td id=\"T_da91c_row5_col8\" class=\"data row5 col8\" >1.300000</td>\n",
              "      <td id=\"T_da91c_row5_col9\" class=\"data row5 col9\" >138.000000</td>\n",
              "      <td id=\"T_da91c_row5_col10\" class=\"data row5 col10\" >4.400000</td>\n",
              "      <td id=\"T_da91c_row5_col11\" class=\"data row5 col11\" >12.650000</td>\n",
              "    </tr>\n",
              "    <tr>\n",
              "      <th id=\"T_da91c_level0_row6\" class=\"row_heading level0 row6\" >75%</th>\n",
              "      <td id=\"T_da91c_row6_col0\" class=\"data row6 col0\" >299.250000</td>\n",
              "      <td id=\"T_da91c_row6_col1\" class=\"data row6 col1\" >64.500000</td>\n",
              "      <td id=\"T_da91c_row6_col2\" class=\"data row6 col2\" >80.000000</td>\n",
              "      <td id=\"T_da91c_row6_col3\" class=\"data row6 col3\" >1.020000</td>\n",
              "      <td id=\"T_da91c_row6_col4\" class=\"data row6 col4\" >2.000000</td>\n",
              "      <td id=\"T_da91c_row6_col5\" class=\"data row6 col5\" >0.000000</td>\n",
              "      <td id=\"T_da91c_row6_col6\" class=\"data row6 col6\" >163.000000</td>\n",
              "      <td id=\"T_da91c_row6_col7\" class=\"data row6 col7\" >66.000000</td>\n",
              "      <td id=\"T_da91c_row6_col8\" class=\"data row6 col8\" >2.800000</td>\n",
              "      <td id=\"T_da91c_row6_col9\" class=\"data row6 col9\" >142.000000</td>\n",
              "      <td id=\"T_da91c_row6_col10\" class=\"data row6 col10\" >4.900000</td>\n",
              "      <td id=\"T_da91c_row6_col11\" class=\"data row6 col11\" >15.000000</td>\n",
              "    </tr>\n",
              "    <tr>\n",
              "      <th id=\"T_da91c_level0_row7\" class=\"row_heading level0 row7\" >max</th>\n",
              "      <td id=\"T_da91c_row7_col0\" class=\"data row7 col0\" >399.000000</td>\n",
              "      <td id=\"T_da91c_row7_col1\" class=\"data row7 col1\" >90.000000</td>\n",
              "      <td id=\"T_da91c_row7_col2\" class=\"data row7 col2\" >180.000000</td>\n",
              "      <td id=\"T_da91c_row7_col3\" class=\"data row7 col3\" >1.025000</td>\n",
              "      <td id=\"T_da91c_row7_col4\" class=\"data row7 col4\" >5.000000</td>\n",
              "      <td id=\"T_da91c_row7_col5\" class=\"data row7 col5\" >5.000000</td>\n",
              "      <td id=\"T_da91c_row7_col6\" class=\"data row7 col6\" >490.000000</td>\n",
              "      <td id=\"T_da91c_row7_col7\" class=\"data row7 col7\" >391.000000</td>\n",
              "      <td id=\"T_da91c_row7_col8\" class=\"data row7 col8\" >76.000000</td>\n",
              "      <td id=\"T_da91c_row7_col9\" class=\"data row7 col9\" >163.000000</td>\n",
              "      <td id=\"T_da91c_row7_col10\" class=\"data row7 col10\" >47.000000</td>\n",
              "      <td id=\"T_da91c_row7_col11\" class=\"data row7 col11\" >17.800000</td>\n",
              "    </tr>\n",
              "  </tbody>\n",
              "</table>\n"
            ]
          },
          "metadata": {},
          "execution_count": 76
        }
      ],
      "source": [
        "df.describe().style.background_gradient(cmap = 'copper')"
      ]
    },
    {
      "cell_type": "code",
      "execution_count": 77,
      "metadata": {
        "colab": {
          "base_uri": "https://localhost:8080/"
        },
        "id": "iYPHhdG34K9u",
        "outputId": "a79c5231-ce11-4418-8487-c3127aa2b03a"
      },
      "outputs": [
        {
          "output_type": "stream",
          "name": "stdout",
          "text": [
            "<class 'pandas.core.frame.DataFrame'>\n",
            "RangeIndex: 400 entries, 0 to 399\n",
            "Data columns (total 26 columns):\n",
            " #   Column          Non-Null Count  Dtype  \n",
            "---  ------          --------------  -----  \n",
            " 0   id              400 non-null    int64  \n",
            " 1   age             391 non-null    float64\n",
            " 2   bp              388 non-null    float64\n",
            " 3   sg              353 non-null    float64\n",
            " 4   al              354 non-null    float64\n",
            " 5   su              351 non-null    float64\n",
            " 6   rbc             248 non-null    object \n",
            " 7   pc              335 non-null    object \n",
            " 8   pcc             396 non-null    object \n",
            " 9   ba              396 non-null    object \n",
            " 10  bgr             356 non-null    float64\n",
            " 11  bu              381 non-null    float64\n",
            " 12  sc              383 non-null    float64\n",
            " 13  sod             313 non-null    float64\n",
            " 14  pot             312 non-null    float64\n",
            " 15  hemo            348 non-null    float64\n",
            " 16  pcv             330 non-null    object \n",
            " 17  wc              295 non-null    object \n",
            " 18  rc              270 non-null    object \n",
            " 19  htn             398 non-null    object \n",
            " 20  dm              398 non-null    object \n",
            " 21  cad             398 non-null    object \n",
            " 22  appet           399 non-null    object \n",
            " 23  pe              399 non-null    object \n",
            " 24  ane             399 non-null    object \n",
            " 25  classification  400 non-null    object \n",
            "dtypes: float64(11), int64(1), object(14)\n",
            "memory usage: 81.4+ KB\n"
          ]
        }
      ],
      "source": [
        "df.info()"
      ]
    },
    {
      "cell_type": "code",
      "execution_count": 78,
      "metadata": {
        "id": "W90o8UIz4QnS"
      },
      "outputs": [],
      "source": [
        "#dropping id column\n",
        "df.drop('id',axis=1,inplace=True)"
      ]
    },
    {
      "cell_type": "code",
      "execution_count": 79,
      "metadata": {
        "id": "pGNEtFPb4cKL"
      },
      "outputs": [],
      "source": [
        "#renaming the columns of the dataset\n",
        "df.columns = ['age', 'blood_pressure', 'specific_gravity', 'albumin', 'sugar', 'red_blood_cells', 'pus_cell',\n",
        "              'pus_cell_clumps', 'bacteria', 'blood_glucose_random', 'blood_urea', 'serum_creatinine', 'sodium',\n",
        "              'potassium', 'haemoglobin', 'packed_cell_volume', 'white_blood_cell_count', 'red_blood_cell_count',\n",
        "              'hypertension', 'diabetes_mellitus', 'coronary_artery_disease', 'appetite', 'pedal_edema',\n",
        "              'anemia', 'class']"
      ]
    },
    {
      "cell_type": "code",
      "execution_count": 80,
      "metadata": {
        "colab": {
          "base_uri": "https://localhost:8080/"
        },
        "id": "9cSqztm75fy9",
        "outputId": "e06b3cc1-57ae-403c-b4a5-c615c2598830"
      },
      "outputs": [
        {
          "output_type": "stream",
          "name": "stdout",
          "text": [
            "<class 'pandas.core.frame.DataFrame'>\n",
            "RangeIndex: 400 entries, 0 to 399\n",
            "Data columns (total 25 columns):\n",
            " #   Column                   Non-Null Count  Dtype  \n",
            "---  ------                   --------------  -----  \n",
            " 0   age                      391 non-null    float64\n",
            " 1   blood_pressure           388 non-null    float64\n",
            " 2   specific_gravity         353 non-null    float64\n",
            " 3   albumin                  354 non-null    float64\n",
            " 4   sugar                    351 non-null    float64\n",
            " 5   red_blood_cells          248 non-null    object \n",
            " 6   pus_cell                 335 non-null    object \n",
            " 7   pus_cell_clumps          396 non-null    object \n",
            " 8   bacteria                 396 non-null    object \n",
            " 9   blood_glucose_random     356 non-null    float64\n",
            " 10  blood_urea               381 non-null    float64\n",
            " 11  serum_creatinine         383 non-null    float64\n",
            " 12  sodium                   313 non-null    float64\n",
            " 13  potassium                312 non-null    float64\n",
            " 14  haemoglobin              348 non-null    float64\n",
            " 15  packed_cell_volume       330 non-null    object \n",
            " 16  white_blood_cell_count   295 non-null    object \n",
            " 17  red_blood_cell_count     270 non-null    object \n",
            " 18  hypertension             398 non-null    object \n",
            " 19  diabetes_mellitus        398 non-null    object \n",
            " 20  coronary_artery_disease  398 non-null    object \n",
            " 21  appetite                 399 non-null    object \n",
            " 22  pedal_edema              399 non-null    object \n",
            " 23  anemia                   399 non-null    object \n",
            " 24  class                    400 non-null    object \n",
            "dtypes: float64(11), object(14)\n",
            "memory usage: 78.2+ KB\n"
          ]
        }
      ],
      "source": [
        "df.info()"
      ]
    },
    {
      "cell_type": "code",
      "execution_count": 81,
      "metadata": {
        "colab": {
          "base_uri": "https://localhost:8080/",
          "height": 427
        },
        "id": "kgjlnYDm5w6Y",
        "outputId": "4166b7e4-e664-4249-fc19-d27aa4587118"
      },
      "outputs": [
        {
          "output_type": "execute_result",
          "data": {
            "text/plain": [
              "    age  blood_pressure  specific_gravity  albumin  sugar red_blood_cells  \\\n",
              "0  48.0            80.0             1.020      1.0    0.0             NaN   \n",
              "1   7.0            50.0             1.020      4.0    0.0             NaN   \n",
              "2  62.0            80.0             1.010      2.0    3.0          normal   \n",
              "3  48.0            70.0             1.005      4.0    0.0          normal   \n",
              "4  51.0            80.0             1.010      2.0    0.0          normal   \n",
              "5  60.0            90.0             1.015      3.0    0.0             NaN   \n",
              "6  68.0            70.0             1.010      0.0    0.0             NaN   \n",
              "7  24.0             NaN             1.015      2.0    4.0          normal   \n",
              "8  52.0           100.0             1.015      3.0    0.0          normal   \n",
              "9  53.0            90.0             1.020      2.0    0.0        abnormal   \n",
              "\n",
              "   pus_cell pus_cell_clumps    bacteria  blood_glucose_random  blood_urea  \\\n",
              "0    normal      notpresent  notpresent                 121.0        36.0   \n",
              "1    normal      notpresent  notpresent                   NaN        18.0   \n",
              "2    normal      notpresent  notpresent                 423.0        53.0   \n",
              "3  abnormal         present  notpresent                 117.0        56.0   \n",
              "4    normal      notpresent  notpresent                 106.0        26.0   \n",
              "5       NaN      notpresent  notpresent                  74.0        25.0   \n",
              "6    normal      notpresent  notpresent                 100.0        54.0   \n",
              "7  abnormal      notpresent  notpresent                 410.0        31.0   \n",
              "8  abnormal         present  notpresent                 138.0        60.0   \n",
              "9  abnormal         present  notpresent                  70.0       107.0   \n",
              "\n",
              "   serum_creatinine  sodium  potassium  haemoglobin packed_cell_volume  \\\n",
              "0               1.2     NaN        NaN         15.4                 44   \n",
              "1               0.8     NaN        NaN         11.3                 38   \n",
              "2               1.8     NaN        NaN          9.6                 31   \n",
              "3               3.8   111.0        2.5         11.2                 32   \n",
              "4               1.4     NaN        NaN         11.6                 35   \n",
              "5               1.1   142.0        3.2         12.2                 39   \n",
              "6              24.0   104.0        4.0         12.4                 36   \n",
              "7               1.1     NaN        NaN         12.4                 44   \n",
              "8               1.9     NaN        NaN         10.8                 33   \n",
              "9               7.2   114.0        3.7          9.5                 29   \n",
              "\n",
              "  white_blood_cell_count red_blood_cell_count hypertension diabetes_mellitus  \\\n",
              "0                   7800                  5.2          yes               yes   \n",
              "1                   6000                  NaN           no                no   \n",
              "2                   7500                  NaN           no               yes   \n",
              "3                   6700                  3.9          yes                no   \n",
              "4                   7300                  4.6           no                no   \n",
              "5                   7800                  4.4          yes               yes   \n",
              "6                    NaN                  NaN           no                no   \n",
              "7                   6900                    5           no               yes   \n",
              "8                   9600                    4          yes               yes   \n",
              "9                  12100                  3.7          yes               yes   \n",
              "\n",
              "  coronary_artery_disease appetite pedal_edema anemia class  \n",
              "0                      no     good          no     no   ckd  \n",
              "1                      no     good          no     no   ckd  \n",
              "2                      no     poor          no    yes   ckd  \n",
              "3                      no     poor         yes    yes   ckd  \n",
              "4                      no     good          no     no   ckd  \n",
              "5                      no     good         yes     no   ckd  \n",
              "6                      no     good          no     no   ckd  \n",
              "7                      no     good         yes     no   ckd  \n",
              "8                      no     good          no    yes   ckd  \n",
              "9                      no     poor          no    yes   ckd  "
            ],
            "text/html": [
              "\n",
              "  <div id=\"df-36a17a72-e238-4c6a-888b-5ae0fbd1257d\">\n",
              "    <div class=\"colab-df-container\">\n",
              "      <div>\n",
              "<style scoped>\n",
              "    .dataframe tbody tr th:only-of-type {\n",
              "        vertical-align: middle;\n",
              "    }\n",
              "\n",
              "    .dataframe tbody tr th {\n",
              "        vertical-align: top;\n",
              "    }\n",
              "\n",
              "    .dataframe thead th {\n",
              "        text-align: right;\n",
              "    }\n",
              "</style>\n",
              "<table border=\"1\" class=\"dataframe\">\n",
              "  <thead>\n",
              "    <tr style=\"text-align: right;\">\n",
              "      <th></th>\n",
              "      <th>age</th>\n",
              "      <th>blood_pressure</th>\n",
              "      <th>specific_gravity</th>\n",
              "      <th>albumin</th>\n",
              "      <th>sugar</th>\n",
              "      <th>red_blood_cells</th>\n",
              "      <th>pus_cell</th>\n",
              "      <th>pus_cell_clumps</th>\n",
              "      <th>bacteria</th>\n",
              "      <th>blood_glucose_random</th>\n",
              "      <th>blood_urea</th>\n",
              "      <th>serum_creatinine</th>\n",
              "      <th>sodium</th>\n",
              "      <th>potassium</th>\n",
              "      <th>haemoglobin</th>\n",
              "      <th>packed_cell_volume</th>\n",
              "      <th>white_blood_cell_count</th>\n",
              "      <th>red_blood_cell_count</th>\n",
              "      <th>hypertension</th>\n",
              "      <th>diabetes_mellitus</th>\n",
              "      <th>coronary_artery_disease</th>\n",
              "      <th>appetite</th>\n",
              "      <th>pedal_edema</th>\n",
              "      <th>anemia</th>\n",
              "      <th>class</th>\n",
              "    </tr>\n",
              "  </thead>\n",
              "  <tbody>\n",
              "    <tr>\n",
              "      <th>0</th>\n",
              "      <td>48.0</td>\n",
              "      <td>80.0</td>\n",
              "      <td>1.020</td>\n",
              "      <td>1.0</td>\n",
              "      <td>0.0</td>\n",
              "      <td>NaN</td>\n",
              "      <td>normal</td>\n",
              "      <td>notpresent</td>\n",
              "      <td>notpresent</td>\n",
              "      <td>121.0</td>\n",
              "      <td>36.0</td>\n",
              "      <td>1.2</td>\n",
              "      <td>NaN</td>\n",
              "      <td>NaN</td>\n",
              "      <td>15.4</td>\n",
              "      <td>44</td>\n",
              "      <td>7800</td>\n",
              "      <td>5.2</td>\n",
              "      <td>yes</td>\n",
              "      <td>yes</td>\n",
              "      <td>no</td>\n",
              "      <td>good</td>\n",
              "      <td>no</td>\n",
              "      <td>no</td>\n",
              "      <td>ckd</td>\n",
              "    </tr>\n",
              "    <tr>\n",
              "      <th>1</th>\n",
              "      <td>7.0</td>\n",
              "      <td>50.0</td>\n",
              "      <td>1.020</td>\n",
              "      <td>4.0</td>\n",
              "      <td>0.0</td>\n",
              "      <td>NaN</td>\n",
              "      <td>normal</td>\n",
              "      <td>notpresent</td>\n",
              "      <td>notpresent</td>\n",
              "      <td>NaN</td>\n",
              "      <td>18.0</td>\n",
              "      <td>0.8</td>\n",
              "      <td>NaN</td>\n",
              "      <td>NaN</td>\n",
              "      <td>11.3</td>\n",
              "      <td>38</td>\n",
              "      <td>6000</td>\n",
              "      <td>NaN</td>\n",
              "      <td>no</td>\n",
              "      <td>no</td>\n",
              "      <td>no</td>\n",
              "      <td>good</td>\n",
              "      <td>no</td>\n",
              "      <td>no</td>\n",
              "      <td>ckd</td>\n",
              "    </tr>\n",
              "    <tr>\n",
              "      <th>2</th>\n",
              "      <td>62.0</td>\n",
              "      <td>80.0</td>\n",
              "      <td>1.010</td>\n",
              "      <td>2.0</td>\n",
              "      <td>3.0</td>\n",
              "      <td>normal</td>\n",
              "      <td>normal</td>\n",
              "      <td>notpresent</td>\n",
              "      <td>notpresent</td>\n",
              "      <td>423.0</td>\n",
              "      <td>53.0</td>\n",
              "      <td>1.8</td>\n",
              "      <td>NaN</td>\n",
              "      <td>NaN</td>\n",
              "      <td>9.6</td>\n",
              "      <td>31</td>\n",
              "      <td>7500</td>\n",
              "      <td>NaN</td>\n",
              "      <td>no</td>\n",
              "      <td>yes</td>\n",
              "      <td>no</td>\n",
              "      <td>poor</td>\n",
              "      <td>no</td>\n",
              "      <td>yes</td>\n",
              "      <td>ckd</td>\n",
              "    </tr>\n",
              "    <tr>\n",
              "      <th>3</th>\n",
              "      <td>48.0</td>\n",
              "      <td>70.0</td>\n",
              "      <td>1.005</td>\n",
              "      <td>4.0</td>\n",
              "      <td>0.0</td>\n",
              "      <td>normal</td>\n",
              "      <td>abnormal</td>\n",
              "      <td>present</td>\n",
              "      <td>notpresent</td>\n",
              "      <td>117.0</td>\n",
              "      <td>56.0</td>\n",
              "      <td>3.8</td>\n",
              "      <td>111.0</td>\n",
              "      <td>2.5</td>\n",
              "      <td>11.2</td>\n",
              "      <td>32</td>\n",
              "      <td>6700</td>\n",
              "      <td>3.9</td>\n",
              "      <td>yes</td>\n",
              "      <td>no</td>\n",
              "      <td>no</td>\n",
              "      <td>poor</td>\n",
              "      <td>yes</td>\n",
              "      <td>yes</td>\n",
              "      <td>ckd</td>\n",
              "    </tr>\n",
              "    <tr>\n",
              "      <th>4</th>\n",
              "      <td>51.0</td>\n",
              "      <td>80.0</td>\n",
              "      <td>1.010</td>\n",
              "      <td>2.0</td>\n",
              "      <td>0.0</td>\n",
              "      <td>normal</td>\n",
              "      <td>normal</td>\n",
              "      <td>notpresent</td>\n",
              "      <td>notpresent</td>\n",
              "      <td>106.0</td>\n",
              "      <td>26.0</td>\n",
              "      <td>1.4</td>\n",
              "      <td>NaN</td>\n",
              "      <td>NaN</td>\n",
              "      <td>11.6</td>\n",
              "      <td>35</td>\n",
              "      <td>7300</td>\n",
              "      <td>4.6</td>\n",
              "      <td>no</td>\n",
              "      <td>no</td>\n",
              "      <td>no</td>\n",
              "      <td>good</td>\n",
              "      <td>no</td>\n",
              "      <td>no</td>\n",
              "      <td>ckd</td>\n",
              "    </tr>\n",
              "    <tr>\n",
              "      <th>5</th>\n",
              "      <td>60.0</td>\n",
              "      <td>90.0</td>\n",
              "      <td>1.015</td>\n",
              "      <td>3.0</td>\n",
              "      <td>0.0</td>\n",
              "      <td>NaN</td>\n",
              "      <td>NaN</td>\n",
              "      <td>notpresent</td>\n",
              "      <td>notpresent</td>\n",
              "      <td>74.0</td>\n",
              "      <td>25.0</td>\n",
              "      <td>1.1</td>\n",
              "      <td>142.0</td>\n",
              "      <td>3.2</td>\n",
              "      <td>12.2</td>\n",
              "      <td>39</td>\n",
              "      <td>7800</td>\n",
              "      <td>4.4</td>\n",
              "      <td>yes</td>\n",
              "      <td>yes</td>\n",
              "      <td>no</td>\n",
              "      <td>good</td>\n",
              "      <td>yes</td>\n",
              "      <td>no</td>\n",
              "      <td>ckd</td>\n",
              "    </tr>\n",
              "    <tr>\n",
              "      <th>6</th>\n",
              "      <td>68.0</td>\n",
              "      <td>70.0</td>\n",
              "      <td>1.010</td>\n",
              "      <td>0.0</td>\n",
              "      <td>0.0</td>\n",
              "      <td>NaN</td>\n",
              "      <td>normal</td>\n",
              "      <td>notpresent</td>\n",
              "      <td>notpresent</td>\n",
              "      <td>100.0</td>\n",
              "      <td>54.0</td>\n",
              "      <td>24.0</td>\n",
              "      <td>104.0</td>\n",
              "      <td>4.0</td>\n",
              "      <td>12.4</td>\n",
              "      <td>36</td>\n",
              "      <td>NaN</td>\n",
              "      <td>NaN</td>\n",
              "      <td>no</td>\n",
              "      <td>no</td>\n",
              "      <td>no</td>\n",
              "      <td>good</td>\n",
              "      <td>no</td>\n",
              "      <td>no</td>\n",
              "      <td>ckd</td>\n",
              "    </tr>\n",
              "    <tr>\n",
              "      <th>7</th>\n",
              "      <td>24.0</td>\n",
              "      <td>NaN</td>\n",
              "      <td>1.015</td>\n",
              "      <td>2.0</td>\n",
              "      <td>4.0</td>\n",
              "      <td>normal</td>\n",
              "      <td>abnormal</td>\n",
              "      <td>notpresent</td>\n",
              "      <td>notpresent</td>\n",
              "      <td>410.0</td>\n",
              "      <td>31.0</td>\n",
              "      <td>1.1</td>\n",
              "      <td>NaN</td>\n",
              "      <td>NaN</td>\n",
              "      <td>12.4</td>\n",
              "      <td>44</td>\n",
              "      <td>6900</td>\n",
              "      <td>5</td>\n",
              "      <td>no</td>\n",
              "      <td>yes</td>\n",
              "      <td>no</td>\n",
              "      <td>good</td>\n",
              "      <td>yes</td>\n",
              "      <td>no</td>\n",
              "      <td>ckd</td>\n",
              "    </tr>\n",
              "    <tr>\n",
              "      <th>8</th>\n",
              "      <td>52.0</td>\n",
              "      <td>100.0</td>\n",
              "      <td>1.015</td>\n",
              "      <td>3.0</td>\n",
              "      <td>0.0</td>\n",
              "      <td>normal</td>\n",
              "      <td>abnormal</td>\n",
              "      <td>present</td>\n",
              "      <td>notpresent</td>\n",
              "      <td>138.0</td>\n",
              "      <td>60.0</td>\n",
              "      <td>1.9</td>\n",
              "      <td>NaN</td>\n",
              "      <td>NaN</td>\n",
              "      <td>10.8</td>\n",
              "      <td>33</td>\n",
              "      <td>9600</td>\n",
              "      <td>4</td>\n",
              "      <td>yes</td>\n",
              "      <td>yes</td>\n",
              "      <td>no</td>\n",
              "      <td>good</td>\n",
              "      <td>no</td>\n",
              "      <td>yes</td>\n",
              "      <td>ckd</td>\n",
              "    </tr>\n",
              "    <tr>\n",
              "      <th>9</th>\n",
              "      <td>53.0</td>\n",
              "      <td>90.0</td>\n",
              "      <td>1.020</td>\n",
              "      <td>2.0</td>\n",
              "      <td>0.0</td>\n",
              "      <td>abnormal</td>\n",
              "      <td>abnormal</td>\n",
              "      <td>present</td>\n",
              "      <td>notpresent</td>\n",
              "      <td>70.0</td>\n",
              "      <td>107.0</td>\n",
              "      <td>7.2</td>\n",
              "      <td>114.0</td>\n",
              "      <td>3.7</td>\n",
              "      <td>9.5</td>\n",
              "      <td>29</td>\n",
              "      <td>12100</td>\n",
              "      <td>3.7</td>\n",
              "      <td>yes</td>\n",
              "      <td>yes</td>\n",
              "      <td>no</td>\n",
              "      <td>poor</td>\n",
              "      <td>no</td>\n",
              "      <td>yes</td>\n",
              "      <td>ckd</td>\n",
              "    </tr>\n",
              "  </tbody>\n",
              "</table>\n",
              "</div>\n",
              "      <button class=\"colab-df-convert\" onclick=\"convertToInteractive('df-36a17a72-e238-4c6a-888b-5ae0fbd1257d')\"\n",
              "              title=\"Convert this dataframe to an interactive table.\"\n",
              "              style=\"display:none;\">\n",
              "        \n",
              "  <svg xmlns=\"http://www.w3.org/2000/svg\" height=\"24px\"viewBox=\"0 0 24 24\"\n",
              "       width=\"24px\">\n",
              "    <path d=\"M0 0h24v24H0V0z\" fill=\"none\"/>\n",
              "    <path d=\"M18.56 5.44l.94 2.06.94-2.06 2.06-.94-2.06-.94-.94-2.06-.94 2.06-2.06.94zm-11 1L8.5 8.5l.94-2.06 2.06-.94-2.06-.94L8.5 2.5l-.94 2.06-2.06.94zm10 10l.94 2.06.94-2.06 2.06-.94-2.06-.94-.94-2.06-.94 2.06-2.06.94z\"/><path d=\"M17.41 7.96l-1.37-1.37c-.4-.4-.92-.59-1.43-.59-.52 0-1.04.2-1.43.59L10.3 9.45l-7.72 7.72c-.78.78-.78 2.05 0 2.83L4 21.41c.39.39.9.59 1.41.59.51 0 1.02-.2 1.41-.59l7.78-7.78 2.81-2.81c.8-.78.8-2.07 0-2.86zM5.41 20L4 18.59l7.72-7.72 1.47 1.35L5.41 20z\"/>\n",
              "  </svg>\n",
              "      </button>\n",
              "      \n",
              "  <style>\n",
              "    .colab-df-container {\n",
              "      display:flex;\n",
              "      flex-wrap:wrap;\n",
              "      gap: 12px;\n",
              "    }\n",
              "\n",
              "    .colab-df-convert {\n",
              "      background-color: #E8F0FE;\n",
              "      border: none;\n",
              "      border-radius: 50%;\n",
              "      cursor: pointer;\n",
              "      display: none;\n",
              "      fill: #1967D2;\n",
              "      height: 32px;\n",
              "      padding: 0 0 0 0;\n",
              "      width: 32px;\n",
              "    }\n",
              "\n",
              "    .colab-df-convert:hover {\n",
              "      background-color: #E2EBFA;\n",
              "      box-shadow: 0px 1px 2px rgba(60, 64, 67, 0.3), 0px 1px 3px 1px rgba(60, 64, 67, 0.15);\n",
              "      fill: #174EA6;\n",
              "    }\n",
              "\n",
              "    [theme=dark] .colab-df-convert {\n",
              "      background-color: #3B4455;\n",
              "      fill: #D2E3FC;\n",
              "    }\n",
              "\n",
              "    [theme=dark] .colab-df-convert:hover {\n",
              "      background-color: #434B5C;\n",
              "      box-shadow: 0px 1px 3px 1px rgba(0, 0, 0, 0.15);\n",
              "      filter: drop-shadow(0px 1px 2px rgba(0, 0, 0, 0.3));\n",
              "      fill: #FFFFFF;\n",
              "    }\n",
              "  </style>\n",
              "\n",
              "      <script>\n",
              "        const buttonEl =\n",
              "          document.querySelector('#df-36a17a72-e238-4c6a-888b-5ae0fbd1257d button.colab-df-convert');\n",
              "        buttonEl.style.display =\n",
              "          google.colab.kernel.accessAllowed ? 'block' : 'none';\n",
              "\n",
              "        async function convertToInteractive(key) {\n",
              "          const element = document.querySelector('#df-36a17a72-e238-4c6a-888b-5ae0fbd1257d');\n",
              "          const dataTable =\n",
              "            await google.colab.kernel.invokeFunction('convertToInteractive',\n",
              "                                                     [key], {});\n",
              "          if (!dataTable) return;\n",
              "\n",
              "          const docLinkHtml = 'Like what you see? Visit the ' +\n",
              "            '<a target=\"_blank\" href=https://colab.research.google.com/notebooks/data_table.ipynb>data table notebook</a>'\n",
              "            + ' to learn more about interactive tables.';\n",
              "          element.innerHTML = '';\n",
              "          dataTable['output_type'] = 'display_data';\n",
              "          await google.colab.output.renderOutput(dataTable, element);\n",
              "          const docLink = document.createElement('div');\n",
              "          docLink.innerHTML = docLinkHtml;\n",
              "          element.appendChild(docLink);\n",
              "        }\n",
              "      </script>\n",
              "    </div>\n",
              "  </div>\n",
              "  "
            ]
          },
          "metadata": {},
          "execution_count": 81
        }
      ],
      "source": [
        "df.head(10)"
      ]
    },
    {
      "cell_type": "code",
      "execution_count": 82,
      "metadata": {
        "id": "xfXJ_r8g57CV"
      },
      "outputs": [],
      "source": [
        "#conversion of specific columns to numeric type \n",
        "df['packed_cell_volume'] = pd.to_numeric(df['packed_cell_volume'], errors='coerce')\n",
        "df['white_blood_cell_count'] = pd.to_numeric(df['white_blood_cell_count'], errors='coerce')\n",
        "df['red_blood_cell_count'] = pd.to_numeric(df['red_blood_cell_count'], errors='coerce')"
      ]
    },
    {
      "cell_type": "code",
      "execution_count": 83,
      "metadata": {
        "colab": {
          "base_uri": "https://localhost:8080/"
        },
        "id": "FnbyFSdI6Qpb",
        "outputId": "5449c33a-c029-46ca-9d3e-86bffebd91b5"
      },
      "outputs": [
        {
          "output_type": "stream",
          "name": "stdout",
          "text": [
            "<class 'pandas.core.frame.DataFrame'>\n",
            "RangeIndex: 400 entries, 0 to 399\n",
            "Data columns (total 25 columns):\n",
            " #   Column                   Non-Null Count  Dtype  \n",
            "---  ------                   --------------  -----  \n",
            " 0   age                      391 non-null    float64\n",
            " 1   blood_pressure           388 non-null    float64\n",
            " 2   specific_gravity         353 non-null    float64\n",
            " 3   albumin                  354 non-null    float64\n",
            " 4   sugar                    351 non-null    float64\n",
            " 5   red_blood_cells          248 non-null    object \n",
            " 6   pus_cell                 335 non-null    object \n",
            " 7   pus_cell_clumps          396 non-null    object \n",
            " 8   bacteria                 396 non-null    object \n",
            " 9   blood_glucose_random     356 non-null    float64\n",
            " 10  blood_urea               381 non-null    float64\n",
            " 11  serum_creatinine         383 non-null    float64\n",
            " 12  sodium                   313 non-null    float64\n",
            " 13  potassium                312 non-null    float64\n",
            " 14  haemoglobin              348 non-null    float64\n",
            " 15  packed_cell_volume       329 non-null    float64\n",
            " 16  white_blood_cell_count   294 non-null    float64\n",
            " 17  red_blood_cell_count     269 non-null    float64\n",
            " 18  hypertension             398 non-null    object \n",
            " 19  diabetes_mellitus        398 non-null    object \n",
            " 20  coronary_artery_disease  398 non-null    object \n",
            " 21  appetite                 399 non-null    object \n",
            " 22  pedal_edema              399 non-null    object \n",
            " 23  anemia                   399 non-null    object \n",
            " 24  class                    400 non-null    object \n",
            "dtypes: float64(14), object(11)\n",
            "memory usage: 78.2+ KB\n"
          ]
        }
      ],
      "source": [
        "df.info()"
      ]
    },
    {
      "cell_type": "code",
      "execution_count": 84,
      "metadata": {
        "id": "xt_CytZL6vaJ"
      },
      "outputs": [],
      "source": [
        "#correcting the values of the data\n",
        "df['diabetes_mellitus'].replace(to_replace = {'\\tno':'no','\\tyes':'yes',' yes':'yes'},inplace=True)\n",
        "df['coronary_artery_disease'] = df['coronary_artery_disease'].replace(to_replace = '\\tno', value='no')\n",
        "df['class'] = df['class'].replace(to_replace = {'ckd\\t': 'ckd', 'notckd': 'not ckd'})"
      ]
    },
    {
      "cell_type": "code",
      "execution_count": 85,
      "metadata": {
        "id": "W5MyJqOT7Hvx"
      },
      "outputs": [],
      "source": [
        "#mapping the chronic kidney disease(ckd) to the value 0 and !(ckd) to 1\n",
        "#convert the class column to numeric type\n",
        "df['class'] = df['class'].map({'ckd': 0, 'not ckd': 1})\n",
        "df['class'] = pd.to_numeric(df['class'], errors='coerce')"
      ]
    },
    {
      "cell_type": "code",
      "execution_count": 86,
      "metadata": {
        "colab": {
          "base_uri": "https://localhost:8080/"
        },
        "id": "9ULn2_lm8JgO",
        "outputId": "2ca2941c-45b5-40ad-ba96-76e6665cba0d"
      },
      "outputs": [
        {
          "output_type": "stream",
          "name": "stdout",
          "text": [
            "diabetes_mellitus has ['yes' 'no' nan] values\n",
            "\n",
            "coronary_artery_disease has ['no' 'yes' nan] values\n",
            "\n",
            "class has [0 1] values\n",
            "\n"
          ]
        }
      ],
      "source": [
        "cols = ['diabetes_mellitus', 'coronary_artery_disease', 'class']\n",
        "\n",
        "for col in cols:\n",
        "    print(f\"{col} has {df[col].unique()} values\\n\")"
      ]
    },
    {
      "cell_type": "markdown",
      "metadata": {
        "id": "UcvUQmQW8aw9"
      },
      "source": [
        "Plotting to view the current status of the data"
      ]
    },
    {
      "cell_type": "code",
      "execution_count": 87,
      "metadata": {
        "id": "bsLzD0xr8pm0"
      },
      "outputs": [],
      "source": [
        "#extracting categorical columns\n",
        "cat_cols = [col for col in df.columns if df[col].dtype == 'object']\n",
        "#extracting numerical columns\n",
        "num_cols = [col for col in df.columns if df[col].dtype != 'object']"
      ]
    },
    {
      "cell_type": "code",
      "execution_count": 88,
      "metadata": {
        "colab": {
          "base_uri": "https://localhost:8080/"
        },
        "id": "nqM8EVDw9GrJ",
        "outputId": "eb793f7b-cc83-42ac-cc6a-0160b5d83e33"
      },
      "outputs": [
        {
          "output_type": "stream",
          "name": "stdout",
          "text": [
            "red_blood_cells has [nan 'normal' 'abnormal'] values\n",
            "\n",
            "pus_cell has ['normal' 'abnormal' nan] values\n",
            "\n",
            "pus_cell_clumps has ['notpresent' 'present' nan] values\n",
            "\n",
            "bacteria has ['notpresent' 'present' nan] values\n",
            "\n",
            "hypertension has ['yes' 'no' nan] values\n",
            "\n",
            "diabetes_mellitus has ['yes' 'no' nan] values\n",
            "\n",
            "coronary_artery_disease has ['no' 'yes' nan] values\n",
            "\n",
            "appetite has ['good' 'poor' nan] values\n",
            "\n",
            "pedal_edema has ['no' 'yes' nan] values\n",
            "\n",
            "anemia has ['no' 'yes' nan] values\n",
            "\n"
          ]
        }
      ],
      "source": [
        "#printing unique values in categorical columns\n",
        "for col in cat_cols:\n",
        "    print(f\"{col} has {df[col].unique()} values\\n\")"
      ]
    },
    {
      "cell_type": "code",
      "execution_count": 89,
      "metadata": {
        "colab": {
          "base_uri": "https://localhost:8080/",
          "height": 790
        },
        "id": "wJPKJm7g-ZNz",
        "outputId": "367bbba4-6b16-4987-f946-bffc28c4f22d"
      },
      "outputs": [
        {
          "output_type": "display_data",
          "data": {
            "text/plain": [
              "<Figure size 1440x1080 with 14 Axes>"
            ],
            "image/png": "[encoded data removed]"
          },
          "metadata": {
            "needs_background": "light"
          }
        }
      ],
      "source": [
        "# checking numerical features distribution\n",
        "plt.figure(figsize = (20, 15))\n",
        "plotnumber = 1\n",
        "for column in num_cols:\n",
        "    if plotnumber <= 14:\n",
        "        ax = plt.subplot(3, 5, plotnumber)\n",
        "        sns.distplot(df[column],color='black',)\n",
        "        plt.xlabel(column)\n",
        "    \n",
        "        \n",
        "    plotnumber += 1\n",
        "\n",
        "plt.tight_layout()\n",
        "plt.show()"
      ]
    },
    {
      "cell_type": "markdown",
      "metadata": {
        "id": "1MwGos8kPQHe"
      },
      "source": [
        "The above graph shows that there is skewness present in some columns."
      ]
    },
    {
      "cell_type": "code",
      "execution_count": 90,
      "metadata": {
        "colab": {
          "base_uri": "https://localhost:8080/",
          "height": 790
        },
        "id": "hZ5z-WZSPf2z",
        "outputId": "66c62fe1-d5c1-4dc4-ef0a-d2a6d811fb31"
      },
      "outputs": [
        {
          "output_type": "display_data",
          "data": {
            "text/plain": [
              "<Figure size 1440x1080 with 10 Axes>"
            ],
            "image/png": "[encoded data removed]"
          },
          "metadata": {
            "needs_background": "light"
          }
        }
      ],
      "source": [
        "# checking categorical columns distribution\n",
        "plt.figure(figsize = (20, 15))\n",
        "plotnumber = 1\n",
        "for column in cat_cols:\n",
        "    if plotnumber <= 11:\n",
        "        ax = plt.subplot(3, 4, plotnumber)\n",
        "        sns.countplot(df[column], palette = 'rocket',color='black')\n",
        "        plt.xlabel(column)\n",
        "        \n",
        "    plotnumber += 1\n",
        "\n",
        "plt.tight_layout()\n",
        "plt.show()"
      ]
    },
    {
      "cell_type": "markdown",
      "metadata": {
        "id": "sjeQbgbkRGpT"
      },
      "source": [
        "we find the presense of different proportions among the columns."
      ]
    },
    {
      "cell_type": "code",
      "execution_count": 91,
      "metadata": {
        "colab": {
          "base_uri": "https://localhost:8080/",
          "height": 388
        },
        "id": "4Cv8EUKORRE3",
        "outputId": "d4f61563-d657-468a-97a9-e4bfda674d10"
      },
      "outputs": [
        {
          "output_type": "execute_result",
          "data": {
            "text/plain": [
              "<matplotlib.axes._subplots.AxesSubplot at 0x7f4cf6a9c710>"
            ]
          },
          "metadata": {},
          "execution_count": 91
        },
        {
          "output_type": "display_data",
          "data": {
            "text/plain": [
              "<Figure size 432x288 with 2 Axes>"
            ],
            "image/png": "[encoded data removed]"
          },
          "metadata": {
            "needs_background": "light"
          }
        }
      ],
      "source": [
        "#correlation caluculation\n",
        "cor=df.corr()\n",
        "sns.heatmap(cor, annot = True, linewidths = 1, linecolor = 'lightgrey')"
      ]
    },
    {
      "cell_type": "markdown",
      "metadata": {
        "id": "2hveYS_SUBO6"
      },
      "source": [
        "Lets explore the data."
      ]
    },
    {
      "cell_type": "code",
      "execution_count": 92,
      "metadata": {
        "colab": {
          "base_uri": "https://localhost:8080/",
          "height": 542
        },
        "id": "_cLA_cvyUGi-",
        "outputId": "9bcf034a-4c17-4654-b9f9-71b0bb4bb77e"
      },
      "outputs": [
        {
          "output_type": "display_data",
          "data": {
            "text/html": [
              "<html>\n",
              "<head><meta charset=\"utf-8\" /></head>\n",
              "<body>\n",
              "    <div>            <script src=\"https://cdnjs.cloudflare.com/ajax/libs/mathjax/2.7.5/MathJax.js?config=TeX-AMS-MML_SVG\"></script><script type=\"text/javascript\">if (window.MathJax) {MathJax.Hub.Config({SVG: {font: \"STIX-Web\"}});}</script>                <script type=\"text/javascript\">window.PlotlyConfig = {MathJaxConfig: 'local'};</script>\n",
              "        <script src=\"https://cdn.plot.ly/plotly-2.8.3.min.js\"></script>                <div id=\"11768efe-0562-40a6-9c17-f3297128d866\" class=\"plotly-graph-div\" style=\"height:525px; width:100%;\"></div>            <script type=\"text/javascript\">                                    window.PLOTLYENV=window.PLOTLYENV || {};                                    if (document.getElementById(\"11768efe-0562-40a6-9c17-f3297128d866\")) {                    Plotly.newPlot(                        \"11768efe-0562-40a6-9c17-f3297128d866\",                        [{\"hovertemplate\":\"age=%{x}<br>blood_pressure=%{y}<br>class=%{marker.color}<extra></extra>\",\"legendgroup\":\"\",\"marker\":{\"color\":[0,0,0,0,0,0,0,0,0,0,0,0,0,0,0,0,0,0,0,0,0,0,0,0,0,0,0,0,0,0,0,0,0,0,0,0,0,0,0,0,0,0,0,0,0,0,0,0,0,0,0,0,0,0,0,0,0,0,0,0,0,0,0,0,0,0,0,0,0,0,0,0,0,0,0,0,0,0,0,0,0,0,0,0,0,0,0,0,0,0,0,0,0,0,0,0,0,0,0,0,0,0,0,0,0,0,0,0,0,0,0,0,0,0,0,0,0,0,0,0,0,0,0,0,0,0,0,0,0,0,0,0,0,0,0,0,0,0,0,0,0,0,0,0,0,0,0,0,0,0,0,0,0,0,0,0,0,0,0,0,0,0,0,0,0,0,0,0,0,0,0,0,0,0,0,0,0,0,0,0,0,0,0,0,0,0,0,0,0,0,0,0,0,0,0,0,0,0,0,0,0,0,0,0,0,0,0,0,0,0,0,0,0,0,0,0,0,0,0,0,0,0,0,0,0,0,0,0,0,0,0,0,0,0,0,0,0,0,0,0,0,0,0,0,0,0,0,0,0,0,1,1,1,1,1,1,1,1,1,1,1,1,1,1,1,1,1,1,1,1,1,1,1,1,1,1,1,1,1,1,1,1,1,1,1,1,1,1,1,1,1,1,1,1,1,1,1,1,1,1,1,1,1,1,1,1,1,1,1,1,1,1,1,1,1,1,1,1,1,1,1,1,1,1,1,1,1,1,1,1,1,1,1,1,1,1,1,1,1,1,1,1,1,1,1,1,1,1,1,1,1,1,1,1,1,1,1,1,1,1,1,1,1,1,1,1,1,1,1,1,1,1,1,1,1,1,1,1,1,1,1,1,1,1,1,1,1,1,1,1,1,1,1,1,1,1,1,1,1,1],\"coloraxis\":\"coloraxis\",\"symbol\":\"circle\"},\"mode\":\"markers\",\"name\":\"\",\"orientation\":\"v\",\"showlegend\":false,\"x\":[48.0,7.0,62.0,48.0,51.0,60.0,68.0,24.0,52.0,53.0,50.0,63.0,68.0,68.0,68.0,40.0,47.0,47.0,60.0,62.0,61.0,60.0,48.0,21.0,42.0,61.0,75.0,69.0,75.0,68.0,null,73.0,61.0,60.0,70.0,65.0,76.0,72.0,69.0,82.0,46.0,45.0,47.0,35.0,54.0,54.0,48.0,11.0,73.0,60.0,53.0,54.0,53.0,62.0,63.0,35.0,76.0,76.0,73.0,59.0,67.0,67.0,15.0,46.0,55.0,44.0,67.0,45.0,65.0,26.0,61.0,46.0,64.0,null,56.0,5.0,48.0,67.0,70.0,56.0,74.0,45.0,38.0,48.0,59.0,70.0,56.0,70.0,58.0,50.0,63.0,56.0,71.0,73.0,65.0,62.0,60.0,65.0,50.0,56.0,34.0,71.0,17.0,76.0,55.0,65.0,50.0,55.0,45.0,54.0,63.0,65.0,null,61.0,12.0,47.0,null,null,55.0,60.0,72.0,54.0,34.0,43.0,65.0,72.0,70.0,71.0,52.0,75.0,50.0,5.0,50.0,70.0,47.0,48.0,46.0,45.0,73.0,41.0,69.0,67.0,72.0,41.0,60.0,57.0,53.0,60.0,69.0,65.0,8.0,76.0,39.0,55.0,56.0,50.0,66.0,62.0,71.0,59.0,81.0,62.0,59.0,46.0,14.0,60.0,27.0,34.0,65.0,null,66.0,83.0,62.0,17.0,54.0,60.0,21.0,65.0,42.0,72.0,73.0,45.0,61.0,30.0,54.0,4.0,8.0,3.0,8.0,64.0,6.0,null,46.0,32.0,80.0,70.0,49.0,57.0,59.0,65.0,90.0,64.0,78.0,null,65.0,61.0,60.0,50.0,67.0,19.0,59.0,54.0,40.0,55.0,68.0,2.0,64.0,63.0,33.0,68.0,36.0,66.0,74.0,71.0,34.0,60.0,64.0,57.0,60.0,59.0,65.0,60.0,50.0,51.0,37.0,45.0,65.0,80.0,72.0,34.0,65.0,57.0,69.0,62.0,64.0,48.0,48.0,54.0,59.0,56.0,40.0,23.0,45.0,57.0,51.0,34.0,60.0,38.0,42.0,35.0,30.0,49.0,55.0,45.0,42.0,50.0,55.0,48.0,null,25.0,23.0,30.0,56.0,47.0,19.0,52.0,20.0,46.0,48.0,24.0,47.0,55.0,20.0,60.0,33.0,66.0,71.0,39.0,56.0,42.0,54.0,47.0,30.0,50.0,75.0,44.0,41.0,53.0,34.0,73.0,45.0,44.0,29.0,55.0,33.0,41.0,52.0,47.0,43.0,51.0,46.0,56.0,80.0,55.0,39.0,44.0,35.0,58.0,61.0,30.0,57.0,65.0,70.0,43.0,40.0,58.0,47.0,30.0,28.0,33.0,43.0,59.0,34.0,23.0,24.0,60.0,25.0,44.0,62.0,25.0,32.0,63.0,44.0,37.0,64.0,22.0,33.0,43.0,38.0,35.0,65.0,29.0,37.0,39.0,32.0,23.0,34.0,66.0,47.0,74.0,35.0,29.0,33.0,67.0,73.0,24.0,60.0,68.0,30.0,75.0,69.0,28.0,72.0,61.0,79.0,70.0,58.0,64.0,71.0,62.0,59.0,71.0,48.0,80.0,57.0,63.0,46.0,15.0,51.0,41.0,52.0,36.0,57.0,43.0,50.0,55.0,42.0,12.0,17.0,58.0],\"xaxis\":\"x\",\"y\":[80.0,50.0,80.0,70.0,80.0,90.0,70.0,null,100.0,90.0,60.0,70.0,70.0,70.0,80.0,80.0,70.0,80.0,100.0,60.0,80.0,90.0,80.0,70.0,100.0,60.0,80.0,70.0,70.0,70.0,70.0,90.0,90.0,100.0,70.0,90.0,70.0,80.0,80.0,80.0,90.0,70.0,100.0,80.0,80.0,80.0,70.0,80.0,70.0,70.0,60.0,100.0,90.0,80.0,80.0,80.0,70.0,90.0,80.0,100.0,90.0,80.0,60.0,70.0,80.0,90.0,70.0,80.0,70.0,70.0,80.0,60.0,90.0,100.0,90.0,null,80.0,70.0,80.0,80.0,80.0,90.0,70.0,70.0,70.0,70.0,80.0,100.0,110.0,70.0,100.0,70.0,70.0,100.0,70.0,90.0,80.0,60.0,140.0,180.0,70.0,90.0,60.0,70.0,90.0,80.0,90.0,100.0,80.0,70.0,90.0,80.0,60.0,90.0,60.0,80.0,70.0,70.0,70.0,70.0,90.0,60.0,70.0,80.0,100.0,90.0,90.0,60.0,90.0,70.0,90.0,50.0,null,100.0,100.0,80.0,90.0,60.0,null,70.0,70.0,70.0,90.0,80.0,90.0,90.0,100.0,60.0,60.0,70.0,60.0,90.0,70.0,90.0,90.0,70.0,90.0,70.0,60.0,80.0,60.0,null,70.0,80.0,null,80.0,60.0,70.0,70.0,70.0,70.0,70.0,80.0,70.0,70.0,50.0,90.0,80.0,90.0,90.0,90.0,70.0,80.0,70.0,60.0,null,50.0,null,null,60.0,60.0,70.0,110.0,90.0,70.0,90.0,100.0,80.0,100.0,80.0,90.0,70.0,60.0,90.0,90.0,70.0,70.0,70.0,80.0,70.0,100.0,120.0,70.0,80.0,80.0,null,70.0,100.0,90.0,90.0,80.0,70.0,60.0,90.0,60.0,90.0,100.0,80.0,70.0,50.0,60.0,90.0,90.0,100.0,100.0,70.0,80.0,70.0,100.0,90.0,70.0,70.0,70.0,90.0,90.0,100.0,110.0,90.0,70.0,90.0,80.0,80.0,80.0,80.0,60.0,80.0,80.0,60.0,80.0,80.0,80.0,80.0,80.0,80.0,80.0,80.0,80.0,80.0,80.0,80.0,80.0,80.0,80.0,80.0,80.0,80.0,60.0,60.0,60.0,70.0,80.0,80.0,70.0,70.0,80.0,70.0,70.0,70.0,70.0,70.0,70.0,80.0,80.0,null,60.0,70.0,70.0,60.0,60.0,60.0,60.0,60.0,70.0,70.0,80.0,80.0,80.0,60.0,80.0,60.0,60.0,60.0,70.0,80.0,70.0,70.0,null,70.0,70.0,60.0,60.0,60.0,60.0,80.0,80.0,80.0,60.0,60.0,70.0,60.0,80.0,70.0,70.0,80.0,80.0,60.0,60.0,70.0,80.0,70.0,70.0,70.0,60.0,60.0,60.0,60.0,60.0,60.0,80.0,70.0,70.0,80.0,60.0,60.0,60.0,60.0,70.0,70.0,60.0,60.0,60.0,80.0,80.0,80.0,80.0,80.0,80.0,60.0,80.0,70.0,70.0,60.0,60.0,70.0,80.0,80.0,70.0,70.0,60.0,80.0,60.0,70.0,80.0,80.0,60.0,70.0,70.0,80.0,80.0,80.0,80.0,80.0,80.0,60.0,80.0,80.0,70.0,80.0,60.0,80.0],\"yaxis\":\"y\",\"type\":\"scatter\"}],                        {\"template\":{\"data\":{\"bar\":[{\"error_x\":{\"color\":\"#2a3f5f\"},\"error_y\":{\"color\":\"#2a3f5f\"},\"marker\":{\"line\":{\"color\":\"#E5ECF6\",\"width\":0.5},\"pattern\":{\"fillmode\":\"overlay\",\"size\":10,\"solidity\":0.2}},\"type\":\"bar\"}],\"barpolar\":[{\"marker\":{\"line\":{\"color\":\"#E5ECF6\",\"width\":0.5},\"pattern\":{\"fillmode\":\"overlay\",\"size\":10,\"solidity\":0.2}},\"type\":\"barpolar\"}],\"carpet\":[{\"aaxis\":{\"endlinecolor\":\"#2a3f5f\",\"gridcolor\":\"white\",\"linecolor\":\"white\",\"minorgridcolor\":\"white\",\"startlinecolor\":\"#2a3f5f\"},\"baxis\":{\"endlinecolor\":\"#2a3f5f\",\"gridcolor\":\"white\",\"linecolor\":\"white\",\"minorgridcolor\":\"white\",\"startlinecolor\":\"#2a3f5f\"},\"type\":\"carpet\"}],\"choropleth\":[{\"colorbar\":{\"outlinewidth\":0,\"ticks\":\"\"},\"type\":\"choropleth\"}],\"contour\":[{\"colorbar\":{\"outlinewidth\":0,\"ticks\":\"\"},\"colorscale\":[[0.0,\"#0d0887\"],[0.1111111111111111,\"#46039f\"],[0.2222222222222222,\"#7201a8\"],[0.3333333333333333,\"#9c179e\"],[0.4444444444444444,\"#bd3786\"],[0.5555555555555556,\"#d8576b\"],[0.6666666666666666,\"#ed7953\"],[0.7777777777777778,\"#fb9f3a\"],[0.8888888888888888,\"#fdca26\"],[1.0,\"#f0f921\"]],\"type\":\"contour\"}],\"contourcarpet\":[{\"colorbar\":{\"outlinewidth\":0,\"ticks\":\"\"},\"type\":\"contourcarpet\"}],\"heatmap\":[{\"colorbar\":{\"outlinewidth\":0,\"ticks\":\"\"},\"colorscale\":[[0.0,\"#0d0887\"],[0.1111111111111111,\"#46039f\"],[0.2222222222222222,\"#7201a8\"],[0.3333333333333333,\"#9c179e\"],[0.4444444444444444,\"#bd3786\"],[0.5555555555555556,\"#d8576b\"],[0.6666666666666666,\"#ed7953\"],[0.7777777777777778,\"#fb9f3a\"],[0.8888888888888888,\"#fdca26\"],[1.0,\"#f0f921\"]],\"type\":\"heatmap\"}],\"heatmapgl\":[{\"colorbar\":{\"outlinewidth\":0,\"ticks\":\"\"},\"colorscale\":[[0.0,\"#0d0887\"],[0.1111111111111111,\"#46039f\"],[0.2222222222222222,\"#7201a8\"],[0.3333333333333333,\"#9c179e\"],[0.4444444444444444,\"#bd3786\"],[0.5555555555555556,\"#d8576b\"],[0.6666666666666666,\"#ed7953\"],[0.7777777777777778,\"#fb9f3a\"],[0.8888888888888888,\"#fdca26\"],[1.0,\"#f0f921\"]],\"type\":\"heatmapgl\"}],\"histogram\":[{\"marker\":{\"pattern\":{\"fillmode\":\"overlay\",\"size\":10,\"solidity\":0.2}},\"type\":\"histogram\"}],\"histogram2d\":[{\"colorbar\":{\"outlinewidth\":0,\"ticks\":\"\"},\"colorscale\":[[0.0,\"#0d0887\"],[0.1111111111111111,\"#46039f\"],[0.2222222222222222,\"#7201a8\"],[0.3333333333333333,\"#9c179e\"],[0.4444444444444444,\"#bd3786\"],[0.5555555555555556,\"#d8576b\"],[0.6666666666666666,\"#ed7953\"],[0.7777777777777778,\"#fb9f3a\"],[0.8888888888888888,\"#fdca26\"],[1.0,\"#f0f921\"]],\"type\":\"histogram2d\"}],\"histogram2dcontour\":[{\"colorbar\":{\"outlinewidth\":0,\"ticks\":\"\"},\"colorscale\":[[0.0,\"#0d0887\"],[0.1111111111111111,\"#46039f\"],[0.2222222222222222,\"#7201a8\"],[0.3333333333333333,\"#9c179e\"],[0.4444444444444444,\"#bd3786\"],[0.5555555555555556,\"#d8576b\"],[0.6666666666666666,\"#ed7953\"],[0.7777777777777778,\"#fb9f3a\"],[0.8888888888888888,\"#fdca26\"],[1.0,\"#f0f921\"]],\"type\":\"histogram2dcontour\"}],\"mesh3d\":[{\"colorbar\":{\"outlinewidth\":0,\"ticks\":\"\"},\"type\":\"mesh3d\"}],\"parcoords\":[{\"line\":{\"colorbar\":{\"outlinewidth\":0,\"ticks\":\"\"}},\"type\":\"parcoords\"}],\"pie\":[{\"automargin\":true,\"type\":\"pie\"}],\"scatter\":[{\"marker\":{\"colorbar\":{\"outlinewidth\":0,\"ticks\":\"\"}},\"type\":\"scatter\"}],\"scatter3d\":[{\"line\":{\"colorbar\":{\"outlinewidth\":0,\"ticks\":\"\"}},\"marker\":{\"colorbar\":{\"outlinewidth\":0,\"ticks\":\"\"}},\"type\":\"scatter3d\"}],\"scattercarpet\":[{\"marker\":{\"colorbar\":{\"outlinewidth\":0,\"ticks\":\"\"}},\"type\":\"scattercarpet\"}],\"scattergeo\":[{\"marker\":{\"colorbar\":{\"outlinewidth\":0,\"ticks\":\"\"}},\"type\":\"scattergeo\"}],\"scattergl\":[{\"marker\":{\"colorbar\":{\"outlinewidth\":0,\"ticks\":\"\"}},\"type\":\"scattergl\"}],\"scattermapbox\":[{\"marker\":{\"colorbar\":{\"outlinewidth\":0,\"ticks\":\"\"}},\"type\":\"scattermapbox\"}],\"scatterpolar\":[{\"marker\":{\"colorbar\":{\"outlinewidth\":0,\"ticks\":\"\"}},\"type\":\"scatterpolar\"}],\"scatterpolargl\":[{\"marker\":{\"colorbar\":{\"outlinewidth\":0,\"ticks\":\"\"}},\"type\":\"scatterpolargl\"}],\"scatterternary\":[{\"marker\":{\"colorbar\":{\"outlinewidth\":0,\"ticks\":\"\"}},\"type\":\"scatterternary\"}],\"surface\":[{\"colorbar\":{\"outlinewidth\":0,\"ticks\":\"\"},\"colorscale\":[[0.0,\"#0d0887\"],[0.1111111111111111,\"#46039f\"],[0.2222222222222222,\"#7201a8\"],[0.3333333333333333,\"#9c179e\"],[0.4444444444444444,\"#bd3786\"],[0.5555555555555556,\"#d8576b\"],[0.6666666666666666,\"#ed7953\"],[0.7777777777777778,\"#fb9f3a\"],[0.8888888888888888,\"#fdca26\"],[1.0,\"#f0f921\"]],\"type\":\"surface\"}],\"table\":[{\"cells\":{\"fill\":{\"color\":\"#EBF0F8\"},\"line\":{\"color\":\"white\"}},\"header\":{\"fill\":{\"color\":\"#C8D4E3\"},\"line\":{\"color\":\"white\"}},\"type\":\"table\"}]},\"layout\":{\"annotationdefaults\":{\"arrowcolor\":\"#2a3f5f\",\"arrowhead\":0,\"arrowwidth\":1},\"autotypenumbers\":\"strict\",\"coloraxis\":{\"colorbar\":{\"outlinewidth\":0,\"ticks\":\"\"}},\"colorscale\":{\"diverging\":[[0,\"#8e0152\"],[0.1,\"#c51b7d\"],[0.2,\"#de77ae\"],[0.3,\"#f1b6da\"],[0.4,\"#fde0ef\"],[0.5,\"#f7f7f7\"],[0.6,\"#e6f5d0\"],[0.7,\"#b8e186\"],[0.8,\"#7fbc41\"],[0.9,\"#4d9221\"],[1,\"#276419\"]],\"sequential\":[[0.0,\"#0d0887\"],[0.1111111111111111,\"#46039f\"],[0.2222222222222222,\"#7201a8\"],[0.3333333333333333,\"#9c179e\"],[0.4444444444444444,\"#bd3786\"],[0.5555555555555556,\"#d8576b\"],[0.6666666666666666,\"#ed7953\"],[0.7777777777777778,\"#fb9f3a\"],[0.8888888888888888,\"#fdca26\"],[1.0,\"#f0f921\"]],\"sequentialminus\":[[0.0,\"#0d0887\"],[0.1111111111111111,\"#46039f\"],[0.2222222222222222,\"#7201a8\"],[0.3333333333333333,\"#9c179e\"],[0.4444444444444444,\"#bd3786\"],[0.5555555555555556,\"#d8576b\"],[0.6666666666666666,\"#ed7953\"],[0.7777777777777778,\"#fb9f3a\"],[0.8888888888888888,\"#fdca26\"],[1.0,\"#f0f921\"]]},\"colorway\":[\"#636efa\",\"#EF553B\",\"#00cc96\",\"#ab63fa\",\"#FFA15A\",\"#19d3f3\",\"#FF6692\",\"#B6E880\",\"#FF97FF\",\"#FECB52\"],\"font\":{\"color\":\"#2a3f5f\"},\"geo\":{\"bgcolor\":\"white\",\"lakecolor\":\"white\",\"landcolor\":\"#E5ECF6\",\"showlakes\":true,\"showland\":true,\"subunitcolor\":\"white\"},\"hoverlabel\":{\"align\":\"left\"},\"hovermode\":\"closest\",\"mapbox\":{\"style\":\"light\"},\"paper_bgcolor\":\"white\",\"plot_bgcolor\":\"#E5ECF6\",\"polar\":{\"angularaxis\":{\"gridcolor\":\"white\",\"linecolor\":\"white\",\"ticks\":\"\"},\"bgcolor\":\"#E5ECF6\",\"radialaxis\":{\"gridcolor\":\"white\",\"linecolor\":\"white\",\"ticks\":\"\"}},\"scene\":{\"xaxis\":{\"backgroundcolor\":\"#E5ECF6\",\"gridcolor\":\"white\",\"gridwidth\":2,\"linecolor\":\"white\",\"showbackground\":true,\"ticks\":\"\",\"zerolinecolor\":\"white\"},\"yaxis\":{\"backgroundcolor\":\"#E5ECF6\",\"gridcolor\":\"white\",\"gridwidth\":2,\"linecolor\":\"white\",\"showbackground\":true,\"ticks\":\"\",\"zerolinecolor\":\"white\"},\"zaxis\":{\"backgroundcolor\":\"#E5ECF6\",\"gridcolor\":\"white\",\"gridwidth\":2,\"linecolor\":\"white\",\"showbackground\":true,\"ticks\":\"\",\"zerolinecolor\":\"white\"}},\"shapedefaults\":{\"line\":{\"color\":\"#2a3f5f\"}},\"ternary\":{\"aaxis\":{\"gridcolor\":\"white\",\"linecolor\":\"white\",\"ticks\":\"\"},\"baxis\":{\"gridcolor\":\"white\",\"linecolor\":\"white\",\"ticks\":\"\"},\"bgcolor\":\"#E5ECF6\",\"caxis\":{\"gridcolor\":\"white\",\"linecolor\":\"white\",\"ticks\":\"\"}},\"title\":{\"x\":0.05},\"xaxis\":{\"automargin\":true,\"gridcolor\":\"white\",\"linecolor\":\"white\",\"ticks\":\"\",\"title\":{\"standoff\":15},\"zerolinecolor\":\"white\",\"zerolinewidth\":2},\"yaxis\":{\"automargin\":true,\"gridcolor\":\"white\",\"linecolor\":\"white\",\"ticks\":\"\",\"title\":{\"standoff\":15},\"zerolinecolor\":\"white\",\"zerolinewidth\":2}}},\"xaxis\":{\"anchor\":\"y\",\"domain\":[0.0,1.0],\"title\":{\"text\":\"age\"}},\"yaxis\":{\"anchor\":\"x\",\"domain\":[0.0,1.0],\"title\":{\"text\":\"blood_pressure\"}},\"coloraxis\":{\"colorbar\":{\"title\":{\"text\":\"class\"}},\"colorscale\":[[0.0,\"#0d0887\"],[0.1111111111111111,\"#46039f\"],[0.2222222222222222,\"#7201a8\"],[0.3333333333333333,\"#9c179e\"],[0.4444444444444444,\"#bd3786\"],[0.5555555555555556,\"#d8576b\"],[0.6666666666666666,\"#ed7953\"],[0.7777777777777778,\"#fb9f3a\"],[0.8888888888888888,\"#fdca26\"],[1.0,\"#f0f921\"]]},\"legend\":{\"tracegroupgap\":0},\"margin\":{\"t\":60}},                        {\"responsive\": true}                    ).then(function(){\n",
              "                            \n",
              "var gd = document.getElementById('11768efe-0562-40a6-9c17-f3297128d866');\n",
              "var x = new MutationObserver(function (mutations, observer) {{\n",
              "        var display = window.getComputedStyle(gd).display;\n",
              "        if (!display || display === 'none') {{\n",
              "            console.log([gd, 'removed!']);\n",
              "            Plotly.purge(gd);\n",
              "            observer.disconnect();\n",
              "        }}\n",
              "}});\n",
              "\n",
              "// Listen for the removal of the full notebook cells\n",
              "var notebookContainer = gd.closest('#notebook-container');\n",
              "if (notebookContainer) {{\n",
              "    x.observe(notebookContainer, {childList: true});\n",
              "}}\n",
              "\n",
              "// Listen for the clearing of the current output cell\n",
              "var outputEl = gd.closest('.output');\n",
              "if (outputEl) {{\n",
              "    x.observe(outputEl, {childList: true});\n",
              "}}\n",
              "\n",
              "                        })                };                            </script>        </div>\n",
              "</body>\n",
              "</html>"
            ]
          },
          "metadata": {}
        }
      ],
      "source": [
        "px.scatter(df, x=\"age\", y=\"blood_pressure\", color=\"class\")"
      ]
    },
    {
      "cell_type": "code",
      "execution_count": 93,
      "metadata": {
        "colab": {
          "base_uri": "https://localhost:8080/",
          "height": 542
        },
        "id": "BWpU3ariUUx5",
        "outputId": "a12f1fcb-c329-48e0-e150-7787b8a0f1d8"
      },
      "outputs": [
        {
          "output_type": "display_data",
          "data": {
            "text/html": [
              "<html>\n",
              "<head><meta charset=\"utf-8\" /></head>\n",
              "<body>\n",
              "    <div>            <script src=\"https://cdnjs.cloudflare.com/ajax/libs/mathjax/2.7.5/MathJax.js?config=TeX-AMS-MML_SVG\"></script><script type=\"text/javascript\">if (window.MathJax) {MathJax.Hub.Config({SVG: {font: \"STIX-Web\"}});}</script>                <script type=\"text/javascript\">window.PlotlyConfig = {MathJaxConfig: 'local'};</script>\n",
              "        <script src=\"https://cdn.plot.ly/plotly-2.8.3.min.js\"></script>                <div id=\"06dc9171-4929-489e-9cf9-0d3d37202fdb\" class=\"plotly-graph-div\" style=\"height:525px; width:100%;\"></div>            <script type=\"text/javascript\">                                    window.PLOTLYENV=window.PLOTLYENV || {};                                    if (document.getElementById(\"06dc9171-4929-489e-9cf9-0d3d37202fdb\")) {                    Plotly.newPlot(                        \"06dc9171-4929-489e-9cf9-0d3d37202fdb\",                        [{\"hovertemplate\":\"age=%{x}<br>sugar=%{y}<br>class=%{marker.color}<extra></extra>\",\"legendgroup\":\"\",\"marker\":{\"color\":[0,0,0,0,0,0,0,0,0,0,0,0,0,0,0,0,0,0,0,0,0,0,0,0,0,0,0,0,0,0,0,0,0,0,0,0,0,0,0,0,0,0,0,0,0,0,0,0,0,0,0,0,0,0,0,0,0,0,0,0,0,0,0,0,0,0,0,0,0,0,0,0,0,0,0,0,0,0,0,0,0,0,0,0,0,0,0,0,0,0,0,0,0,0,0,0,0,0,0,0,0,0,0,0,0,0,0,0,0,0,0,0,0,0,0,0,0,0,0,0,0,0,0,0,0,0,0,0,0,0,0,0,0,0,0,0,0,0,0,0,0,0,0,0,0,0,0,0,0,0,0,0,0,0,0,0,0,0,0,0,0,0,0,0,0,0,0,0,0,0,0,0,0,0,0,0,0,0,0,0,0,0,0,0,0,0,0,0,0,0,0,0,0,0,0,0,0,0,0,0,0,0,0,0,0,0,0,0,0,0,0,0,0,0,0,0,0,0,0,0,0,0,0,0,0,0,0,0,0,0,0,0,0,0,0,0,0,0,0,0,0,0,0,0,0,0,0,0,0,0,1,1,1,1,1,1,1,1,1,1,1,1,1,1,1,1,1,1,1,1,1,1,1,1,1,1,1,1,1,1,1,1,1,1,1,1,1,1,1,1,1,1,1,1,1,1,1,1,1,1,1,1,1,1,1,1,1,1,1,1,1,1,1,1,1,1,1,1,1,1,1,1,1,1,1,1,1,1,1,1,1,1,1,1,1,1,1,1,1,1,1,1,1,1,1,1,1,1,1,1,1,1,1,1,1,1,1,1,1,1,1,1,1,1,1,1,1,1,1,1,1,1,1,1,1,1,1,1,1,1,1,1,1,1,1,1,1,1,1,1,1,1,1,1,1,1,1,1,1,1],\"coloraxis\":\"coloraxis\",\"symbol\":\"circle\"},\"mode\":\"markers\",\"name\":\"\",\"orientation\":\"v\",\"showlegend\":false,\"x\":[48.0,7.0,62.0,48.0,51.0,60.0,68.0,24.0,52.0,53.0,50.0,63.0,68.0,68.0,68.0,40.0,47.0,47.0,60.0,62.0,61.0,60.0,48.0,21.0,42.0,61.0,75.0,69.0,75.0,68.0,null,73.0,61.0,60.0,70.0,65.0,76.0,72.0,69.0,82.0,46.0,45.0,47.0,35.0,54.0,54.0,48.0,11.0,73.0,60.0,53.0,54.0,53.0,62.0,63.0,35.0,76.0,76.0,73.0,59.0,67.0,67.0,15.0,46.0,55.0,44.0,67.0,45.0,65.0,26.0,61.0,46.0,64.0,null,56.0,5.0,48.0,67.0,70.0,56.0,74.0,45.0,38.0,48.0,59.0,70.0,56.0,70.0,58.0,50.0,63.0,56.0,71.0,73.0,65.0,62.0,60.0,65.0,50.0,56.0,34.0,71.0,17.0,76.0,55.0,65.0,50.0,55.0,45.0,54.0,63.0,65.0,null,61.0,12.0,47.0,null,null,55.0,60.0,72.0,54.0,34.0,43.0,65.0,72.0,70.0,71.0,52.0,75.0,50.0,5.0,50.0,70.0,47.0,48.0,46.0,45.0,73.0,41.0,69.0,67.0,72.0,41.0,60.0,57.0,53.0,60.0,69.0,65.0,8.0,76.0,39.0,55.0,56.0,50.0,66.0,62.0,71.0,59.0,81.0,62.0,59.0,46.0,14.0,60.0,27.0,34.0,65.0,null,66.0,83.0,62.0,17.0,54.0,60.0,21.0,65.0,42.0,72.0,73.0,45.0,61.0,30.0,54.0,4.0,8.0,3.0,8.0,64.0,6.0,null,46.0,32.0,80.0,70.0,49.0,57.0,59.0,65.0,90.0,64.0,78.0,null,65.0,61.0,60.0,50.0,67.0,19.0,59.0,54.0,40.0,55.0,68.0,2.0,64.0,63.0,33.0,68.0,36.0,66.0,74.0,71.0,34.0,60.0,64.0,57.0,60.0,59.0,65.0,60.0,50.0,51.0,37.0,45.0,65.0,80.0,72.0,34.0,65.0,57.0,69.0,62.0,64.0,48.0,48.0,54.0,59.0,56.0,40.0,23.0,45.0,57.0,51.0,34.0,60.0,38.0,42.0,35.0,30.0,49.0,55.0,45.0,42.0,50.0,55.0,48.0,null,25.0,23.0,30.0,56.0,47.0,19.0,52.0,20.0,46.0,48.0,24.0,47.0,55.0,20.0,60.0,33.0,66.0,71.0,39.0,56.0,42.0,54.0,47.0,30.0,50.0,75.0,44.0,41.0,53.0,34.0,73.0,45.0,44.0,29.0,55.0,33.0,41.0,52.0,47.0,43.0,51.0,46.0,56.0,80.0,55.0,39.0,44.0,35.0,58.0,61.0,30.0,57.0,65.0,70.0,43.0,40.0,58.0,47.0,30.0,28.0,33.0,43.0,59.0,34.0,23.0,24.0,60.0,25.0,44.0,62.0,25.0,32.0,63.0,44.0,37.0,64.0,22.0,33.0,43.0,38.0,35.0,65.0,29.0,37.0,39.0,32.0,23.0,34.0,66.0,47.0,74.0,35.0,29.0,33.0,67.0,73.0,24.0,60.0,68.0,30.0,75.0,69.0,28.0,72.0,61.0,79.0,70.0,58.0,64.0,71.0,62.0,59.0,71.0,48.0,80.0,57.0,63.0,46.0,15.0,51.0,41.0,52.0,36.0,57.0,43.0,50.0,55.0,42.0,12.0,17.0,58.0],\"xaxis\":\"x\",\"y\":[0.0,0.0,3.0,0.0,0.0,0.0,0.0,4.0,0.0,0.0,4.0,0.0,1.0,null,2.0,0.0,0.0,null,3.0,0.0,0.0,null,0.0,0.0,0.0,0.0,0.0,4.0,3.0,0.0,null,0.0,1.0,0.0,0.0,1.0,0.0,null,0.0,2.0,0.0,0.0,0.0,0.0,0.0,0.0,0.0,0.0,0.0,0.0,null,0.0,0.0,5.0,2.0,0.0,4.0,null,0.0,null,0.0,3.0,0.0,0.0,0.0,0.0,0.0,0.0,0.0,4.0,4.0,0.0,3.0,0.0,0.0,0.0,0.0,0.0,null,0.0,0.0,null,null,0.0,0.0,null,null,0.0,0.0,0.0,2.0,1.0,0.0,2.0,0.0,0.0,1.0,0.0,null,4.0,0.0,0.0,0.0,0.0,null,0.0,null,4.0,0.0,null,0.0,3.0,0.0,2.0,0.0,0.0,0.0,0.0,0.0,0.0,3.0,null,null,3.0,0.0,null,0.0,0.0,3.0,0.0,0.0,0.0,null,0.0,null,2.0,null,0.0,0.0,0.0,4.0,0.0,null,4.0,0.0,0.0,3.0,1.0,null,0.0,0.0,null,0.0,1.0,3.0,0.0,0.0,0.0,2.0,0.0,null,0.0,null,0.0,0.0,2.0,null,0.0,4.0,2.0,5.0,0.0,2.0,0.0,null,0.0,0.0,1.0,0.0,0.0,4.0,0.0,0.0,0.0,2.0,0.0,0.0,0.0,null,1.0,0.0,0.0,0.0,0.0,null,1.0,0.0,null,2.0,0.0,0.0,null,null,null,2.0,null,0.0,0.0,null,0.0,2.0,0.0,4.0,1.0,0.0,0.0,0.0,0.0,0.0,0.0,0.0,0.0,null,3.0,0.0,5.0,2.0,0.0,null,0.0,0.0,null,0.0,0.0,0.0,0.0,null,2.0,null,0.0,0.0,0.0,3.0,1.0,2.0,null,0.0,0.0,3.0,1.0,0.0,0.0,0.0,0.0,0.0,0.0,0.0,0.0,0.0,0.0,0.0,0.0,0.0,0.0,0.0,0.0,0.0,0.0,null,0.0,0.0,0.0,0.0,0.0,0.0,0.0,0.0,0.0,0.0,0.0,null,0.0,0.0,0.0,0.0,0.0,0.0,0.0,0.0,0.0,0.0,0.0,0.0,0.0,0.0,null,0.0,0.0,0.0,0.0,0.0,0.0,0.0,0.0,0.0,0.0,0.0,0.0,0.0,0.0,0.0,0.0,0.0,0.0,0.0,0.0,0.0,0.0,0.0,0.0,0.0,0.0,null,0.0,0.0,0.0,0.0,0.0,0.0,0.0,0.0,0.0,0.0,0.0,0.0,0.0,0.0,0.0,0.0,0.0,0.0,0.0,0.0,0.0,0.0,0.0,null,0.0,0.0,0.0,0.0,0.0,0.0,0.0,0.0,0.0,0.0,0.0,0.0,0.0,0.0,0.0,0.0,0.0,0.0,0.0,0.0,0.0,0.0,0.0,0.0,0.0,0.0,0.0,0.0,0.0,0.0,0.0,0.0,0.0,0.0,0.0,0.0,0.0,0.0,0.0,0.0,0.0,0.0,0.0,0.0,0.0,0.0,0.0,0.0,0.0,0.0,0.0,0.0,0.0],\"yaxis\":\"y\",\"type\":\"scatter\"}],                        {\"template\":{\"data\":{\"bar\":[{\"error_x\":{\"color\":\"#2a3f5f\"},\"error_y\":{\"color\":\"#2a3f5f\"},\"marker\":{\"line\":{\"color\":\"#E5ECF6\",\"width\":0.5},\"pattern\":{\"fillmode\":\"overlay\",\"size\":10,\"solidity\":0.2}},\"type\":\"bar\"}],\"barpolar\":[{\"marker\":{\"line\":{\"color\":\"#E5ECF6\",\"width\":0.5},\"pattern\":{\"fillmode\":\"overlay\",\"size\":10,\"solidity\":0.2}},\"type\":\"barpolar\"}],\"carpet\":[{\"aaxis\":{\"endlinecolor\":\"#2a3f5f\",\"gridcolor\":\"white\",\"linecolor\":\"white\",\"minorgridcolor\":\"white\",\"startlinecolor\":\"#2a3f5f\"},\"baxis\":{\"endlinecolor\":\"#2a3f5f\",\"gridcolor\":\"white\",\"linecolor\":\"white\",\"minorgridcolor\":\"white\",\"startlinecolor\":\"#2a3f5f\"},\"type\":\"carpet\"}],\"choropleth\":[{\"colorbar\":{\"outlinewidth\":0,\"ticks\":\"\"},\"type\":\"choropleth\"}],\"contour\":[{\"colorbar\":{\"outlinewidth\":0,\"ticks\":\"\"},\"colorscale\":[[0.0,\"#0d0887\"],[0.1111111111111111,\"#46039f\"],[0.2222222222222222,\"#7201a8\"],[0.3333333333333333,\"#9c179e\"],[0.4444444444444444,\"#bd3786\"],[0.5555555555555556,\"#d8576b\"],[0.6666666666666666,\"#ed7953\"],[0.7777777777777778,\"#fb9f3a\"],[0.8888888888888888,\"#fdca26\"],[1.0,\"#f0f921\"]],\"type\":\"contour\"}],\"contourcarpet\":[{\"colorbar\":{\"outlinewidth\":0,\"ticks\":\"\"},\"type\":\"contourcarpet\"}],\"heatmap\":[{\"colorbar\":{\"outlinewidth\":0,\"ticks\":\"\"},\"colorscale\":[[0.0,\"#0d0887\"],[0.1111111111111111,\"#46039f\"],[0.2222222222222222,\"#7201a8\"],[0.3333333333333333,\"#9c179e\"],[0.4444444444444444,\"#bd3786\"],[0.5555555555555556,\"#d8576b\"],[0.6666666666666666,\"#ed7953\"],[0.7777777777777778,\"#fb9f3a\"],[0.8888888888888888,\"#fdca26\"],[1.0,\"#f0f921\"]],\"type\":\"heatmap\"}],\"heatmapgl\":[{\"colorbar\":{\"outlinewidth\":0,\"ticks\":\"\"},\"colorscale\":[[0.0,\"#0d0887\"],[0.1111111111111111,\"#46039f\"],[0.2222222222222222,\"#7201a8\"],[0.3333333333333333,\"#9c179e\"],[0.4444444444444444,\"#bd3786\"],[0.5555555555555556,\"#d8576b\"],[0.6666666666666666,\"#ed7953\"],[0.7777777777777778,\"#fb9f3a\"],[0.8888888888888888,\"#fdca26\"],[1.0,\"#f0f921\"]],\"type\":\"heatmapgl\"}],\"histogram\":[{\"marker\":{\"pattern\":{\"fillmode\":\"overlay\",\"size\":10,\"solidity\":0.2}},\"type\":\"histogram\"}],\"histogram2d\":[{\"colorbar\":{\"outlinewidth\":0,\"ticks\":\"\"},\"colorscale\":[[0.0,\"#0d0887\"],[0.1111111111111111,\"#46039f\"],[0.2222222222222222,\"#7201a8\"],[0.3333333333333333,\"#9c179e\"],[0.4444444444444444,\"#bd3786\"],[0.5555555555555556,\"#d8576b\"],[0.6666666666666666,\"#ed7953\"],[0.7777777777777778,\"#fb9f3a\"],[0.8888888888888888,\"#fdca26\"],[1.0,\"#f0f921\"]],\"type\":\"histogram2d\"}],\"histogram2dcontour\":[{\"colorbar\":{\"outlinewidth\":0,\"ticks\":\"\"},\"colorscale\":[[0.0,\"#0d0887\"],[0.1111111111111111,\"#46039f\"],[0.2222222222222222,\"#7201a8\"],[0.3333333333333333,\"#9c179e\"],[0.4444444444444444,\"#bd3786\"],[0.5555555555555556,\"#d8576b\"],[0.6666666666666666,\"#ed7953\"],[0.7777777777777778,\"#fb9f3a\"],[0.8888888888888888,\"#fdca26\"],[1.0,\"#f0f921\"]],\"type\":\"histogram2dcontour\"}],\"mesh3d\":[{\"colorbar\":{\"outlinewidth\":0,\"ticks\":\"\"},\"type\":\"mesh3d\"}],\"parcoords\":[{\"line\":{\"colorbar\":{\"outlinewidth\":0,\"ticks\":\"\"}},\"type\":\"parcoords\"}],\"pie\":[{\"automargin\":true,\"type\":\"pie\"}],\"scatter\":[{\"marker\":{\"colorbar\":{\"outlinewidth\":0,\"ticks\":\"\"}},\"type\":\"scatter\"}],\"scatter3d\":[{\"line\":{\"colorbar\":{\"outlinewidth\":0,\"ticks\":\"\"}},\"marker\":{\"colorbar\":{\"outlinewidth\":0,\"ticks\":\"\"}},\"type\":\"scatter3d\"}],\"scattercarpet\":[{\"marker\":{\"colorbar\":{\"outlinewidth\":0,\"ticks\":\"\"}},\"type\":\"scattercarpet\"}],\"scattergeo\":[{\"marker\":{\"colorbar\":{\"outlinewidth\":0,\"ticks\":\"\"}},\"type\":\"scattergeo\"}],\"scattergl\":[{\"marker\":{\"colorbar\":{\"outlinewidth\":0,\"ticks\":\"\"}},\"type\":\"scattergl\"}],\"scattermapbox\":[{\"marker\":{\"colorbar\":{\"outlinewidth\":0,\"ticks\":\"\"}},\"type\":\"scattermapbox\"}],\"scatterpolar\":[{\"marker\":{\"colorbar\":{\"outlinewidth\":0,\"ticks\":\"\"}},\"type\":\"scatterpolar\"}],\"scatterpolargl\":[{\"marker\":{\"colorbar\":{\"outlinewidth\":0,\"ticks\":\"\"}},\"type\":\"scatterpolargl\"}],\"scatterternary\":[{\"marker\":{\"colorbar\":{\"outlinewidth\":0,\"ticks\":\"\"}},\"type\":\"scatterternary\"}],\"surface\":[{\"colorbar\":{\"outlinewidth\":0,\"ticks\":\"\"},\"colorscale\":[[0.0,\"#0d0887\"],[0.1111111111111111,\"#46039f\"],[0.2222222222222222,\"#7201a8\"],[0.3333333333333333,\"#9c179e\"],[0.4444444444444444,\"#bd3786\"],[0.5555555555555556,\"#d8576b\"],[0.6666666666666666,\"#ed7953\"],[0.7777777777777778,\"#fb9f3a\"],[0.8888888888888888,\"#fdca26\"],[1.0,\"#f0f921\"]],\"type\":\"surface\"}],\"table\":[{\"cells\":{\"fill\":{\"color\":\"#EBF0F8\"},\"line\":{\"color\":\"white\"}},\"header\":{\"fill\":{\"color\":\"#C8D4E3\"},\"line\":{\"color\":\"white\"}},\"type\":\"table\"}]},\"layout\":{\"annotationdefaults\":{\"arrowcolor\":\"#2a3f5f\",\"arrowhead\":0,\"arrowwidth\":1},\"autotypenumbers\":\"strict\",\"coloraxis\":{\"colorbar\":{\"outlinewidth\":0,\"ticks\":\"\"}},\"colorscale\":{\"diverging\":[[0,\"#8e0152\"],[0.1,\"#c51b7d\"],[0.2,\"#de77ae\"],[0.3,\"#f1b6da\"],[0.4,\"#fde0ef\"],[0.5,\"#f7f7f7\"],[0.6,\"#e6f5d0\"],[0.7,\"#b8e186\"],[0.8,\"#7fbc41\"],[0.9,\"#4d9221\"],[1,\"#276419\"]],\"sequential\":[[0.0,\"#0d0887\"],[0.1111111111111111,\"#46039f\"],[0.2222222222222222,\"#7201a8\"],[0.3333333333333333,\"#9c179e\"],[0.4444444444444444,\"#bd3786\"],[0.5555555555555556,\"#d8576b\"],[0.6666666666666666,\"#ed7953\"],[0.7777777777777778,\"#fb9f3a\"],[0.8888888888888888,\"#fdca26\"],[1.0,\"#f0f921\"]],\"sequentialminus\":[[0.0,\"#0d0887\"],[0.1111111111111111,\"#46039f\"],[0.2222222222222222,\"#7201a8\"],[0.3333333333333333,\"#9c179e\"],[0.4444444444444444,\"#bd3786\"],[0.5555555555555556,\"#d8576b\"],[0.6666666666666666,\"#ed7953\"],[0.7777777777777778,\"#fb9f3a\"],[0.8888888888888888,\"#fdca26\"],[1.0,\"#f0f921\"]]},\"colorway\":[\"#636efa\",\"#EF553B\",\"#00cc96\",\"#ab63fa\",\"#FFA15A\",\"#19d3f3\",\"#FF6692\",\"#B6E880\",\"#FF97FF\",\"#FECB52\"],\"font\":{\"color\":\"#2a3f5f\"},\"geo\":{\"bgcolor\":\"white\",\"lakecolor\":\"white\",\"landcolor\":\"#E5ECF6\",\"showlakes\":true,\"showland\":true,\"subunitcolor\":\"white\"},\"hoverlabel\":{\"align\":\"left\"},\"hovermode\":\"closest\",\"mapbox\":{\"style\":\"light\"},\"paper_bgcolor\":\"white\",\"plot_bgcolor\":\"#E5ECF6\",\"polar\":{\"angularaxis\":{\"gridcolor\":\"white\",\"linecolor\":\"white\",\"ticks\":\"\"},\"bgcolor\":\"#E5ECF6\",\"radialaxis\":{\"gridcolor\":\"white\",\"linecolor\":\"white\",\"ticks\":\"\"}},\"scene\":{\"xaxis\":{\"backgroundcolor\":\"#E5ECF6\",\"gridcolor\":\"white\",\"gridwidth\":2,\"linecolor\":\"white\",\"showbackground\":true,\"ticks\":\"\",\"zerolinecolor\":\"white\"},\"yaxis\":{\"backgroundcolor\":\"#E5ECF6\",\"gridcolor\":\"white\",\"gridwidth\":2,\"linecolor\":\"white\",\"showbackground\":true,\"ticks\":\"\",\"zerolinecolor\":\"white\"},\"zaxis\":{\"backgroundcolor\":\"#E5ECF6\",\"gridcolor\":\"white\",\"gridwidth\":2,\"linecolor\":\"white\",\"showbackground\":true,\"ticks\":\"\",\"zerolinecolor\":\"white\"}},\"shapedefaults\":{\"line\":{\"color\":\"#2a3f5f\"}},\"ternary\":{\"aaxis\":{\"gridcolor\":\"white\",\"linecolor\":\"white\",\"ticks\":\"\"},\"baxis\":{\"gridcolor\":\"white\",\"linecolor\":\"white\",\"ticks\":\"\"},\"bgcolor\":\"#E5ECF6\",\"caxis\":{\"gridcolor\":\"white\",\"linecolor\":\"white\",\"ticks\":\"\"}},\"title\":{\"x\":0.05},\"xaxis\":{\"automargin\":true,\"gridcolor\":\"white\",\"linecolor\":\"white\",\"ticks\":\"\",\"title\":{\"standoff\":15},\"zerolinecolor\":\"white\",\"zerolinewidth\":2},\"yaxis\":{\"automargin\":true,\"gridcolor\":\"white\",\"linecolor\":\"white\",\"ticks\":\"\",\"title\":{\"standoff\":15},\"zerolinecolor\":\"white\",\"zerolinewidth\":2}}},\"xaxis\":{\"anchor\":\"y\",\"domain\":[0.0,1.0],\"title\":{\"text\":\"age\"}},\"yaxis\":{\"anchor\":\"x\",\"domain\":[0.0,1.0],\"title\":{\"text\":\"sugar\"}},\"coloraxis\":{\"colorbar\":{\"title\":{\"text\":\"class\"}},\"colorscale\":[[0.0,\"#0d0887\"],[0.1111111111111111,\"#46039f\"],[0.2222222222222222,\"#7201a8\"],[0.3333333333333333,\"#9c179e\"],[0.4444444444444444,\"#bd3786\"],[0.5555555555555556,\"#d8576b\"],[0.6666666666666666,\"#ed7953\"],[0.7777777777777778,\"#fb9f3a\"],[0.8888888888888888,\"#fdca26\"],[1.0,\"#f0f921\"]]},\"legend\":{\"tracegroupgap\":0},\"margin\":{\"t\":60}},                        {\"responsive\": true}                    ).then(function(){\n",
              "                            \n",
              "var gd = document.getElementById('06dc9171-4929-489e-9cf9-0d3d37202fdb');\n",
              "var x = new MutationObserver(function (mutations, observer) {{\n",
              "        var display = window.getComputedStyle(gd).display;\n",
              "        if (!display || display === 'none') {{\n",
              "            console.log([gd, 'removed!']);\n",
              "            Plotly.purge(gd);\n",
              "            observer.disconnect();\n",
              "        }}\n",
              "}});\n",
              "\n",
              "// Listen for the removal of the full notebook cells\n",
              "var notebookContainer = gd.closest('#notebook-container');\n",
              "if (notebookContainer) {{\n",
              "    x.observe(notebookContainer, {childList: true});\n",
              "}}\n",
              "\n",
              "// Listen for the clearing of the current output cell\n",
              "var outputEl = gd.closest('.output');\n",
              "if (outputEl) {{\n",
              "    x.observe(outputEl, {childList: true});\n",
              "}}\n",
              "\n",
              "                        })                };                            </script>        </div>\n",
              "</body>\n",
              "</html>"
            ]
          },
          "metadata": {}
        }
      ],
      "source": [
        "px.scatter(df, x=\"age\", y=\"sugar\", color=\"class\")"
      ]
    },
    {
      "cell_type": "code",
      "execution_count": 94,
      "metadata": {
        "colab": {
          "base_uri": "https://localhost:8080/",
          "height": 542
        },
        "id": "oNbO4VtiUcAY",
        "outputId": "e4e955ef-a331-48c7-94e7-03fe27c91b82"
      },
      "outputs": [
        {
          "output_type": "display_data",
          "data": {
            "text/html": [
              "<html>\n",
              "<head><meta charset=\"utf-8\" /></head>\n",
              "<body>\n",
              "    <div>            <script src=\"https://cdnjs.cloudflare.com/ajax/libs/mathjax/2.7.5/MathJax.js?config=TeX-AMS-MML_SVG\"></script><script type=\"text/javascript\">if (window.MathJax) {MathJax.Hub.Config({SVG: {font: \"STIX-Web\"}});}</script>                <script type=\"text/javascript\">window.PlotlyConfig = {MathJaxConfig: 'local'};</script>\n",
              "        <script src=\"https://cdn.plot.ly/plotly-2.8.3.min.js\"></script>                <div id=\"b81f5cdd-7629-4c1c-a8de-a96483288337\" class=\"plotly-graph-div\" style=\"height:525px; width:100%;\"></div>            <script type=\"text/javascript\">                                    window.PLOTLYENV=window.PLOTLYENV || {};                                    if (document.getElementById(\"b81f5cdd-7629-4c1c-a8de-a96483288337\")) {                    Plotly.newPlot(                        \"b81f5cdd-7629-4c1c-a8de-a96483288337\",                        [{\"hovertemplate\":\"age=%{x}<br>haemoglobin=%{y}<br>class=%{marker.color}<extra></extra>\",\"legendgroup\":\"\",\"marker\":{\"color\":[0,0,0,0,0,0,0,0,0,0,0,0,0,0,0,0,0,0,0,0,0,0,0,0,0,0,0,0,0,0,0,0,0,0,0,0,0,0,0,0,0,0,0,0,0,0,0,0,0,0,0,0,0,0,0,0,0,0,0,0,0,0,0,0,0,0,0,0,0,0,0,0,0,0,0,0,0,0,0,0,0,0,0,0,0,0,0,0,0,0,0,0,0,0,0,0,0,0,0,0,0,0,0,0,0,0,0,0,0,0,0,0,0,0,0,0,0,0,0,0,0,0,0,0,0,0,0,0,0,0,0,0,0,0,0,0,0,0,0,0,0,0,0,0,0,0,0,0,0,0,0,0,0,0,0,0,0,0,0,0,0,0,0,0,0,0,0,0,0,0,0,0,0,0,0,0,0,0,0,0,0,0,0,0,0,0,0,0,0,0,0,0,0,0,0,0,0,0,0,0,0,0,0,0,0,0,0,0,0,0,0,0,0,0,0,0,0,0,0,0,0,0,0,0,0,0,0,0,0,0,0,0,0,0,0,0,0,0,0,0,0,0,0,0,0,0,0,0,0,0,1,1,1,1,1,1,1,1,1,1,1,1,1,1,1,1,1,1,1,1,1,1,1,1,1,1,1,1,1,1,1,1,1,1,1,1,1,1,1,1,1,1,1,1,1,1,1,1,1,1,1,1,1,1,1,1,1,1,1,1,1,1,1,1,1,1,1,1,1,1,1,1,1,1,1,1,1,1,1,1,1,1,1,1,1,1,1,1,1,1,1,1,1,1,1,1,1,1,1,1,1,1,1,1,1,1,1,1,1,1,1,1,1,1,1,1,1,1,1,1,1,1,1,1,1,1,1,1,1,1,1,1,1,1,1,1,1,1,1,1,1,1,1,1,1,1,1,1,1,1],\"coloraxis\":\"coloraxis\",\"symbol\":\"circle\"},\"mode\":\"markers\",\"name\":\"\",\"orientation\":\"v\",\"showlegend\":false,\"x\":[48.0,7.0,62.0,48.0,51.0,60.0,68.0,24.0,52.0,53.0,50.0,63.0,68.0,68.0,68.0,40.0,47.0,47.0,60.0,62.0,61.0,60.0,48.0,21.0,42.0,61.0,75.0,69.0,75.0,68.0,null,73.0,61.0,60.0,70.0,65.0,76.0,72.0,69.0,82.0,46.0,45.0,47.0,35.0,54.0,54.0,48.0,11.0,73.0,60.0,53.0,54.0,53.0,62.0,63.0,35.0,76.0,76.0,73.0,59.0,67.0,67.0,15.0,46.0,55.0,44.0,67.0,45.0,65.0,26.0,61.0,46.0,64.0,null,56.0,5.0,48.0,67.0,70.0,56.0,74.0,45.0,38.0,48.0,59.0,70.0,56.0,70.0,58.0,50.0,63.0,56.0,71.0,73.0,65.0,62.0,60.0,65.0,50.0,56.0,34.0,71.0,17.0,76.0,55.0,65.0,50.0,55.0,45.0,54.0,63.0,65.0,null,61.0,12.0,47.0,null,null,55.0,60.0,72.0,54.0,34.0,43.0,65.0,72.0,70.0,71.0,52.0,75.0,50.0,5.0,50.0,70.0,47.0,48.0,46.0,45.0,73.0,41.0,69.0,67.0,72.0,41.0,60.0,57.0,53.0,60.0,69.0,65.0,8.0,76.0,39.0,55.0,56.0,50.0,66.0,62.0,71.0,59.0,81.0,62.0,59.0,46.0,14.0,60.0,27.0,34.0,65.0,null,66.0,83.0,62.0,17.0,54.0,60.0,21.0,65.0,42.0,72.0,73.0,45.0,61.0,30.0,54.0,4.0,8.0,3.0,8.0,64.0,6.0,null,46.0,32.0,80.0,70.0,49.0,57.0,59.0,65.0,90.0,64.0,78.0,null,65.0,61.0,60.0,50.0,67.0,19.0,59.0,54.0,40.0,55.0,68.0,2.0,64.0,63.0,33.0,68.0,36.0,66.0,74.0,71.0,34.0,60.0,64.0,57.0,60.0,59.0,65.0,60.0,50.0,51.0,37.0,45.0,65.0,80.0,72.0,34.0,65.0,57.0,69.0,62.0,64.0,48.0,48.0,54.0,59.0,56.0,40.0,23.0,45.0,57.0,51.0,34.0,60.0,38.0,42.0,35.0,30.0,49.0,55.0,45.0,42.0,50.0,55.0,48.0,null,25.0,23.0,30.0,56.0,47.0,19.0,52.0,20.0,46.0,48.0,24.0,47.0,55.0,20.0,60.0,33.0,66.0,71.0,39.0,56.0,42.0,54.0,47.0,30.0,50.0,75.0,44.0,41.0,53.0,34.0,73.0,45.0,44.0,29.0,55.0,33.0,41.0,52.0,47.0,43.0,51.0,46.0,56.0,80.0,55.0,39.0,44.0,35.0,58.0,61.0,30.0,57.0,65.0,70.0,43.0,40.0,58.0,47.0,30.0,28.0,33.0,43.0,59.0,34.0,23.0,24.0,60.0,25.0,44.0,62.0,25.0,32.0,63.0,44.0,37.0,64.0,22.0,33.0,43.0,38.0,35.0,65.0,29.0,37.0,39.0,32.0,23.0,34.0,66.0,47.0,74.0,35.0,29.0,33.0,67.0,73.0,24.0,60.0,68.0,30.0,75.0,69.0,28.0,72.0,61.0,79.0,70.0,58.0,64.0,71.0,62.0,59.0,71.0,48.0,80.0,57.0,63.0,46.0,15.0,51.0,41.0,52.0,36.0,57.0,43.0,50.0,55.0,42.0,12.0,17.0,58.0],\"xaxis\":\"x\",\"y\":[15.4,11.3,9.6,11.2,11.6,12.2,12.4,12.4,10.8,9.5,9.4,10.8,9.7,9.8,5.6,7.6,12.6,12.1,12.7,10.3,7.7,10.9,9.8,null,11.1,9.9,11.6,12.5,null,12.9,null,10.1,11.3,10.1,null,12.0,10.3,9.7,12.5,13.0,11.1,null,9.7,7.9,9.7,9.3,12.4,15.0,10.0,9.7,8.6,10.3,10.9,13.6,13.0,9.5,10.2,null,10.5,6.6,null,null,11.0,7.5,9.8,15.0,null,null,10.9,15.6,15.2,9.8,10.3,4.8,9.1,8.1,10.3,11.9,10.1,13.5,10.8,8.3,null,null,7.1,9.9,null,11.1,null,null,13.0,16.1,10.4,9.2,11.6,null,11.2,10.0,6.2,11.2,null,11.3,13.9,10.2,null,14.1,6.0,11.2,11.8,11.7,11.7,10.0,10.8,null,12.1,12.4,null,12.5,11.4,null,12.6,15.0,6.0,14.0,9.1,null,12.0,11.4,8.1,11.1,8.2,11.8,8.6,12.0,10.8,13.2,9.3,10.0,null,11.1,null,6.1,null,null,11.1,8.0,null,7.9,null,10.5,12.3,9.6,10.9,8.3,8.4,11.1,null,12.6,10.9,10.4,10.9,14.3,9.8,9.0,14.3,null,null,12.7,11.0,8.7,12.5,8.7,10.6,13.1,11.0,null,8.3,13.2,9.8,11.9,10.3,10.0,11.3,null,11.3,12.0,null,10.7,12.2,9.5,9.9,9.1,null,5.5,null,5.8,8.1,6.8,11.2,8.8,12.0,7.9,8.0,8.5,8.8,12.6,13.8,12.0,12.3,11.5,7.3,null,10.9,10.9,13.7,null,12.8,12.2,11.8,9.8,11.9,null,null,13.0,null,11.5,7.9,11.3,null,9.6,null,11.5,null,null,15.0,7.9,9.1,12.7,9.4,11.9,11.4,10.4,9.4,13.4,12.2,6.3,8.6,null,12.6,3.1,15.0,17.0,15.9,15.4,13.0,13.6,14.5,14.0,13.9,16.1,14.1,17.0,15.5,16.2,14.4,14.2,13.2,13.9,16.3,15.0,14.3,13.8,14.8,null,14.4,16.5,14.0,15.7,14.5,16.3,13.3,15.5,14.6,16.4,16.9,16.0,14.7,13.4,15.9,16.6,14.8,14.9,16.7,14.9,14.3,15.0,16.8,15.8,13.5,15.1,15.0,16.9,14.8,17.0,13.1,17.1,15.2,13.6,13.9,17.2,13.2,13.7,15.3,17.3,15.6,13.8,15.4,15.0,17.4,null,15.7,13.9,16.0,15.9,null,14.0,15.8,13.4,null,14.1,null,13.5,15.3,17.7,15.4,14.2,15.2,14.0,17.8,13.3,14.3,13.4,15.0,16.2,14.4,13.5,15.5,17.8,13.6,14.5,16.1,17.5,15.0,13.6,14.6,15.0,17.1,13.6,13.0,17.2,14.7,13.7,15.0,17.8,14.8,null,15.0,17.4,14.9,13.6,16.2,17.6,15.0,13.7,16.3,15.1,16.4,13.8,15.2,16.1,15.3,16.6,16.8,13.9,15.4,16.5,16.4,16.7,15.5,17.0,15.0,15.6,14.8,13.0,14.1,15.7,16.5,15.8,14.2,15.8],\"yaxis\":\"y\",\"type\":\"scatter\"},{\"alignmentgroup\":\"True\",\"hovertemplate\":\"age=%{x}<extra></extra>\",\"legendgroup\":\"\",\"marker\":{\"color\":\"#0d0887\",\"symbol\":\"circle\"},\"name\":\"\",\"notched\":true,\"offsetgroup\":\"\",\"showlegend\":false,\"x\":[48.0,7.0,62.0,48.0,51.0,60.0,68.0,24.0,52.0,53.0,50.0,63.0,68.0,68.0,68.0,40.0,47.0,47.0,60.0,62.0,61.0,60.0,48.0,21.0,42.0,61.0,75.0,69.0,75.0,68.0,null,73.0,61.0,60.0,70.0,65.0,76.0,72.0,69.0,82.0,46.0,45.0,47.0,35.0,54.0,54.0,48.0,11.0,73.0,60.0,53.0,54.0,53.0,62.0,63.0,35.0,76.0,76.0,73.0,59.0,67.0,67.0,15.0,46.0,55.0,44.0,67.0,45.0,65.0,26.0,61.0,46.0,64.0,null,56.0,5.0,48.0,67.0,70.0,56.0,74.0,45.0,38.0,48.0,59.0,70.0,56.0,70.0,58.0,50.0,63.0,56.0,71.0,73.0,65.0,62.0,60.0,65.0,50.0,56.0,34.0,71.0,17.0,76.0,55.0,65.0,50.0,55.0,45.0,54.0,63.0,65.0,null,61.0,12.0,47.0,null,null,55.0,60.0,72.0,54.0,34.0,43.0,65.0,72.0,70.0,71.0,52.0,75.0,50.0,5.0,50.0,70.0,47.0,48.0,46.0,45.0,73.0,41.0,69.0,67.0,72.0,41.0,60.0,57.0,53.0,60.0,69.0,65.0,8.0,76.0,39.0,55.0,56.0,50.0,66.0,62.0,71.0,59.0,81.0,62.0,59.0,46.0,14.0,60.0,27.0,34.0,65.0,null,66.0,83.0,62.0,17.0,54.0,60.0,21.0,65.0,42.0,72.0,73.0,45.0,61.0,30.0,54.0,4.0,8.0,3.0,8.0,64.0,6.0,null,46.0,32.0,80.0,70.0,49.0,57.0,59.0,65.0,90.0,64.0,78.0,null,65.0,61.0,60.0,50.0,67.0,19.0,59.0,54.0,40.0,55.0,68.0,2.0,64.0,63.0,33.0,68.0,36.0,66.0,74.0,71.0,34.0,60.0,64.0,57.0,60.0,59.0,65.0,60.0,50.0,51.0,37.0,45.0,65.0,80.0,72.0,34.0,65.0,57.0,69.0,62.0,64.0,48.0,48.0,54.0,59.0,56.0,40.0,23.0,45.0,57.0,51.0,34.0,60.0,38.0,42.0,35.0,30.0,49.0,55.0,45.0,42.0,50.0,55.0,48.0,null,25.0,23.0,30.0,56.0,47.0,19.0,52.0,20.0,46.0,48.0,24.0,47.0,55.0,20.0,60.0,33.0,66.0,71.0,39.0,56.0,42.0,54.0,47.0,30.0,50.0,75.0,44.0,41.0,53.0,34.0,73.0,45.0,44.0,29.0,55.0,33.0,41.0,52.0,47.0,43.0,51.0,46.0,56.0,80.0,55.0,39.0,44.0,35.0,58.0,61.0,30.0,57.0,65.0,70.0,43.0,40.0,58.0,47.0,30.0,28.0,33.0,43.0,59.0,34.0,23.0,24.0,60.0,25.0,44.0,62.0,25.0,32.0,63.0,44.0,37.0,64.0,22.0,33.0,43.0,38.0,35.0,65.0,29.0,37.0,39.0,32.0,23.0,34.0,66.0,47.0,74.0,35.0,29.0,33.0,67.0,73.0,24.0,60.0,68.0,30.0,75.0,69.0,28.0,72.0,61.0,79.0,70.0,58.0,64.0,71.0,62.0,59.0,71.0,48.0,80.0,57.0,63.0,46.0,15.0,51.0,41.0,52.0,36.0,57.0,43.0,50.0,55.0,42.0,12.0,17.0,58.0],\"xaxis\":\"x3\",\"yaxis\":\"y3\",\"type\":\"box\"},{\"alignmentgroup\":\"True\",\"hovertemplate\":\"haemoglobin=%{y}<extra></extra>\",\"legendgroup\":\"\",\"marker\":{\"color\":\"#0d0887\",\"symbol\":\"circle\"},\"name\":\"\",\"offsetgroup\":\"\",\"scalegroup\":\"y\",\"showlegend\":false,\"xaxis\":\"x2\",\"y\":[15.4,11.3,9.6,11.2,11.6,12.2,12.4,12.4,10.8,9.5,9.4,10.8,9.7,9.8,5.6,7.6,12.6,12.1,12.7,10.3,7.7,10.9,9.8,null,11.1,9.9,11.6,12.5,null,12.9,null,10.1,11.3,10.1,null,12.0,10.3,9.7,12.5,13.0,11.1,null,9.7,7.9,9.7,9.3,12.4,15.0,10.0,9.7,8.6,10.3,10.9,13.6,13.0,9.5,10.2,null,10.5,6.6,null,null,11.0,7.5,9.8,15.0,null,null,10.9,15.6,15.2,9.8,10.3,4.8,9.1,8.1,10.3,11.9,10.1,13.5,10.8,8.3,null,null,7.1,9.9,null,11.1,null,null,13.0,16.1,10.4,9.2,11.6,null,11.2,10.0,6.2,11.2,null,11.3,13.9,10.2,null,14.1,6.0,11.2,11.8,11.7,11.7,10.0,10.8,null,12.1,12.4,null,12.5,11.4,null,12.6,15.0,6.0,14.0,9.1,null,12.0,11.4,8.1,11.1,8.2,11.8,8.6,12.0,10.8,13.2,9.3,10.0,null,11.1,null,6.1,null,null,11.1,8.0,null,7.9,null,10.5,12.3,9.6,10.9,8.3,8.4,11.1,null,12.6,10.9,10.4,10.9,14.3,9.8,9.0,14.3,null,null,12.7,11.0,8.7,12.5,8.7,10.6,13.1,11.0,null,8.3,13.2,9.8,11.9,10.3,10.0,11.3,null,11.3,12.0,null,10.7,12.2,9.5,9.9,9.1,null,5.5,null,5.8,8.1,6.8,11.2,8.8,12.0,7.9,8.0,8.5,8.8,12.6,13.8,12.0,12.3,11.5,7.3,null,10.9,10.9,13.7,null,12.8,12.2,11.8,9.8,11.9,null,null,13.0,null,11.5,7.9,11.3,null,9.6,null,11.5,null,null,15.0,7.9,9.1,12.7,9.4,11.9,11.4,10.4,9.4,13.4,12.2,6.3,8.6,null,12.6,3.1,15.0,17.0,15.9,15.4,13.0,13.6,14.5,14.0,13.9,16.1,14.1,17.0,15.5,16.2,14.4,14.2,13.2,13.9,16.3,15.0,14.3,13.8,14.8,null,14.4,16.5,14.0,15.7,14.5,16.3,13.3,15.5,14.6,16.4,16.9,16.0,14.7,13.4,15.9,16.6,14.8,14.9,16.7,14.9,14.3,15.0,16.8,15.8,13.5,15.1,15.0,16.9,14.8,17.0,13.1,17.1,15.2,13.6,13.9,17.2,13.2,13.7,15.3,17.3,15.6,13.8,15.4,15.0,17.4,null,15.7,13.9,16.0,15.9,null,14.0,15.8,13.4,null,14.1,null,13.5,15.3,17.7,15.4,14.2,15.2,14.0,17.8,13.3,14.3,13.4,15.0,16.2,14.4,13.5,15.5,17.8,13.6,14.5,16.1,17.5,15.0,13.6,14.6,15.0,17.1,13.6,13.0,17.2,14.7,13.7,15.0,17.8,14.8,null,15.0,17.4,14.9,13.6,16.2,17.6,15.0,13.7,16.3,15.1,16.4,13.8,15.2,16.1,15.3,16.6,16.8,13.9,15.4,16.5,16.4,16.7,15.5,17.0,15.0,15.6,14.8,13.0,14.1,15.7,16.5,15.8,14.2,15.8],\"yaxis\":\"y2\",\"type\":\"violin\"}],                        {\"template\":{\"data\":{\"bar\":[{\"error_x\":{\"color\":\"#2a3f5f\"},\"error_y\":{\"color\":\"#2a3f5f\"},\"marker\":{\"line\":{\"color\":\"#E5ECF6\",\"width\":0.5},\"pattern\":{\"fillmode\":\"overlay\",\"size\":10,\"solidity\":0.2}},\"type\":\"bar\"}],\"barpolar\":[{\"marker\":{\"line\":{\"color\":\"#E5ECF6\",\"width\":0.5},\"pattern\":{\"fillmode\":\"overlay\",\"size\":10,\"solidity\":0.2}},\"type\":\"barpolar\"}],\"carpet\":[{\"aaxis\":{\"endlinecolor\":\"#2a3f5f\",\"gridcolor\":\"white\",\"linecolor\":\"white\",\"minorgridcolor\":\"white\",\"startlinecolor\":\"#2a3f5f\"},\"baxis\":{\"endlinecolor\":\"#2a3f5f\",\"gridcolor\":\"white\",\"linecolor\":\"white\",\"minorgridcolor\":\"white\",\"startlinecolor\":\"#2a3f5f\"},\"type\":\"carpet\"}],\"choropleth\":[{\"colorbar\":{\"outlinewidth\":0,\"ticks\":\"\"},\"type\":\"choropleth\"}],\"contour\":[{\"colorbar\":{\"outlinewidth\":0,\"ticks\":\"\"},\"colorscale\":[[0.0,\"#0d0887\"],[0.1111111111111111,\"#46039f\"],[0.2222222222222222,\"#7201a8\"],[0.3333333333333333,\"#9c179e\"],[0.4444444444444444,\"#bd3786\"],[0.5555555555555556,\"#d8576b\"],[0.6666666666666666,\"#ed7953\"],[0.7777777777777778,\"#fb9f3a\"],[0.8888888888888888,\"#fdca26\"],[1.0,\"#f0f921\"]],\"type\":\"contour\"}],\"contourcarpet\":[{\"colorbar\":{\"outlinewidth\":0,\"ticks\":\"\"},\"type\":\"contourcarpet\"}],\"heatmap\":[{\"colorbar\":{\"outlinewidth\":0,\"ticks\":\"\"},\"colorscale\":[[0.0,\"#0d0887\"],[0.1111111111111111,\"#46039f\"],[0.2222222222222222,\"#7201a8\"],[0.3333333333333333,\"#9c179e\"],[0.4444444444444444,\"#bd3786\"],[0.5555555555555556,\"#d8576b\"],[0.6666666666666666,\"#ed7953\"],[0.7777777777777778,\"#fb9f3a\"],[0.8888888888888888,\"#fdca26\"],[1.0,\"#f0f921\"]],\"type\":\"heatmap\"}],\"heatmapgl\":[{\"colorbar\":{\"outlinewidth\":0,\"ticks\":\"\"},\"colorscale\":[[0.0,\"#0d0887\"],[0.1111111111111111,\"#46039f\"],[0.2222222222222222,\"#7201a8\"],[0.3333333333333333,\"#9c179e\"],[0.4444444444444444,\"#bd3786\"],[0.5555555555555556,\"#d8576b\"],[0.6666666666666666,\"#ed7953\"],[0.7777777777777778,\"#fb9f3a\"],[0.8888888888888888,\"#fdca26\"],[1.0,\"#f0f921\"]],\"type\":\"heatmapgl\"}],\"histogram\":[{\"marker\":{\"pattern\":{\"fillmode\":\"overlay\",\"size\":10,\"solidity\":0.2}},\"type\":\"histogram\"}],\"histogram2d\":[{\"colorbar\":{\"outlinewidth\":0,\"ticks\":\"\"},\"colorscale\":[[0.0,\"#0d0887\"],[0.1111111111111111,\"#46039f\"],[0.2222222222222222,\"#7201a8\"],[0.3333333333333333,\"#9c179e\"],[0.4444444444444444,\"#bd3786\"],[0.5555555555555556,\"#d8576b\"],[0.6666666666666666,\"#ed7953\"],[0.7777777777777778,\"#fb9f3a\"],[0.8888888888888888,\"#fdca26\"],[1.0,\"#f0f921\"]],\"type\":\"histogram2d\"}],\"histogram2dcontour\":[{\"colorbar\":{\"outlinewidth\":0,\"ticks\":\"\"},\"colorscale\":[[0.0,\"#0d0887\"],[0.1111111111111111,\"#46039f\"],[0.2222222222222222,\"#7201a8\"],[0.3333333333333333,\"#9c179e\"],[0.4444444444444444,\"#bd3786\"],[0.5555555555555556,\"#d8576b\"],[0.6666666666666666,\"#ed7953\"],[0.7777777777777778,\"#fb9f3a\"],[0.8888888888888888,\"#fdca26\"],[1.0,\"#f0f921\"]],\"type\":\"histogram2dcontour\"}],\"mesh3d\":[{\"colorbar\":{\"outlinewidth\":0,\"ticks\":\"\"},\"type\":\"mesh3d\"}],\"parcoords\":[{\"line\":{\"colorbar\":{\"outlinewidth\":0,\"ticks\":\"\"}},\"type\":\"parcoords\"}],\"pie\":[{\"automargin\":true,\"type\":\"pie\"}],\"scatter\":[{\"marker\":{\"colorbar\":{\"outlinewidth\":0,\"ticks\":\"\"}},\"type\":\"scatter\"}],\"scatter3d\":[{\"line\":{\"colorbar\":{\"outlinewidth\":0,\"ticks\":\"\"}},\"marker\":{\"colorbar\":{\"outlinewidth\":0,\"ticks\":\"\"}},\"type\":\"scatter3d\"}],\"scattercarpet\":[{\"marker\":{\"colorbar\":{\"outlinewidth\":0,\"ticks\":\"\"}},\"type\":\"scattercarpet\"}],\"scattergeo\":[{\"marker\":{\"colorbar\":{\"outlinewidth\":0,\"ticks\":\"\"}},\"type\":\"scattergeo\"}],\"scattergl\":[{\"marker\":{\"colorbar\":{\"outlinewidth\":0,\"ticks\":\"\"}},\"type\":\"scattergl\"}],\"scattermapbox\":[{\"marker\":{\"colorbar\":{\"outlinewidth\":0,\"ticks\":\"\"}},\"type\":\"scattermapbox\"}],\"scatterpolar\":[{\"marker\":{\"colorbar\":{\"outlinewidth\":0,\"ticks\":\"\"}},\"type\":\"scatterpolar\"}],\"scatterpolargl\":[{\"marker\":{\"colorbar\":{\"outlinewidth\":0,\"ticks\":\"\"}},\"type\":\"scatterpolargl\"}],\"scatterternary\":[{\"marker\":{\"colorbar\":{\"outlinewidth\":0,\"ticks\":\"\"}},\"type\":\"scatterternary\"}],\"surface\":[{\"colorbar\":{\"outlinewidth\":0,\"ticks\":\"\"},\"colorscale\":[[0.0,\"#0d0887\"],[0.1111111111111111,\"#46039f\"],[0.2222222222222222,\"#7201a8\"],[0.3333333333333333,\"#9c179e\"],[0.4444444444444444,\"#bd3786\"],[0.5555555555555556,\"#d8576b\"],[0.6666666666666666,\"#ed7953\"],[0.7777777777777778,\"#fb9f3a\"],[0.8888888888888888,\"#fdca26\"],[1.0,\"#f0f921\"]],\"type\":\"surface\"}],\"table\":[{\"cells\":{\"fill\":{\"color\":\"#EBF0F8\"},\"line\":{\"color\":\"white\"}},\"header\":{\"fill\":{\"color\":\"#C8D4E3\"},\"line\":{\"color\":\"white\"}},\"type\":\"table\"}]},\"layout\":{\"annotationdefaults\":{\"arrowcolor\":\"#2a3f5f\",\"arrowhead\":0,\"arrowwidth\":1},\"autotypenumbers\":\"strict\",\"coloraxis\":{\"colorbar\":{\"outlinewidth\":0,\"ticks\":\"\"}},\"colorscale\":{\"diverging\":[[0,\"#8e0152\"],[0.1,\"#c51b7d\"],[0.2,\"#de77ae\"],[0.3,\"#f1b6da\"],[0.4,\"#fde0ef\"],[0.5,\"#f7f7f7\"],[0.6,\"#e6f5d0\"],[0.7,\"#b8e186\"],[0.8,\"#7fbc41\"],[0.9,\"#4d9221\"],[1,\"#276419\"]],\"sequential\":[[0.0,\"#0d0887\"],[0.1111111111111111,\"#46039f\"],[0.2222222222222222,\"#7201a8\"],[0.3333333333333333,\"#9c179e\"],[0.4444444444444444,\"#bd3786\"],[0.5555555555555556,\"#d8576b\"],[0.6666666666666666,\"#ed7953\"],[0.7777777777777778,\"#fb9f3a\"],[0.8888888888888888,\"#fdca26\"],[1.0,\"#f0f921\"]],\"sequentialminus\":[[0.0,\"#0d0887\"],[0.1111111111111111,\"#46039f\"],[0.2222222222222222,\"#7201a8\"],[0.3333333333333333,\"#9c179e\"],[0.4444444444444444,\"#bd3786\"],[0.5555555555555556,\"#d8576b\"],[0.6666666666666666,\"#ed7953\"],[0.7777777777777778,\"#fb9f3a\"],[0.8888888888888888,\"#fdca26\"],[1.0,\"#f0f921\"]]},\"colorway\":[\"#636efa\",\"#EF553B\",\"#00cc96\",\"#ab63fa\",\"#FFA15A\",\"#19d3f3\",\"#FF6692\",\"#B6E880\",\"#FF97FF\",\"#FECB52\"],\"font\":{\"color\":\"#2a3f5f\"},\"geo\":{\"bgcolor\":\"white\",\"lakecolor\":\"white\",\"landcolor\":\"#E5ECF6\",\"showlakes\":true,\"showland\":true,\"subunitcolor\":\"white\"},\"hoverlabel\":{\"align\":\"left\"},\"hovermode\":\"closest\",\"mapbox\":{\"style\":\"light\"},\"paper_bgcolor\":\"white\",\"plot_bgcolor\":\"#E5ECF6\",\"polar\":{\"angularaxis\":{\"gridcolor\":\"white\",\"linecolor\":\"white\",\"ticks\":\"\"},\"bgcolor\":\"#E5ECF6\",\"radialaxis\":{\"gridcolor\":\"white\",\"linecolor\":\"white\",\"ticks\":\"\"}},\"scene\":{\"xaxis\":{\"backgroundcolor\":\"#E5ECF6\",\"gridcolor\":\"white\",\"gridwidth\":2,\"linecolor\":\"white\",\"showbackground\":true,\"ticks\":\"\",\"zerolinecolor\":\"white\"},\"yaxis\":{\"backgroundcolor\":\"#E5ECF6\",\"gridcolor\":\"white\",\"gridwidth\":2,\"linecolor\":\"white\",\"showbackground\":true,\"ticks\":\"\",\"zerolinecolor\":\"white\"},\"zaxis\":{\"backgroundcolor\":\"#E5ECF6\",\"gridcolor\":\"white\",\"gridwidth\":2,\"linecolor\":\"white\",\"showbackground\":true,\"ticks\":\"\",\"zerolinecolor\":\"white\"}},\"shapedefaults\":{\"line\":{\"color\":\"#2a3f5f\"}},\"ternary\":{\"aaxis\":{\"gridcolor\":\"white\",\"linecolor\":\"white\",\"ticks\":\"\"},\"baxis\":{\"gridcolor\":\"white\",\"linecolor\":\"white\",\"ticks\":\"\"},\"bgcolor\":\"#E5ECF6\",\"caxis\":{\"gridcolor\":\"white\",\"linecolor\":\"white\",\"ticks\":\"\"}},\"title\":{\"x\":0.05},\"xaxis\":{\"automargin\":true,\"gridcolor\":\"white\",\"linecolor\":\"white\",\"ticks\":\"\",\"title\":{\"standoff\":15},\"zerolinecolor\":\"white\",\"zerolinewidth\":2},\"yaxis\":{\"automargin\":true,\"gridcolor\":\"white\",\"linecolor\":\"white\",\"ticks\":\"\",\"title\":{\"standoff\":15},\"zerolinecolor\":\"white\",\"zerolinewidth\":2}}},\"xaxis\":{\"anchor\":\"y\",\"domain\":[0.0,0.7363],\"title\":{\"text\":\"age\"}},\"yaxis\":{\"anchor\":\"x\",\"domain\":[0.0,0.7326],\"title\":{\"text\":\"haemoglobin\"}},\"xaxis2\":{\"anchor\":\"y2\",\"domain\":[0.7413,1.0],\"matches\":\"x2\",\"showticklabels\":false,\"showline\":false,\"ticks\":\"\",\"showgrid\":false},\"yaxis2\":{\"anchor\":\"x2\",\"domain\":[0.0,0.7326],\"matches\":\"y\",\"showticklabels\":false,\"showgrid\":true},\"xaxis3\":{\"anchor\":\"y3\",\"domain\":[0.0,0.7363],\"matches\":\"x\",\"showticklabels\":false,\"showgrid\":true},\"yaxis3\":{\"anchor\":\"x3\",\"domain\":[0.7426,1.0],\"matches\":\"y3\",\"showticklabels\":false,\"showline\":false,\"ticks\":\"\",\"showgrid\":false},\"xaxis4\":{\"anchor\":\"y4\",\"domain\":[0.7413,1.0],\"matches\":\"x2\",\"showticklabels\":false,\"showgrid\":false,\"showline\":false,\"ticks\":\"\"},\"yaxis4\":{\"anchor\":\"x4\",\"domain\":[0.7426,1.0],\"matches\":\"y3\",\"showticklabels\":false,\"showline\":false,\"ticks\":\"\",\"showgrid\":true},\"coloraxis\":{\"colorbar\":{\"title\":{\"text\":\"class\"}},\"colorscale\":[[0.0,\"#0d0887\"],[0.1111111111111111,\"#46039f\"],[0.2222222222222222,\"#7201a8\"],[0.3333333333333333,\"#9c179e\"],[0.4444444444444444,\"#bd3786\"],[0.5555555555555556,\"#d8576b\"],[0.6666666666666666,\"#ed7953\"],[0.7777777777777778,\"#fb9f3a\"],[0.8888888888888888,\"#fdca26\"],[1.0,\"#f0f921\"]]},\"legend\":{\"tracegroupgap\":0},\"margin\":{\"t\":60}},                        {\"responsive\": true}                    ).then(function(){\n",
              "                            \n",
              "var gd = document.getElementById('b81f5cdd-7629-4c1c-a8de-a96483288337');\n",
              "var x = new MutationObserver(function (mutations, observer) {{\n",
              "        var display = window.getComputedStyle(gd).display;\n",
              "        if (!display || display === 'none') {{\n",
              "            console.log([gd, 'removed!']);\n",
              "            Plotly.purge(gd);\n",
              "            observer.disconnect();\n",
              "        }}\n",
              "}});\n",
              "\n",
              "// Listen for the removal of the full notebook cells\n",
              "var notebookContainer = gd.closest('#notebook-container');\n",
              "if (notebookContainer) {{\n",
              "    x.observe(notebookContainer, {childList: true});\n",
              "}}\n",
              "\n",
              "// Listen for the clearing of the current output cell\n",
              "var outputEl = gd.closest('.output');\n",
              "if (outputEl) {{\n",
              "    x.observe(outputEl, {childList: true});\n",
              "}}\n",
              "\n",
              "                        })                };                            </script>        </div>\n",
              "</body>\n",
              "</html>"
            ]
          },
          "metadata": {}
        }
      ],
      "source": [
        "px.scatter(df, x=\"age\", y=\"haemoglobin\", color=\"class\", marginal_y=\"violin\", marginal_x=\"box\")"
      ]
    },
    {
      "cell_type": "code",
      "execution_count": 95,
      "metadata": {
        "colab": {
          "base_uri": "https://localhost:8080/",
          "height": 542
        },
        "id": "LZB-hGCqU6-r",
        "outputId": "2203c2b0-0c25-4c5a-ed9f-4cdbf9619892"
      },
      "outputs": [
        {
          "output_type": "display_data",
          "data": {
            "text/html": [
              "<html>\n",
              "<head><meta charset=\"utf-8\" /></head>\n",
              "<body>\n",
              "    <div>            <script src=\"https://cdnjs.cloudflare.com/ajax/libs/mathjax/2.7.5/MathJax.js?config=TeX-AMS-MML_SVG\"></script><script type=\"text/javascript\">if (window.MathJax) {MathJax.Hub.Config({SVG: {font: \"STIX-Web\"}});}</script>                <script type=\"text/javascript\">window.PlotlyConfig = {MathJaxConfig: 'local'};</script>\n",
              "        <script src=\"https://cdn.plot.ly/plotly-2.8.3.min.js\"></script>                <div id=\"7a6106a4-940a-412b-b378-9df0851c2685\" class=\"plotly-graph-div\" style=\"height:525px; width:100%;\"></div>            <script type=\"text/javascript\">                                    window.PLOTLYENV=window.PLOTLYENV || {};                                    if (document.getElementById(\"7a6106a4-940a-412b-b378-9df0851c2685\")) {                    Plotly.newPlot(                        \"7a6106a4-940a-412b-b378-9df0851c2685\",                        [{\"hovertemplate\":\"age=%{x}<br>bacteria=%{y}<br>class=%{marker.color}<extra></extra>\",\"legendgroup\":\"\",\"marker\":{\"color\":[0,0,0,0,0,0,0,0,0,0,0,0,0,0,0,0,0,0,0,0,0,0,0,0,0,0,0,0,0,0,0,0,0,0,0,0,0,0,0,0,0,0,0,0,0,0,0,0,0,0,0,0,0,0,0,0,0,0,0,0,0,0,0,0,0,0,0,0,0,0,0,0,0,0,0,0,0,0,0,0,0,0,0,0,0,0,0,0,0,0,0,0,0,0,0,0,0,0,0,0,0,0,0,0,0,0,0,0,0,0,0,0,0,0,0,0,0,0,0,0,0,0,0,0,0,0,0,0,0,0,0,0,0,0,0,0,0,0,0,0,0,0,0,0,0,0,0,0,0,0,0,0,0,0,0,0,0,0,0,0,0,0,0,0,0,0,0,0,0,0,0,0,0,0,0,0,0,0,0,0,0,0,0,0,0,0,0,0,0,0,0,0,0,0,0,0,0,0,0,0,0,0,0,0,0,0,0,0,0,0,0,0,0,0,0,0,0,0,0,0,0,0,0,0,0,0,0,0,0,0,0,0,0,0,0,0,0,0,0,0,0,0,0,0,0,0,0,0,0,0,1,1,1,1,1,1,1,1,1,1,1,1,1,1,1,1,1,1,1,1,1,1,1,1,1,1,1,1,1,1,1,1,1,1,1,1,1,1,1,1,1,1,1,1,1,1,1,1,1,1,1,1,1,1,1,1,1,1,1,1,1,1,1,1,1,1,1,1,1,1,1,1,1,1,1,1,1,1,1,1,1,1,1,1,1,1,1,1,1,1,1,1,1,1,1,1,1,1,1,1,1,1,1,1,1,1,1,1,1,1,1,1,1,1,1,1,1,1,1,1,1,1,1,1,1,1,1,1,1,1,1,1,1,1,1,1,1,1,1,1,1,1,1,1,1,1,1,1,1,1],\"coloraxis\":\"coloraxis\",\"symbol\":\"circle\"},\"mode\":\"markers\",\"name\":\"\",\"orientation\":\"h\",\"showlegend\":false,\"x\":[48.0,7.0,62.0,48.0,51.0,60.0,68.0,24.0,52.0,53.0,50.0,63.0,68.0,68.0,68.0,40.0,47.0,47.0,60.0,62.0,61.0,60.0,48.0,21.0,42.0,61.0,75.0,69.0,75.0,68.0,null,73.0,61.0,60.0,70.0,65.0,76.0,72.0,69.0,82.0,46.0,45.0,47.0,35.0,54.0,54.0,48.0,11.0,73.0,60.0,53.0,54.0,53.0,62.0,63.0,35.0,76.0,76.0,73.0,59.0,67.0,67.0,15.0,46.0,55.0,44.0,67.0,45.0,65.0,26.0,61.0,46.0,64.0,null,56.0,5.0,48.0,67.0,70.0,56.0,74.0,45.0,38.0,48.0,59.0,70.0,56.0,70.0,58.0,50.0,63.0,56.0,71.0,73.0,65.0,62.0,60.0,65.0,50.0,56.0,34.0,71.0,17.0,76.0,55.0,65.0,50.0,55.0,45.0,54.0,63.0,65.0,null,61.0,12.0,47.0,null,null,55.0,60.0,72.0,54.0,34.0,43.0,65.0,72.0,70.0,71.0,52.0,75.0,50.0,5.0,50.0,70.0,47.0,48.0,46.0,45.0,73.0,41.0,69.0,67.0,72.0,41.0,60.0,57.0,53.0,60.0,69.0,65.0,8.0,76.0,39.0,55.0,56.0,50.0,66.0,62.0,71.0,59.0,81.0,62.0,59.0,46.0,14.0,60.0,27.0,34.0,65.0,null,66.0,83.0,62.0,17.0,54.0,60.0,21.0,65.0,42.0,72.0,73.0,45.0,61.0,30.0,54.0,4.0,8.0,3.0,8.0,64.0,6.0,null,46.0,32.0,80.0,70.0,49.0,57.0,59.0,65.0,90.0,64.0,78.0,null,65.0,61.0,60.0,50.0,67.0,19.0,59.0,54.0,40.0,55.0,68.0,2.0,64.0,63.0,33.0,68.0,36.0,66.0,74.0,71.0,34.0,60.0,64.0,57.0,60.0,59.0,65.0,60.0,50.0,51.0,37.0,45.0,65.0,80.0,72.0,34.0,65.0,57.0,69.0,62.0,64.0,48.0,48.0,54.0,59.0,56.0,40.0,23.0,45.0,57.0,51.0,34.0,60.0,38.0,42.0,35.0,30.0,49.0,55.0,45.0,42.0,50.0,55.0,48.0,null,25.0,23.0,30.0,56.0,47.0,19.0,52.0,20.0,46.0,48.0,24.0,47.0,55.0,20.0,60.0,33.0,66.0,71.0,39.0,56.0,42.0,54.0,47.0,30.0,50.0,75.0,44.0,41.0,53.0,34.0,73.0,45.0,44.0,29.0,55.0,33.0,41.0,52.0,47.0,43.0,51.0,46.0,56.0,80.0,55.0,39.0,44.0,35.0,58.0,61.0,30.0,57.0,65.0,70.0,43.0,40.0,58.0,47.0,30.0,28.0,33.0,43.0,59.0,34.0,23.0,24.0,60.0,25.0,44.0,62.0,25.0,32.0,63.0,44.0,37.0,64.0,22.0,33.0,43.0,38.0,35.0,65.0,29.0,37.0,39.0,32.0,23.0,34.0,66.0,47.0,74.0,35.0,29.0,33.0,67.0,73.0,24.0,60.0,68.0,30.0,75.0,69.0,28.0,72.0,61.0,79.0,70.0,58.0,64.0,71.0,62.0,59.0,71.0,48.0,80.0,57.0,63.0,46.0,15.0,51.0,41.0,52.0,36.0,57.0,43.0,50.0,55.0,42.0,12.0,17.0,58.0],\"xaxis\":\"x\",\"y\":[\"notpresent\",\"notpresent\",\"notpresent\",\"notpresent\",\"notpresent\",\"notpresent\",\"notpresent\",\"notpresent\",\"notpresent\",\"notpresent\",\"notpresent\",\"notpresent\",\"notpresent\",\"notpresent\",\"present\",\"notpresent\",\"notpresent\",\"notpresent\",\"notpresent\",\"notpresent\",\"notpresent\",\"notpresent\",\"notpresent\",\"notpresent\",\"present\",\"notpresent\",\"notpresent\",\"notpresent\",\"notpresent\",\"notpresent\",\"notpresent\",\"notpresent\",\"notpresent\",\"notpresent\",\"present\",\"notpresent\",\"notpresent\",\"notpresent\",\"notpresent\",\"notpresent\",\"notpresent\",\"notpresent\",\"notpresent\",\"notpresent\",\"notpresent\",\"notpresent\",\"notpresent\",\"notpresent\",\"notpresent\",\"notpresent\",\"notpresent\",\"notpresent\",\"notpresent\",\"notpresent\",\"notpresent\",\"notpresent\",\"notpresent\",\"notpresent\",\"notpresent\",\"notpresent\",\"notpresent\",\"notpresent\",\"notpresent\",\"notpresent\",\"notpresent\",\"notpresent\",\"notpresent\",\"notpresent\",\"notpresent\",\"notpresent\",\"notpresent\",\"notpresent\",\"notpresent\",\"notpresent\",\"notpresent\",\"notpresent\",\"present\",\"notpresent\",\"notpresent\",\"notpresent\",\"notpresent\",\"notpresent\",\"notpresent\",\"notpresent\",\"notpresent\",\"notpresent\",\"notpresent\",\"notpresent\",\"notpresent\",\"notpresent\",\"present\",\"notpresent\",\"present\",\"notpresent\",\"notpresent\",\"notpresent\",\"notpresent\",\"notpresent\",\"notpresent\",\"notpresent\",\"notpresent\",\"present\",\"notpresent\",\"notpresent\",\"notpresent\",\"notpresent\",\"notpresent\",\"notpresent\",\"notpresent\",\"notpresent\",\"notpresent\",\"notpresent\",\"notpresent\",\"notpresent\",\"notpresent\",\"notpresent\",\"notpresent\",\"notpresent\",\"notpresent\",\"notpresent\",\"notpresent\",\"notpresent\",\"notpresent\",\"present\",\"notpresent\",\"notpresent\",\"notpresent\",\"notpresent\",\"notpresent\",\"notpresent\",\"present\",\"notpresent\",\"notpresent\",\"notpresent\",\"notpresent\",\"notpresent\",\"notpresent\",\"notpresent\",\"notpresent\",\"present\",\"notpresent\",\"notpresent\",\"notpresent\",\"notpresent\",\"notpresent\",\"present\",\"notpresent\",\"notpresent\",\"notpresent\",\"notpresent\",\"notpresent\",\"notpresent\",\"notpresent\",\"notpresent\",\"notpresent\",\"present\",\"present\",\"notpresent\",\"notpresent\",\"notpresent\",\"notpresent\",\"notpresent\",\"notpresent\",\"notpresent\",\"notpresent\",\"notpresent\",\"notpresent\",\"notpresent\",\"notpresent\",\"notpresent\",\"notpresent\",\"notpresent\",\"notpresent\",\"notpresent\",\"notpresent\",\"notpresent\",\"present\",\"notpresent\",\"notpresent\",\"notpresent\",\"notpresent\",\"notpresent\",\"notpresent\",\"notpresent\",\"notpresent\",\"notpresent\",\"notpresent\",\"notpresent\",\"notpresent\",\"present\",\"present\",\"notpresent\",\"notpresent\",\"notpresent\",\"notpresent\",\"present\",\"notpresent\",\"notpresent\",\"notpresent\",\"notpresent\",\"notpresent\",\"notpresent\",\"notpresent\",\"notpresent\",\"notpresent\",\"notpresent\",\"notpresent\",\"notpresent\",\"notpresent\",\"notpresent\",\"notpresent\",\"notpresent\",\"notpresent\",\"present\",\"notpresent\",\"notpresent\",\"notpresent\",\"notpresent\",\"notpresent\",\"notpresent\",\"notpresent\",\"notpresent\",\"notpresent\",\"notpresent\",\"notpresent\",\"present\",\"present\",\"notpresent\",\"notpresent\",\"notpresent\",\"notpresent\",\"notpresent\",\"notpresent\",\"present\",\"notpresent\",\"notpresent\",\"notpresent\",\"notpresent\",\"notpresent\",\"notpresent\",\"notpresent\",\"notpresent\",\"present\",\"notpresent\",\"notpresent\",\"notpresent\",\"notpresent\",\"notpresent\",\"notpresent\",\"notpresent\",\"notpresent\",\"notpresent\",\"notpresent\",\"notpresent\",\"notpresent\",\"notpresent\",\"notpresent\",\"notpresent\",\"notpresent\",\"notpresent\",\"notpresent\",\"notpresent\",\"notpresent\",\"notpresent\",\"notpresent\",\"notpresent\",\"notpresent\",\"notpresent\",\"notpresent\",\"notpresent\",\"notpresent\",\"notpresent\",\"notpresent\",\"notpresent\",\"notpresent\",\"notpresent\",\"notpresent\",\"notpresent\",\"notpresent\",\"notpresent\",\"notpresent\",\"notpresent\",\"notpresent\",\"notpresent\",\"notpresent\",\"notpresent\",\"notpresent\",\"notpresent\",\"notpresent\",\"notpresent\",null,\"notpresent\",\"notpresent\",\"notpresent\",\"notpresent\",\"notpresent\",\"notpresent\",\"notpresent\",\"notpresent\",\"notpresent\",null,\"notpresent\",\"notpresent\",\"notpresent\",\"notpresent\",\"notpresent\",\"notpresent\",\"notpresent\",\"notpresent\",\"notpresent\",\"notpresent\",\"notpresent\",\"notpresent\",\"notpresent\",\"notpresent\",\"notpresent\",null,\"notpresent\",\"notpresent\",\"notpresent\",\"notpresent\",\"notpresent\",\"notpresent\",\"notpresent\",\"notpresent\",\"notpresent\",\"notpresent\",\"notpresent\",null,\"notpresent\",\"notpresent\",\"notpresent\",\"notpresent\",\"notpresent\",\"notpresent\",\"notpresent\",\"notpresent\",\"notpresent\",\"notpresent\",\"notpresent\",\"notpresent\",\"notpresent\",\"notpresent\",\"notpresent\",\"notpresent\",\"notpresent\",\"notpresent\",\"notpresent\",\"notpresent\",\"notpresent\",\"notpresent\",\"notpresent\",\"notpresent\",\"notpresent\",\"notpresent\",\"notpresent\",\"notpresent\",\"notpresent\",\"notpresent\",\"notpresent\",\"notpresent\",\"notpresent\",\"notpresent\",\"notpresent\",\"notpresent\",\"notpresent\",\"notpresent\",\"notpresent\",\"notpresent\",\"notpresent\",\"notpresent\",\"notpresent\",\"notpresent\",\"notpresent\",\"notpresent\",\"notpresent\",\"notpresent\",\"notpresent\",\"notpresent\",\"notpresent\",\"notpresent\",\"notpresent\",\"notpresent\",\"notpresent\",\"notpresent\",\"notpresent\",\"notpresent\",\"notpresent\",\"notpresent\",\"notpresent\",\"notpresent\",\"notpresent\",\"notpresent\",\"notpresent\",\"notpresent\",\"notpresent\",\"notpresent\",\"notpresent\",\"notpresent\",\"notpresent\"],\"yaxis\":\"y\",\"type\":\"scatter\"},{\"alignmentgroup\":\"True\",\"hovertemplate\":\"age=%{x}<extra></extra>\",\"legendgroup\":\"\",\"marker\":{\"color\":\"#0d0887\",\"symbol\":\"circle\"},\"name\":\"\",\"notched\":true,\"offsetgroup\":\"\",\"showlegend\":false,\"x\":[48.0,7.0,62.0,48.0,51.0,60.0,68.0,24.0,52.0,53.0,50.0,63.0,68.0,68.0,68.0,40.0,47.0,47.0,60.0,62.0,61.0,60.0,48.0,21.0,42.0,61.0,75.0,69.0,75.0,68.0,null,73.0,61.0,60.0,70.0,65.0,76.0,72.0,69.0,82.0,46.0,45.0,47.0,35.0,54.0,54.0,48.0,11.0,73.0,60.0,53.0,54.0,53.0,62.0,63.0,35.0,76.0,76.0,73.0,59.0,67.0,67.0,15.0,46.0,55.0,44.0,67.0,45.0,65.0,26.0,61.0,46.0,64.0,null,56.0,5.0,48.0,67.0,70.0,56.0,74.0,45.0,38.0,48.0,59.0,70.0,56.0,70.0,58.0,50.0,63.0,56.0,71.0,73.0,65.0,62.0,60.0,65.0,50.0,56.0,34.0,71.0,17.0,76.0,55.0,65.0,50.0,55.0,45.0,54.0,63.0,65.0,null,61.0,12.0,47.0,null,null,55.0,60.0,72.0,54.0,34.0,43.0,65.0,72.0,70.0,71.0,52.0,75.0,50.0,5.0,50.0,70.0,47.0,48.0,46.0,45.0,73.0,41.0,69.0,67.0,72.0,41.0,60.0,57.0,53.0,60.0,69.0,65.0,8.0,76.0,39.0,55.0,56.0,50.0,66.0,62.0,71.0,59.0,81.0,62.0,59.0,46.0,14.0,60.0,27.0,34.0,65.0,null,66.0,83.0,62.0,17.0,54.0,60.0,21.0,65.0,42.0,72.0,73.0,45.0,61.0,30.0,54.0,4.0,8.0,3.0,8.0,64.0,6.0,null,46.0,32.0,80.0,70.0,49.0,57.0,59.0,65.0,90.0,64.0,78.0,null,65.0,61.0,60.0,50.0,67.0,19.0,59.0,54.0,40.0,55.0,68.0,2.0,64.0,63.0,33.0,68.0,36.0,66.0,74.0,71.0,34.0,60.0,64.0,57.0,60.0,59.0,65.0,60.0,50.0,51.0,37.0,45.0,65.0,80.0,72.0,34.0,65.0,57.0,69.0,62.0,64.0,48.0,48.0,54.0,59.0,56.0,40.0,23.0,45.0,57.0,51.0,34.0,60.0,38.0,42.0,35.0,30.0,49.0,55.0,45.0,42.0,50.0,55.0,48.0,null,25.0,23.0,30.0,56.0,47.0,19.0,52.0,20.0,46.0,48.0,24.0,47.0,55.0,20.0,60.0,33.0,66.0,71.0,39.0,56.0,42.0,54.0,47.0,30.0,50.0,75.0,44.0,41.0,53.0,34.0,73.0,45.0,44.0,29.0,55.0,33.0,41.0,52.0,47.0,43.0,51.0,46.0,56.0,80.0,55.0,39.0,44.0,35.0,58.0,61.0,30.0,57.0,65.0,70.0,43.0,40.0,58.0,47.0,30.0,28.0,33.0,43.0,59.0,34.0,23.0,24.0,60.0,25.0,44.0,62.0,25.0,32.0,63.0,44.0,37.0,64.0,22.0,33.0,43.0,38.0,35.0,65.0,29.0,37.0,39.0,32.0,23.0,34.0,66.0,47.0,74.0,35.0,29.0,33.0,67.0,73.0,24.0,60.0,68.0,30.0,75.0,69.0,28.0,72.0,61.0,79.0,70.0,58.0,64.0,71.0,62.0,59.0,71.0,48.0,80.0,57.0,63.0,46.0,15.0,51.0,41.0,52.0,36.0,57.0,43.0,50.0,55.0,42.0,12.0,17.0,58.0],\"xaxis\":\"x3\",\"yaxis\":\"y3\",\"type\":\"box\"},{\"alignmentgroup\":\"True\",\"hovertemplate\":\"bacteria=%{y}<extra></extra>\",\"legendgroup\":\"\",\"marker\":{\"color\":\"#0d0887\",\"symbol\":\"circle\"},\"name\":\"\",\"offsetgroup\":\"\",\"scalegroup\":\"y\",\"showlegend\":false,\"xaxis\":\"x2\",\"y\":[\"notpresent\",\"notpresent\",\"notpresent\",\"notpresent\",\"notpresent\",\"notpresent\",\"notpresent\",\"notpresent\",\"notpresent\",\"notpresent\",\"notpresent\",\"notpresent\",\"notpresent\",\"notpresent\",\"present\",\"notpresent\",\"notpresent\",\"notpresent\",\"notpresent\",\"notpresent\",\"notpresent\",\"notpresent\",\"notpresent\",\"notpresent\",\"present\",\"notpresent\",\"notpresent\",\"notpresent\",\"notpresent\",\"notpresent\",\"notpresent\",\"notpresent\",\"notpresent\",\"notpresent\",\"present\",\"notpresent\",\"notpresent\",\"notpresent\",\"notpresent\",\"notpresent\",\"notpresent\",\"notpresent\",\"notpresent\",\"notpresent\",\"notpresent\",\"notpresent\",\"notpresent\",\"notpresent\",\"notpresent\",\"notpresent\",\"notpresent\",\"notpresent\",\"notpresent\",\"notpresent\",\"notpresent\",\"notpresent\",\"notpresent\",\"notpresent\",\"notpresent\",\"notpresent\",\"notpresent\",\"notpresent\",\"notpresent\",\"notpresent\",\"notpresent\",\"notpresent\",\"notpresent\",\"notpresent\",\"notpresent\",\"notpresent\",\"notpresent\",\"notpresent\",\"notpresent\",\"notpresent\",\"notpresent\",\"notpresent\",\"present\",\"notpresent\",\"notpresent\",\"notpresent\",\"notpresent\",\"notpresent\",\"notpresent\",\"notpresent\",\"notpresent\",\"notpresent\",\"notpresent\",\"notpresent\",\"notpresent\",\"notpresent\",\"present\",\"notpresent\",\"present\",\"notpresent\",\"notpresent\",\"notpresent\",\"notpresent\",\"notpresent\",\"notpresent\",\"notpresent\",\"notpresent\",\"present\",\"notpresent\",\"notpresent\",\"notpresent\",\"notpresent\",\"notpresent\",\"notpresent\",\"notpresent\",\"notpresent\",\"notpresent\",\"notpresent\",\"notpresent\",\"notpresent\",\"notpresent\",\"notpresent\",\"notpresent\",\"notpresent\",\"notpresent\",\"notpresent\",\"notpresent\",\"notpresent\",\"notpresent\",\"present\",\"notpresent\",\"notpresent\",\"notpresent\",\"notpresent\",\"notpresent\",\"notpresent\",\"present\",\"notpresent\",\"notpresent\",\"notpresent\",\"notpresent\",\"notpresent\",\"notpresent\",\"notpresent\",\"notpresent\",\"present\",\"notpresent\",\"notpresent\",\"notpresent\",\"notpresent\",\"notpresent\",\"present\",\"notpresent\",\"notpresent\",\"notpresent\",\"notpresent\",\"notpresent\",\"notpresent\",\"notpresent\",\"notpresent\",\"notpresent\",\"present\",\"present\",\"notpresent\",\"notpresent\",\"notpresent\",\"notpresent\",\"notpresent\",\"notpresent\",\"notpresent\",\"notpresent\",\"notpresent\",\"notpresent\",\"notpresent\",\"notpresent\",\"notpresent\",\"notpresent\",\"notpresent\",\"notpresent\",\"notpresent\",\"notpresent\",\"notpresent\",\"present\",\"notpresent\",\"notpresent\",\"notpresent\",\"notpresent\",\"notpresent\",\"notpresent\",\"notpresent\",\"notpresent\",\"notpresent\",\"notpresent\",\"notpresent\",\"notpresent\",\"present\",\"present\",\"notpresent\",\"notpresent\",\"notpresent\",\"notpresent\",\"present\",\"notpresent\",\"notpresent\",\"notpresent\",\"notpresent\",\"notpresent\",\"notpresent\",\"notpresent\",\"notpresent\",\"notpresent\",\"notpresent\",\"notpresent\",\"notpresent\",\"notpresent\",\"notpresent\",\"notpresent\",\"notpresent\",\"notpresent\",\"present\",\"notpresent\",\"notpresent\",\"notpresent\",\"notpresent\",\"notpresent\",\"notpresent\",\"notpresent\",\"notpresent\",\"notpresent\",\"notpresent\",\"notpresent\",\"present\",\"present\",\"notpresent\",\"notpresent\",\"notpresent\",\"notpresent\",\"notpresent\",\"notpresent\",\"present\",\"notpresent\",\"notpresent\",\"notpresent\",\"notpresent\",\"notpresent\",\"notpresent\",\"notpresent\",\"notpresent\",\"present\",\"notpresent\",\"notpresent\",\"notpresent\",\"notpresent\",\"notpresent\",\"notpresent\",\"notpresent\",\"notpresent\",\"notpresent\",\"notpresent\",\"notpresent\",\"notpresent\",\"notpresent\",\"notpresent\",\"notpresent\",\"notpresent\",\"notpresent\",\"notpresent\",\"notpresent\",\"notpresent\",\"notpresent\",\"notpresent\",\"notpresent\",\"notpresent\",\"notpresent\",\"notpresent\",\"notpresent\",\"notpresent\",\"notpresent\",\"notpresent\",\"notpresent\",\"notpresent\",\"notpresent\",\"notpresent\",\"notpresent\",\"notpresent\",\"notpresent\",\"notpresent\",\"notpresent\",\"notpresent\",\"notpresent\",\"notpresent\",\"notpresent\",\"notpresent\",\"notpresent\",\"notpresent\",\"notpresent\",null,\"notpresent\",\"notpresent\",\"notpresent\",\"notpresent\",\"notpresent\",\"notpresent\",\"notpresent\",\"notpresent\",\"notpresent\",null,\"notpresent\",\"notpresent\",\"notpresent\",\"notpresent\",\"notpresent\",\"notpresent\",\"notpresent\",\"notpresent\",\"notpresent\",\"notpresent\",\"notpresent\",\"notpresent\",\"notpresent\",\"notpresent\",\"notpresent\",null,\"notpresent\",\"notpresent\",\"notpresent\",\"notpresent\",\"notpresent\",\"notpresent\",\"notpresent\",\"notpresent\",\"notpresent\",\"notpresent\",\"notpresent\",null,\"notpresent\",\"notpresent\",\"notpresent\",\"notpresent\",\"notpresent\",\"notpresent\",\"notpresent\",\"notpresent\",\"notpresent\",\"notpresent\",\"notpresent\",\"notpresent\",\"notpresent\",\"notpresent\",\"notpresent\",\"notpresent\",\"notpresent\",\"notpresent\",\"notpresent\",\"notpresent\",\"notpresent\",\"notpresent\",\"notpresent\",\"notpresent\",\"notpresent\",\"notpresent\",\"notpresent\",\"notpresent\",\"notpresent\",\"notpresent\",\"notpresent\",\"notpresent\",\"notpresent\",\"notpresent\",\"notpresent\",\"notpresent\",\"notpresent\",\"notpresent\",\"notpresent\",\"notpresent\",\"notpresent\",\"notpresent\",\"notpresent\",\"notpresent\",\"notpresent\",\"notpresent\",\"notpresent\",\"notpresent\",\"notpresent\",\"notpresent\",\"notpresent\",\"notpresent\",\"notpresent\",\"notpresent\",\"notpresent\",\"notpresent\",\"notpresent\",\"notpresent\",\"notpresent\",\"notpresent\",\"notpresent\",\"notpresent\",\"notpresent\",\"notpresent\",\"notpresent\",\"notpresent\",\"notpresent\",\"notpresent\",\"notpresent\",\"notpresent\",\"notpresent\"],\"yaxis\":\"y2\",\"type\":\"violin\"}],                        {\"template\":{\"data\":{\"bar\":[{\"error_x\":{\"color\":\"#2a3f5f\"},\"error_y\":{\"color\":\"#2a3f5f\"},\"marker\":{\"line\":{\"color\":\"#E5ECF6\",\"width\":0.5},\"pattern\":{\"fillmode\":\"overlay\",\"size\":10,\"solidity\":0.2}},\"type\":\"bar\"}],\"barpolar\":[{\"marker\":{\"line\":{\"color\":\"#E5ECF6\",\"width\":0.5},\"pattern\":{\"fillmode\":\"overlay\",\"size\":10,\"solidity\":0.2}},\"type\":\"barpolar\"}],\"carpet\":[{\"aaxis\":{\"endlinecolor\":\"#2a3f5f\",\"gridcolor\":\"white\",\"linecolor\":\"white\",\"minorgridcolor\":\"white\",\"startlinecolor\":\"#2a3f5f\"},\"baxis\":{\"endlinecolor\":\"#2a3f5f\",\"gridcolor\":\"white\",\"linecolor\":\"white\",\"minorgridcolor\":\"white\",\"startlinecolor\":\"#2a3f5f\"},\"type\":\"carpet\"}],\"choropleth\":[{\"colorbar\":{\"outlinewidth\":0,\"ticks\":\"\"},\"type\":\"choropleth\"}],\"contour\":[{\"colorbar\":{\"outlinewidth\":0,\"ticks\":\"\"},\"colorscale\":[[0.0,\"#0d0887\"],[0.1111111111111111,\"#46039f\"],[0.2222222222222222,\"#7201a8\"],[0.3333333333333333,\"#9c179e\"],[0.4444444444444444,\"#bd3786\"],[0.5555555555555556,\"#d8576b\"],[0.6666666666666666,\"#ed7953\"],[0.7777777777777778,\"#fb9f3a\"],[0.8888888888888888,\"#fdca26\"],[1.0,\"#f0f921\"]],\"type\":\"contour\"}],\"contourcarpet\":[{\"colorbar\":{\"outlinewidth\":0,\"ticks\":\"\"},\"type\":\"contourcarpet\"}],\"heatmap\":[{\"colorbar\":{\"outlinewidth\":0,\"ticks\":\"\"},\"colorscale\":[[0.0,\"#0d0887\"],[0.1111111111111111,\"#46039f\"],[0.2222222222222222,\"#7201a8\"],[0.3333333333333333,\"#9c179e\"],[0.4444444444444444,\"#bd3786\"],[0.5555555555555556,\"#d8576b\"],[0.6666666666666666,\"#ed7953\"],[0.7777777777777778,\"#fb9f3a\"],[0.8888888888888888,\"#fdca26\"],[1.0,\"#f0f921\"]],\"type\":\"heatmap\"}],\"heatmapgl\":[{\"colorbar\":{\"outlinewidth\":0,\"ticks\":\"\"},\"colorscale\":[[0.0,\"#0d0887\"],[0.1111111111111111,\"#46039f\"],[0.2222222222222222,\"#7201a8\"],[0.3333333333333333,\"#9c179e\"],[0.4444444444444444,\"#bd3786\"],[0.5555555555555556,\"#d8576b\"],[0.6666666666666666,\"#ed7953\"],[0.7777777777777778,\"#fb9f3a\"],[0.8888888888888888,\"#fdca26\"],[1.0,\"#f0f921\"]],\"type\":\"heatmapgl\"}],\"histogram\":[{\"marker\":{\"pattern\":{\"fillmode\":\"overlay\",\"size\":10,\"solidity\":0.2}},\"type\":\"histogram\"}],\"histogram2d\":[{\"colorbar\":{\"outlinewidth\":0,\"ticks\":\"\"},\"colorscale\":[[0.0,\"#0d0887\"],[0.1111111111111111,\"#46039f\"],[0.2222222222222222,\"#7201a8\"],[0.3333333333333333,\"#9c179e\"],[0.4444444444444444,\"#bd3786\"],[0.5555555555555556,\"#d8576b\"],[0.6666666666666666,\"#ed7953\"],[0.7777777777777778,\"#fb9f3a\"],[0.8888888888888888,\"#fdca26\"],[1.0,\"#f0f921\"]],\"type\":\"histogram2d\"}],\"histogram2dcontour\":[{\"colorbar\":{\"outlinewidth\":0,\"ticks\":\"\"},\"colorscale\":[[0.0,\"#0d0887\"],[0.1111111111111111,\"#46039f\"],[0.2222222222222222,\"#7201a8\"],[0.3333333333333333,\"#9c179e\"],[0.4444444444444444,\"#bd3786\"],[0.5555555555555556,\"#d8576b\"],[0.6666666666666666,\"#ed7953\"],[0.7777777777777778,\"#fb9f3a\"],[0.8888888888888888,\"#fdca26\"],[1.0,\"#f0f921\"]],\"type\":\"histogram2dcontour\"}],\"mesh3d\":[{\"colorbar\":{\"outlinewidth\":0,\"ticks\":\"\"},\"type\":\"mesh3d\"}],\"parcoords\":[{\"line\":{\"colorbar\":{\"outlinewidth\":0,\"ticks\":\"\"}},\"type\":\"parcoords\"}],\"pie\":[{\"automargin\":true,\"type\":\"pie\"}],\"scatter\":[{\"marker\":{\"colorbar\":{\"outlinewidth\":0,\"ticks\":\"\"}},\"type\":\"scatter\"}],\"scatter3d\":[{\"line\":{\"colorbar\":{\"outlinewidth\":0,\"ticks\":\"\"}},\"marker\":{\"colorbar\":{\"outlinewidth\":0,\"ticks\":\"\"}},\"type\":\"scatter3d\"}],\"scattercarpet\":[{\"marker\":{\"colorbar\":{\"outlinewidth\":0,\"ticks\":\"\"}},\"type\":\"scattercarpet\"}],\"scattergeo\":[{\"marker\":{\"colorbar\":{\"outlinewidth\":0,\"ticks\":\"\"}},\"type\":\"scattergeo\"}],\"scattergl\":[{\"marker\":{\"colorbar\":{\"outlinewidth\":0,\"ticks\":\"\"}},\"type\":\"scattergl\"}],\"scattermapbox\":[{\"marker\":{\"colorbar\":{\"outlinewidth\":0,\"ticks\":\"\"}},\"type\":\"scattermapbox\"}],\"scatterpolar\":[{\"marker\":{\"colorbar\":{\"outlinewidth\":0,\"ticks\":\"\"}},\"type\":\"scatterpolar\"}],\"scatterpolargl\":[{\"marker\":{\"colorbar\":{\"outlinewidth\":0,\"ticks\":\"\"}},\"type\":\"scatterpolargl\"}],\"scatterternary\":[{\"marker\":{\"colorbar\":{\"outlinewidth\":0,\"ticks\":\"\"}},\"type\":\"scatterternary\"}],\"surface\":[{\"colorbar\":{\"outlinewidth\":0,\"ticks\":\"\"},\"colorscale\":[[0.0,\"#0d0887\"],[0.1111111111111111,\"#46039f\"],[0.2222222222222222,\"#7201a8\"],[0.3333333333333333,\"#9c179e\"],[0.4444444444444444,\"#bd3786\"],[0.5555555555555556,\"#d8576b\"],[0.6666666666666666,\"#ed7953\"],[0.7777777777777778,\"#fb9f3a\"],[0.8888888888888888,\"#fdca26\"],[1.0,\"#f0f921\"]],\"type\":\"surface\"}],\"table\":[{\"cells\":{\"fill\":{\"color\":\"#EBF0F8\"},\"line\":{\"color\":\"white\"}},\"header\":{\"fill\":{\"color\":\"#C8D4E3\"},\"line\":{\"color\":\"white\"}},\"type\":\"table\"}]},\"layout\":{\"annotationdefaults\":{\"arrowcolor\":\"#2a3f5f\",\"arrowhead\":0,\"arrowwidth\":1},\"autotypenumbers\":\"strict\",\"coloraxis\":{\"colorbar\":{\"outlinewidth\":0,\"ticks\":\"\"}},\"colorscale\":{\"diverging\":[[0,\"#8e0152\"],[0.1,\"#c51b7d\"],[0.2,\"#de77ae\"],[0.3,\"#f1b6da\"],[0.4,\"#fde0ef\"],[0.5,\"#f7f7f7\"],[0.6,\"#e6f5d0\"],[0.7,\"#b8e186\"],[0.8,\"#7fbc41\"],[0.9,\"#4d9221\"],[1,\"#276419\"]],\"sequential\":[[0.0,\"#0d0887\"],[0.1111111111111111,\"#46039f\"],[0.2222222222222222,\"#7201a8\"],[0.3333333333333333,\"#9c179e\"],[0.4444444444444444,\"#bd3786\"],[0.5555555555555556,\"#d8576b\"],[0.6666666666666666,\"#ed7953\"],[0.7777777777777778,\"#fb9f3a\"],[0.8888888888888888,\"#fdca26\"],[1.0,\"#f0f921\"]],\"sequentialminus\":[[0.0,\"#0d0887\"],[0.1111111111111111,\"#46039f\"],[0.2222222222222222,\"#7201a8\"],[0.3333333333333333,\"#9c179e\"],[0.4444444444444444,\"#bd3786\"],[0.5555555555555556,\"#d8576b\"],[0.6666666666666666,\"#ed7953\"],[0.7777777777777778,\"#fb9f3a\"],[0.8888888888888888,\"#fdca26\"],[1.0,\"#f0f921\"]]},\"colorway\":[\"#636efa\",\"#EF553B\",\"#00cc96\",\"#ab63fa\",\"#FFA15A\",\"#19d3f3\",\"#FF6692\",\"#B6E880\",\"#FF97FF\",\"#FECB52\"],\"font\":{\"color\":\"#2a3f5f\"},\"geo\":{\"bgcolor\":\"white\",\"lakecolor\":\"white\",\"landcolor\":\"#E5ECF6\",\"showlakes\":true,\"showland\":true,\"subunitcolor\":\"white\"},\"hoverlabel\":{\"align\":\"left\"},\"hovermode\":\"closest\",\"mapbox\":{\"style\":\"light\"},\"paper_bgcolor\":\"white\",\"plot_bgcolor\":\"#E5ECF6\",\"polar\":{\"angularaxis\":{\"gridcolor\":\"white\",\"linecolor\":\"white\",\"ticks\":\"\"},\"bgcolor\":\"#E5ECF6\",\"radialaxis\":{\"gridcolor\":\"white\",\"linecolor\":\"white\",\"ticks\":\"\"}},\"scene\":{\"xaxis\":{\"backgroundcolor\":\"#E5ECF6\",\"gridcolor\":\"white\",\"gridwidth\":2,\"linecolor\":\"white\",\"showbackground\":true,\"ticks\":\"\",\"zerolinecolor\":\"white\"},\"yaxis\":{\"backgroundcolor\":\"#E5ECF6\",\"gridcolor\":\"white\",\"gridwidth\":2,\"linecolor\":\"white\",\"showbackground\":true,\"ticks\":\"\",\"zerolinecolor\":\"white\"},\"zaxis\":{\"backgroundcolor\":\"#E5ECF6\",\"gridcolor\":\"white\",\"gridwidth\":2,\"linecolor\":\"white\",\"showbackground\":true,\"ticks\":\"\",\"zerolinecolor\":\"white\"}},\"shapedefaults\":{\"line\":{\"color\":\"#2a3f5f\"}},\"ternary\":{\"aaxis\":{\"gridcolor\":\"white\",\"linecolor\":\"white\",\"ticks\":\"\"},\"baxis\":{\"gridcolor\":\"white\",\"linecolor\":\"white\",\"ticks\":\"\"},\"bgcolor\":\"#E5ECF6\",\"caxis\":{\"gridcolor\":\"white\",\"linecolor\":\"white\",\"ticks\":\"\"}},\"title\":{\"x\":0.05},\"xaxis\":{\"automargin\":true,\"gridcolor\":\"white\",\"linecolor\":\"white\",\"ticks\":\"\",\"title\":{\"standoff\":15},\"zerolinecolor\":\"white\",\"zerolinewidth\":2},\"yaxis\":{\"automargin\":true,\"gridcolor\":\"white\",\"linecolor\":\"white\",\"ticks\":\"\",\"title\":{\"standoff\":15},\"zerolinecolor\":\"white\",\"zerolinewidth\":2}}},\"xaxis\":{\"anchor\":\"y\",\"domain\":[0.0,0.7363],\"title\":{\"text\":\"age\"}},\"yaxis\":{\"anchor\":\"x\",\"domain\":[0.0,0.7326],\"title\":{\"text\":\"bacteria\"}},\"xaxis2\":{\"anchor\":\"y2\",\"domain\":[0.7413,1.0],\"matches\":\"x2\",\"showticklabels\":false,\"showline\":false,\"ticks\":\"\",\"showgrid\":false},\"yaxis2\":{\"anchor\":\"x2\",\"domain\":[0.0,0.7326],\"matches\":\"y\",\"showticklabels\":false,\"showgrid\":true},\"xaxis3\":{\"anchor\":\"y3\",\"domain\":[0.0,0.7363],\"matches\":\"x\",\"showticklabels\":false,\"showgrid\":true},\"yaxis3\":{\"anchor\":\"x3\",\"domain\":[0.7426,1.0],\"matches\":\"y3\",\"showticklabels\":false,\"showline\":false,\"ticks\":\"\",\"showgrid\":false},\"xaxis4\":{\"anchor\":\"y4\",\"domain\":[0.7413,1.0],\"matches\":\"x2\",\"showticklabels\":false,\"showgrid\":false,\"showline\":false,\"ticks\":\"\"},\"yaxis4\":{\"anchor\":\"x4\",\"domain\":[0.7426,1.0],\"matches\":\"y3\",\"showticklabels\":false,\"showline\":false,\"ticks\":\"\",\"showgrid\":true},\"coloraxis\":{\"colorbar\":{\"title\":{\"text\":\"class\"}},\"colorscale\":[[0.0,\"#0d0887\"],[0.1111111111111111,\"#46039f\"],[0.2222222222222222,\"#7201a8\"],[0.3333333333333333,\"#9c179e\"],[0.4444444444444444,\"#bd3786\"],[0.5555555555555556,\"#d8576b\"],[0.6666666666666666,\"#ed7953\"],[0.7777777777777778,\"#fb9f3a\"],[0.8888888888888888,\"#fdca26\"],[1.0,\"#f0f921\"]]},\"legend\":{\"tracegroupgap\":0},\"margin\":{\"t\":60}},                        {\"responsive\": true}                    ).then(function(){\n",
              "                            \n",
              "var gd = document.getElementById('7a6106a4-940a-412b-b378-9df0851c2685');\n",
              "var x = new MutationObserver(function (mutations, observer) {{\n",
              "        var display = window.getComputedStyle(gd).display;\n",
              "        if (!display || display === 'none') {{\n",
              "            console.log([gd, 'removed!']);\n",
              "            Plotly.purge(gd);\n",
              "            observer.disconnect();\n",
              "        }}\n",
              "}});\n",
              "\n",
              "// Listen for the removal of the full notebook cells\n",
              "var notebookContainer = gd.closest('#notebook-container');\n",
              "if (notebookContainer) {{\n",
              "    x.observe(notebookContainer, {childList: true});\n",
              "}}\n",
              "\n",
              "// Listen for the clearing of the current output cell\n",
              "var outputEl = gd.closest('.output');\n",
              "if (outputEl) {{\n",
              "    x.observe(outputEl, {childList: true});\n",
              "}}\n",
              "\n",
              "                        })                };                            </script>        </div>\n",
              "</body>\n",
              "</html>"
            ]
          },
          "metadata": {}
        }
      ],
      "source": [
        "px.scatter(df, x=\"age\", y=\"bacteria\", color=\"class\", marginal_y=\"violin\", marginal_x=\"box\")"
      ]
    },
    {
      "cell_type": "code",
      "execution_count": 96,
      "metadata": {
        "colab": {
          "base_uri": "https://localhost:8080/"
        },
        "id": "TvRqwr97VJdj",
        "outputId": "69771905-6d2f-4690-b9c4-182217c7aef9"
      },
      "outputs": [
        {
          "output_type": "execute_result",
          "data": {
            "text/plain": [
              "Index(['age', 'blood_pressure', 'specific_gravity', 'albumin', 'sugar',\n",
              "       'red_blood_cells', 'pus_cell', 'pus_cell_clumps', 'bacteria',\n",
              "       'blood_glucose_random', 'blood_urea', 'serum_creatinine', 'sodium',\n",
              "       'potassium', 'haemoglobin', 'packed_cell_volume',\n",
              "       'white_blood_cell_count', 'red_blood_cell_count', 'hypertension',\n",
              "       'diabetes_mellitus', 'coronary_artery_disease', 'appetite',\n",
              "       'pedal_edema', 'anemia', 'class'],\n",
              "      dtype='object')"
            ]
          },
          "metadata": {},
          "execution_count": 96
        }
      ],
      "source": [
        "df.columns"
      ]
    },
    {
      "cell_type": "code",
      "execution_count": 97,
      "metadata": {
        "colab": {
          "base_uri": "https://localhost:8080/",
          "height": 542
        },
        "id": "zsiQS892VNHJ",
        "outputId": "3092823f-9b27-443c-9b91-9510f4877325"
      },
      "outputs": [
        {
          "output_type": "display_data",
          "data": {
            "text/html": [
              "<html>\n",
              "<head><meta charset=\"utf-8\" /></head>\n",
              "<body>\n",
              "    <div>            <script src=\"https://cdnjs.cloudflare.com/ajax/libs/mathjax/2.7.5/MathJax.js?config=TeX-AMS-MML_SVG\"></script><script type=\"text/javascript\">if (window.MathJax) {MathJax.Hub.Config({SVG: {font: \"STIX-Web\"}});}</script>                <script type=\"text/javascript\">window.PlotlyConfig = {MathJaxConfig: 'local'};</script>\n",
              "        <script src=\"https://cdn.plot.ly/plotly-2.8.3.min.js\"></script>                <div id=\"293eacb3-8886-4683-af95-64fd5bca7cfe\" class=\"plotly-graph-div\" style=\"height:525px; width:100%;\"></div>            <script type=\"text/javascript\">                                    window.PLOTLYENV=window.PLOTLYENV || {};                                    if (document.getElementById(\"293eacb3-8886-4683-af95-64fd5bca7cfe\")) {                    Plotly.newPlot(                        \"293eacb3-8886-4683-af95-64fd5bca7cfe\",                        [{\"alignmentgroup\":\"True\",\"box\":{\"visible\":true},\"hovertemplate\":\"class=0<br>sugar=%{x}<br>age=%{y}<extra></extra>\",\"legendgroup\":\"0\",\"marker\":{\"color\":\"#636efa\"},\"name\":\"0\",\"offsetgroup\":\"0\",\"orientation\":\"v\",\"points\":\"all\",\"scalegroup\":\"True\",\"showlegend\":true,\"x\":[0.0,0.0,3.0,0.0,0.0,0.0,0.0,4.0,0.0,0.0,4.0,0.0,1.0,null,2.0,0.0,0.0,null,3.0,0.0,0.0,null,0.0,0.0,0.0,0.0,0.0,4.0,3.0,0.0,null,0.0,1.0,0.0,0.0,1.0,0.0,null,0.0,2.0,0.0,0.0,0.0,0.0,0.0,0.0,0.0,0.0,0.0,0.0,null,0.0,0.0,5.0,2.0,0.0,4.0,null,0.0,null,0.0,3.0,0.0,0.0,0.0,0.0,0.0,0.0,0.0,4.0,4.0,0.0,3.0,0.0,0.0,0.0,0.0,0.0,null,0.0,0.0,null,null,0.0,0.0,null,null,0.0,0.0,0.0,2.0,1.0,0.0,2.0,0.0,0.0,1.0,0.0,null,4.0,0.0,0.0,0.0,0.0,null,0.0,null,4.0,0.0,null,0.0,3.0,0.0,2.0,0.0,0.0,0.0,0.0,0.0,0.0,3.0,null,null,3.0,0.0,null,0.0,0.0,3.0,0.0,0.0,0.0,null,0.0,null,2.0,null,0.0,0.0,0.0,4.0,0.0,null,4.0,0.0,0.0,3.0,1.0,null,0.0,0.0,null,0.0,1.0,3.0,0.0,0.0,0.0,2.0,0.0,null,0.0,null,0.0,0.0,2.0,null,0.0,4.0,2.0,5.0,0.0,2.0,0.0,null,0.0,0.0,1.0,0.0,0.0,4.0,0.0,0.0,0.0,2.0,0.0,0.0,0.0,null,1.0,0.0,0.0,0.0,0.0,null,1.0,0.0,null,2.0,0.0,0.0,null,null,null,2.0,null,0.0,0.0,null,0.0,2.0,0.0,4.0,1.0,0.0,0.0,0.0,0.0,0.0,0.0,0.0,0.0,null,3.0,0.0,5.0,2.0,0.0,null,0.0,0.0,null,0.0,0.0,0.0,0.0,null,2.0,null,0.0,0.0,0.0,3.0,1.0,2.0,null,0.0,0.0,3.0,1.0],\"x0\":\" \",\"xaxis\":\"x\",\"y\":[48.0,7.0,62.0,48.0,51.0,60.0,68.0,24.0,52.0,53.0,50.0,63.0,68.0,68.0,68.0,40.0,47.0,47.0,60.0,62.0,61.0,60.0,48.0,21.0,42.0,61.0,75.0,69.0,75.0,68.0,null,73.0,61.0,60.0,70.0,65.0,76.0,72.0,69.0,82.0,46.0,45.0,47.0,35.0,54.0,54.0,48.0,11.0,73.0,60.0,53.0,54.0,53.0,62.0,63.0,35.0,76.0,76.0,73.0,59.0,67.0,67.0,15.0,46.0,55.0,44.0,67.0,45.0,65.0,26.0,61.0,46.0,64.0,null,56.0,5.0,48.0,67.0,70.0,56.0,74.0,45.0,38.0,48.0,59.0,70.0,56.0,70.0,58.0,50.0,63.0,56.0,71.0,73.0,65.0,62.0,60.0,65.0,50.0,56.0,34.0,71.0,17.0,76.0,55.0,65.0,50.0,55.0,45.0,54.0,63.0,65.0,null,61.0,12.0,47.0,null,null,55.0,60.0,72.0,54.0,34.0,43.0,65.0,72.0,70.0,71.0,52.0,75.0,50.0,5.0,50.0,70.0,47.0,48.0,46.0,45.0,73.0,41.0,69.0,67.0,72.0,41.0,60.0,57.0,53.0,60.0,69.0,65.0,8.0,76.0,39.0,55.0,56.0,50.0,66.0,62.0,71.0,59.0,81.0,62.0,59.0,46.0,14.0,60.0,27.0,34.0,65.0,null,66.0,83.0,62.0,17.0,54.0,60.0,21.0,65.0,42.0,72.0,73.0,45.0,61.0,30.0,54.0,4.0,8.0,3.0,8.0,64.0,6.0,null,46.0,32.0,80.0,70.0,49.0,57.0,59.0,65.0,90.0,64.0,78.0,null,65.0,61.0,60.0,50.0,67.0,19.0,59.0,54.0,40.0,55.0,68.0,2.0,64.0,63.0,33.0,68.0,36.0,66.0,74.0,71.0,34.0,60.0,64.0,57.0,60.0,59.0,65.0,60.0,50.0,51.0,37.0,45.0,65.0,80.0,72.0,34.0,65.0,57.0,69.0,62.0,64.0,48.0,48.0,54.0,59.0,56.0],\"y0\":\" \",\"yaxis\":\"y\",\"type\":\"violin\"},{\"alignmentgroup\":\"True\",\"box\":{\"visible\":true},\"hovertemplate\":\"class=1<br>sugar=%{x}<br>age=%{y}<extra></extra>\",\"legendgroup\":\"1\",\"marker\":{\"color\":\"#EF553B\"},\"name\":\"1\",\"offsetgroup\":\"1\",\"orientation\":\"v\",\"points\":\"all\",\"scalegroup\":\"True\",\"showlegend\":true,\"x\":[0.0,0.0,0.0,0.0,0.0,0.0,0.0,0.0,0.0,0.0,0.0,0.0,0.0,0.0,0.0,0.0,0.0,0.0,null,0.0,0.0,0.0,0.0,0.0,0.0,0.0,0.0,0.0,0.0,0.0,null,0.0,0.0,0.0,0.0,0.0,0.0,0.0,0.0,0.0,0.0,0.0,0.0,0.0,0.0,null,0.0,0.0,0.0,0.0,0.0,0.0,0.0,0.0,0.0,0.0,0.0,0.0,0.0,0.0,0.0,0.0,0.0,0.0,0.0,0.0,0.0,0.0,0.0,0.0,0.0,0.0,null,0.0,0.0,0.0,0.0,0.0,0.0,0.0,0.0,0.0,0.0,0.0,0.0,0.0,0.0,0.0,0.0,0.0,0.0,0.0,0.0,0.0,0.0,0.0,null,0.0,0.0,0.0,0.0,0.0,0.0,0.0,0.0,0.0,0.0,0.0,0.0,0.0,0.0,0.0,0.0,0.0,0.0,0.0,0.0,0.0,0.0,0.0,0.0,0.0,0.0,0.0,0.0,0.0,0.0,0.0,0.0,0.0,0.0,0.0,0.0,0.0,0.0,0.0,0.0,0.0,0.0,0.0,0.0,0.0,0.0,0.0,0.0,0.0,0.0,0.0,0.0,0.0],\"x0\":\" \",\"xaxis\":\"x\",\"y\":[40.0,23.0,45.0,57.0,51.0,34.0,60.0,38.0,42.0,35.0,30.0,49.0,55.0,45.0,42.0,50.0,55.0,48.0,null,25.0,23.0,30.0,56.0,47.0,19.0,52.0,20.0,46.0,48.0,24.0,47.0,55.0,20.0,60.0,33.0,66.0,71.0,39.0,56.0,42.0,54.0,47.0,30.0,50.0,75.0,44.0,41.0,53.0,34.0,73.0,45.0,44.0,29.0,55.0,33.0,41.0,52.0,47.0,43.0,51.0,46.0,56.0,80.0,55.0,39.0,44.0,35.0,58.0,61.0,30.0,57.0,65.0,70.0,43.0,40.0,58.0,47.0,30.0,28.0,33.0,43.0,59.0,34.0,23.0,24.0,60.0,25.0,44.0,62.0,25.0,32.0,63.0,44.0,37.0,64.0,22.0,33.0,43.0,38.0,35.0,65.0,29.0,37.0,39.0,32.0,23.0,34.0,66.0,47.0,74.0,35.0,29.0,33.0,67.0,73.0,24.0,60.0,68.0,30.0,75.0,69.0,28.0,72.0,61.0,79.0,70.0,58.0,64.0,71.0,62.0,59.0,71.0,48.0,80.0,57.0,63.0,46.0,15.0,51.0,41.0,52.0,36.0,57.0,43.0,50.0,55.0,42.0,12.0,17.0,58.0],\"y0\":\" \",\"yaxis\":\"y\",\"type\":\"violin\"}],                        {\"template\":{\"data\":{\"bar\":[{\"error_x\":{\"color\":\"#2a3f5f\"},\"error_y\":{\"color\":\"#2a3f5f\"},\"marker\":{\"line\":{\"color\":\"#E5ECF6\",\"width\":0.5},\"pattern\":{\"fillmode\":\"overlay\",\"size\":10,\"solidity\":0.2}},\"type\":\"bar\"}],\"barpolar\":[{\"marker\":{\"line\":{\"color\":\"#E5ECF6\",\"width\":0.5},\"pattern\":{\"fillmode\":\"overlay\",\"size\":10,\"solidity\":0.2}},\"type\":\"barpolar\"}],\"carpet\":[{\"aaxis\":{\"endlinecolor\":\"#2a3f5f\",\"gridcolor\":\"white\",\"linecolor\":\"white\",\"minorgridcolor\":\"white\",\"startlinecolor\":\"#2a3f5f\"},\"baxis\":{\"endlinecolor\":\"#2a3f5f\",\"gridcolor\":\"white\",\"linecolor\":\"white\",\"minorgridcolor\":\"white\",\"startlinecolor\":\"#2a3f5f\"},\"type\":\"carpet\"}],\"choropleth\":[{\"colorbar\":{\"outlinewidth\":0,\"ticks\":\"\"},\"type\":\"choropleth\"}],\"contour\":[{\"colorbar\":{\"outlinewidth\":0,\"ticks\":\"\"},\"colorscale\":[[0.0,\"#0d0887\"],[0.1111111111111111,\"#46039f\"],[0.2222222222222222,\"#7201a8\"],[0.3333333333333333,\"#9c179e\"],[0.4444444444444444,\"#bd3786\"],[0.5555555555555556,\"#d8576b\"],[0.6666666666666666,\"#ed7953\"],[0.7777777777777778,\"#fb9f3a\"],[0.8888888888888888,\"#fdca26\"],[1.0,\"#f0f921\"]],\"type\":\"contour\"}],\"contourcarpet\":[{\"colorbar\":{\"outlinewidth\":0,\"ticks\":\"\"},\"type\":\"contourcarpet\"}],\"heatmap\":[{\"colorbar\":{\"outlinewidth\":0,\"ticks\":\"\"},\"colorscale\":[[0.0,\"#0d0887\"],[0.1111111111111111,\"#46039f\"],[0.2222222222222222,\"#7201a8\"],[0.3333333333333333,\"#9c179e\"],[0.4444444444444444,\"#bd3786\"],[0.5555555555555556,\"#d8576b\"],[0.6666666666666666,\"#ed7953\"],[0.7777777777777778,\"#fb9f3a\"],[0.8888888888888888,\"#fdca26\"],[1.0,\"#f0f921\"]],\"type\":\"heatmap\"}],\"heatmapgl\":[{\"colorbar\":{\"outlinewidth\":0,\"ticks\":\"\"},\"colorscale\":[[0.0,\"#0d0887\"],[0.1111111111111111,\"#46039f\"],[0.2222222222222222,\"#7201a8\"],[0.3333333333333333,\"#9c179e\"],[0.4444444444444444,\"#bd3786\"],[0.5555555555555556,\"#d8576b\"],[0.6666666666666666,\"#ed7953\"],[0.7777777777777778,\"#fb9f3a\"],[0.8888888888888888,\"#fdca26\"],[1.0,\"#f0f921\"]],\"type\":\"heatmapgl\"}],\"histogram\":[{\"marker\":{\"pattern\":{\"fillmode\":\"overlay\",\"size\":10,\"solidity\":0.2}},\"type\":\"histogram\"}],\"histogram2d\":[{\"colorbar\":{\"outlinewidth\":0,\"ticks\":\"\"},\"colorscale\":[[0.0,\"#0d0887\"],[0.1111111111111111,\"#46039f\"],[0.2222222222222222,\"#7201a8\"],[0.3333333333333333,\"#9c179e\"],[0.4444444444444444,\"#bd3786\"],[0.5555555555555556,\"#d8576b\"],[0.6666666666666666,\"#ed7953\"],[0.7777777777777778,\"#fb9f3a\"],[0.8888888888888888,\"#fdca26\"],[1.0,\"#f0f921\"]],\"type\":\"histogram2d\"}],\"histogram2dcontour\":[{\"colorbar\":{\"outlinewidth\":0,\"ticks\":\"\"},\"colorscale\":[[0.0,\"#0d0887\"],[0.1111111111111111,\"#46039f\"],[0.2222222222222222,\"#7201a8\"],[0.3333333333333333,\"#9c179e\"],[0.4444444444444444,\"#bd3786\"],[0.5555555555555556,\"#d8576b\"],[0.6666666666666666,\"#ed7953\"],[0.7777777777777778,\"#fb9f3a\"],[0.8888888888888888,\"#fdca26\"],[1.0,\"#f0f921\"]],\"type\":\"histogram2dcontour\"}],\"mesh3d\":[{\"colorbar\":{\"outlinewidth\":0,\"ticks\":\"\"},\"type\":\"mesh3d\"}],\"parcoords\":[{\"line\":{\"colorbar\":{\"outlinewidth\":0,\"ticks\":\"\"}},\"type\":\"parcoords\"}],\"pie\":[{\"automargin\":true,\"type\":\"pie\"}],\"scatter\":[{\"marker\":{\"colorbar\":{\"outlinewidth\":0,\"ticks\":\"\"}},\"type\":\"scatter\"}],\"scatter3d\":[{\"line\":{\"colorbar\":{\"outlinewidth\":0,\"ticks\":\"\"}},\"marker\":{\"colorbar\":{\"outlinewidth\":0,\"ticks\":\"\"}},\"type\":\"scatter3d\"}],\"scattercarpet\":[{\"marker\":{\"colorbar\":{\"outlinewidth\":0,\"ticks\":\"\"}},\"type\":\"scattercarpet\"}],\"scattergeo\":[{\"marker\":{\"colorbar\":{\"outlinewidth\":0,\"ticks\":\"\"}},\"type\":\"scattergeo\"}],\"scattergl\":[{\"marker\":{\"colorbar\":{\"outlinewidth\":0,\"ticks\":\"\"}},\"type\":\"scattergl\"}],\"scattermapbox\":[{\"marker\":{\"colorbar\":{\"outlinewidth\":0,\"ticks\":\"\"}},\"type\":\"scattermapbox\"}],\"scatterpolar\":[{\"marker\":{\"colorbar\":{\"outlinewidth\":0,\"ticks\":\"\"}},\"type\":\"scatterpolar\"}],\"scatterpolargl\":[{\"marker\":{\"colorbar\":{\"outlinewidth\":0,\"ticks\":\"\"}},\"type\":\"scatterpolargl\"}],\"scatterternary\":[{\"marker\":{\"colorbar\":{\"outlinewidth\":0,\"ticks\":\"\"}},\"type\":\"scatterternary\"}],\"surface\":[{\"colorbar\":{\"outlinewidth\":0,\"ticks\":\"\"},\"colorscale\":[[0.0,\"#0d0887\"],[0.1111111111111111,\"#46039f\"],[0.2222222222222222,\"#7201a8\"],[0.3333333333333333,\"#9c179e\"],[0.4444444444444444,\"#bd3786\"],[0.5555555555555556,\"#d8576b\"],[0.6666666666666666,\"#ed7953\"],[0.7777777777777778,\"#fb9f3a\"],[0.8888888888888888,\"#fdca26\"],[1.0,\"#f0f921\"]],\"type\":\"surface\"}],\"table\":[{\"cells\":{\"fill\":{\"color\":\"#EBF0F8\"},\"line\":{\"color\":\"white\"}},\"header\":{\"fill\":{\"color\":\"#C8D4E3\"},\"line\":{\"color\":\"white\"}},\"type\":\"table\"}]},\"layout\":{\"annotationdefaults\":{\"arrowcolor\":\"#2a3f5f\",\"arrowhead\":0,\"arrowwidth\":1},\"autotypenumbers\":\"strict\",\"coloraxis\":{\"colorbar\":{\"outlinewidth\":0,\"ticks\":\"\"}},\"colorscale\":{\"diverging\":[[0,\"#8e0152\"],[0.1,\"#c51b7d\"],[0.2,\"#de77ae\"],[0.3,\"#f1b6da\"],[0.4,\"#fde0ef\"],[0.5,\"#f7f7f7\"],[0.6,\"#e6f5d0\"],[0.7,\"#b8e186\"],[0.8,\"#7fbc41\"],[0.9,\"#4d9221\"],[1,\"#276419\"]],\"sequential\":[[0.0,\"#0d0887\"],[0.1111111111111111,\"#46039f\"],[0.2222222222222222,\"#7201a8\"],[0.3333333333333333,\"#9c179e\"],[0.4444444444444444,\"#bd3786\"],[0.5555555555555556,\"#d8576b\"],[0.6666666666666666,\"#ed7953\"],[0.7777777777777778,\"#fb9f3a\"],[0.8888888888888888,\"#fdca26\"],[1.0,\"#f0f921\"]],\"sequentialminus\":[[0.0,\"#0d0887\"],[0.1111111111111111,\"#46039f\"],[0.2222222222222222,\"#7201a8\"],[0.3333333333333333,\"#9c179e\"],[0.4444444444444444,\"#bd3786\"],[0.5555555555555556,\"#d8576b\"],[0.6666666666666666,\"#ed7953\"],[0.7777777777777778,\"#fb9f3a\"],[0.8888888888888888,\"#fdca26\"],[1.0,\"#f0f921\"]]},\"colorway\":[\"#636efa\",\"#EF553B\",\"#00cc96\",\"#ab63fa\",\"#FFA15A\",\"#19d3f3\",\"#FF6692\",\"#B6E880\",\"#FF97FF\",\"#FECB52\"],\"font\":{\"color\":\"#2a3f5f\"},\"geo\":{\"bgcolor\":\"white\",\"lakecolor\":\"white\",\"landcolor\":\"#E5ECF6\",\"showlakes\":true,\"showland\":true,\"subunitcolor\":\"white\"},\"hoverlabel\":{\"align\":\"left\"},\"hovermode\":\"closest\",\"mapbox\":{\"style\":\"light\"},\"paper_bgcolor\":\"white\",\"plot_bgcolor\":\"#E5ECF6\",\"polar\":{\"angularaxis\":{\"gridcolor\":\"white\",\"linecolor\":\"white\",\"ticks\":\"\"},\"bgcolor\":\"#E5ECF6\",\"radialaxis\":{\"gridcolor\":\"white\",\"linecolor\":\"white\",\"ticks\":\"\"}},\"scene\":{\"xaxis\":{\"backgroundcolor\":\"#E5ECF6\",\"gridcolor\":\"white\",\"gridwidth\":2,\"linecolor\":\"white\",\"showbackground\":true,\"ticks\":\"\",\"zerolinecolor\":\"white\"},\"yaxis\":{\"backgroundcolor\":\"#E5ECF6\",\"gridcolor\":\"white\",\"gridwidth\":2,\"linecolor\":\"white\",\"showbackground\":true,\"ticks\":\"\",\"zerolinecolor\":\"white\"},\"zaxis\":{\"backgroundcolor\":\"#E5ECF6\",\"gridcolor\":\"white\",\"gridwidth\":2,\"linecolor\":\"white\",\"showbackground\":true,\"ticks\":\"\",\"zerolinecolor\":\"white\"}},\"shapedefaults\":{\"line\":{\"color\":\"#2a3f5f\"}},\"ternary\":{\"aaxis\":{\"gridcolor\":\"white\",\"linecolor\":\"white\",\"ticks\":\"\"},\"baxis\":{\"gridcolor\":\"white\",\"linecolor\":\"white\",\"ticks\":\"\"},\"bgcolor\":\"#E5ECF6\",\"caxis\":{\"gridcolor\":\"white\",\"linecolor\":\"white\",\"ticks\":\"\"}},\"title\":{\"x\":0.05},\"xaxis\":{\"automargin\":true,\"gridcolor\":\"white\",\"linecolor\":\"white\",\"ticks\":\"\",\"title\":{\"standoff\":15},\"zerolinecolor\":\"white\",\"zerolinewidth\":2},\"yaxis\":{\"automargin\":true,\"gridcolor\":\"white\",\"linecolor\":\"white\",\"ticks\":\"\",\"title\":{\"standoff\":15},\"zerolinecolor\":\"white\",\"zerolinewidth\":2}}},\"xaxis\":{\"anchor\":\"y\",\"domain\":[0.0,1.0],\"title\":{\"text\":\"sugar\"}},\"yaxis\":{\"anchor\":\"x\",\"domain\":[0.0,1.0],\"title\":{\"text\":\"age\"}},\"legend\":{\"title\":{\"text\":\"class\"},\"tracegroupgap\":0},\"margin\":{\"t\":60},\"violinmode\":\"group\"},                        {\"responsive\": true}                    ).then(function(){\n",
              "                            \n",
              "var gd = document.getElementById('293eacb3-8886-4683-af95-64fd5bca7cfe');\n",
              "var x = new MutationObserver(function (mutations, observer) {{\n",
              "        var display = window.getComputedStyle(gd).display;\n",
              "        if (!display || display === 'none') {{\n",
              "            console.log([gd, 'removed!']);\n",
              "            Plotly.purge(gd);\n",
              "            observer.disconnect();\n",
              "        }}\n",
              "}});\n",
              "\n",
              "// Listen for the removal of the full notebook cells\n",
              "var notebookContainer = gd.closest('#notebook-container');\n",
              "if (notebookContainer) {{\n",
              "    x.observe(notebookContainer, {childList: true});\n",
              "}}\n",
              "\n",
              "// Listen for the clearing of the current output cell\n",
              "var outputEl = gd.closest('.output');\n",
              "if (outputEl) {{\n",
              "    x.observe(outputEl, {childList: true});\n",
              "}}\n",
              "\n",
              "                        })                };                            </script>        </div>\n",
              "</body>\n",
              "</html>"
            ]
          },
          "metadata": {}
        }
      ],
      "source": [
        "px.violin(df, y=\"age\", x=\"sugar\", color=\"class\", box=True, points=\"all\")"
      ]
    },
    {
      "cell_type": "code",
      "execution_count": 98,
      "metadata": {
        "colab": {
          "base_uri": "https://localhost:8080/",
          "height": 542
        },
        "id": "NccovbwgVbiq",
        "outputId": "86cc1cfa-ae6d-4db4-e8ca-e01e370dc6af"
      },
      "outputs": [
        {
          "output_type": "display_data",
          "data": {
            "text/html": [
              "<html>\n",
              "<head><meta charset=\"utf-8\" /></head>\n",
              "<body>\n",
              "    <div>            <script src=\"https://cdnjs.cloudflare.com/ajax/libs/mathjax/2.7.5/MathJax.js?config=TeX-AMS-MML_SVG\"></script><script type=\"text/javascript\">if (window.MathJax) {MathJax.Hub.Config({SVG: {font: \"STIX-Web\"}});}</script>                <script type=\"text/javascript\">window.PlotlyConfig = {MathJaxConfig: 'local'};</script>\n",
              "        <script src=\"https://cdn.plot.ly/plotly-2.8.3.min.js\"></script>                <div id=\"ecc9a2fe-49e7-4a24-a681-cd8de214c7c1\" class=\"plotly-graph-div\" style=\"height:525px; width:100%;\"></div>            <script type=\"text/javascript\">                                    window.PLOTLYENV=window.PLOTLYENV || {};                                    if (document.getElementById(\"ecc9a2fe-49e7-4a24-a681-cd8de214c7c1\")) {                    Plotly.newPlot(                        \"ecc9a2fe-49e7-4a24-a681-cd8de214c7c1\",                        [{\"hovertemplate\":\"age=%{x}<br>hypertension=%{y}<br>sugar=%{z}<br>class=%{marker.color}<extra></extra>\",\"legendgroup\":\"\",\"marker\":{\"color\":[0,0,0,0,0,0,0,0,0,0,0,0,0,0,0,0,0,0,0,0,0,0,0,0,0,0,0,0,0,0,0,0,0,0,0,0,0,0,0,0,0,0,0,0,0,0,0,0,0,0,0,0,0,0,0,0,0,0,0,0,0,0,0,0,0,0,0,0,0,0,0,0,0,0,0,0,0,0,0,0,0,0,0,0,0,0,0,0,0,0,0,0,0,0,0,0,0,0,0,0,0,0,0,0,0,0,0,0,0,0,0,0,0,0,0,0,0,0,0,0,0,0,0,0,0,0,0,0,0,0,0,0,0,0,0,0,0,0,0,0,0,0,0,0,0,0,0,0,0,0,0,0,0,0,0,0,0,0,0,0,0,0,0,0,0,0,0,0,0,0,0,0,0,0,0,0,0,0,0,0,0,0,0,0,0,0,0,0,0,0,0,0,0,0,0,0,0,0,0,0,0,0,0,0,0,0,0,0,0,0,0,0,0,0,0,0,0,0,0,0,0,0,0,0,0,0,0,0,0,0,0,0,0,0,0,0,0,0,0,0,0,0,0,0,0,0,0,0,0,0,1,1,1,1,1,1,1,1,1,1,1,1,1,1,1,1,1,1,1,1,1,1,1,1,1,1,1,1,1,1,1,1,1,1,1,1,1,1,1,1,1,1,1,1,1,1,1,1,1,1,1,1,1,1,1,1,1,1,1,1,1,1,1,1,1,1,1,1,1,1,1,1,1,1,1,1,1,1,1,1,1,1,1,1,1,1,1,1,1,1,1,1,1,1,1,1,1,1,1,1,1,1,1,1,1,1,1,1,1,1,1,1,1,1,1,1,1,1,1,1,1,1,1,1,1,1,1,1,1,1,1,1,1,1,1,1,1,1,1,1,1,1,1,1,1,1,1,1,1,1],\"coloraxis\":\"coloraxis\",\"symbol\":\"circle\"},\"mode\":\"markers\",\"name\":\"\",\"scene\":\"scene\",\"showlegend\":false,\"x\":[48.0,7.0,62.0,48.0,51.0,60.0,68.0,24.0,52.0,53.0,50.0,63.0,68.0,68.0,68.0,40.0,47.0,47.0,60.0,62.0,61.0,60.0,48.0,21.0,42.0,61.0,75.0,69.0,75.0,68.0,null,73.0,61.0,60.0,70.0,65.0,76.0,72.0,69.0,82.0,46.0,45.0,47.0,35.0,54.0,54.0,48.0,11.0,73.0,60.0,53.0,54.0,53.0,62.0,63.0,35.0,76.0,76.0,73.0,59.0,67.0,67.0,15.0,46.0,55.0,44.0,67.0,45.0,65.0,26.0,61.0,46.0,64.0,null,56.0,5.0,48.0,67.0,70.0,56.0,74.0,45.0,38.0,48.0,59.0,70.0,56.0,70.0,58.0,50.0,63.0,56.0,71.0,73.0,65.0,62.0,60.0,65.0,50.0,56.0,34.0,71.0,17.0,76.0,55.0,65.0,50.0,55.0,45.0,54.0,63.0,65.0,null,61.0,12.0,47.0,null,null,55.0,60.0,72.0,54.0,34.0,43.0,65.0,72.0,70.0,71.0,52.0,75.0,50.0,5.0,50.0,70.0,47.0,48.0,46.0,45.0,73.0,41.0,69.0,67.0,72.0,41.0,60.0,57.0,53.0,60.0,69.0,65.0,8.0,76.0,39.0,55.0,56.0,50.0,66.0,62.0,71.0,59.0,81.0,62.0,59.0,46.0,14.0,60.0,27.0,34.0,65.0,null,66.0,83.0,62.0,17.0,54.0,60.0,21.0,65.0,42.0,72.0,73.0,45.0,61.0,30.0,54.0,4.0,8.0,3.0,8.0,64.0,6.0,null,46.0,32.0,80.0,70.0,49.0,57.0,59.0,65.0,90.0,64.0,78.0,null,65.0,61.0,60.0,50.0,67.0,19.0,59.0,54.0,40.0,55.0,68.0,2.0,64.0,63.0,33.0,68.0,36.0,66.0,74.0,71.0,34.0,60.0,64.0,57.0,60.0,59.0,65.0,60.0,50.0,51.0,37.0,45.0,65.0,80.0,72.0,34.0,65.0,57.0,69.0,62.0,64.0,48.0,48.0,54.0,59.0,56.0,40.0,23.0,45.0,57.0,51.0,34.0,60.0,38.0,42.0,35.0,30.0,49.0,55.0,45.0,42.0,50.0,55.0,48.0,null,25.0,23.0,30.0,56.0,47.0,19.0,52.0,20.0,46.0,48.0,24.0,47.0,55.0,20.0,60.0,33.0,66.0,71.0,39.0,56.0,42.0,54.0,47.0,30.0,50.0,75.0,44.0,41.0,53.0,34.0,73.0,45.0,44.0,29.0,55.0,33.0,41.0,52.0,47.0,43.0,51.0,46.0,56.0,80.0,55.0,39.0,44.0,35.0,58.0,61.0,30.0,57.0,65.0,70.0,43.0,40.0,58.0,47.0,30.0,28.0,33.0,43.0,59.0,34.0,23.0,24.0,60.0,25.0,44.0,62.0,25.0,32.0,63.0,44.0,37.0,64.0,22.0,33.0,43.0,38.0,35.0,65.0,29.0,37.0,39.0,32.0,23.0,34.0,66.0,47.0,74.0,35.0,29.0,33.0,67.0,73.0,24.0,60.0,68.0,30.0,75.0,69.0,28.0,72.0,61.0,79.0,70.0,58.0,64.0,71.0,62.0,59.0,71.0,48.0,80.0,57.0,63.0,46.0,15.0,51.0,41.0,52.0,36.0,57.0,43.0,50.0,55.0,42.0,12.0,17.0,58.0],\"y\":[\"yes\",\"no\",\"no\",\"yes\",\"no\",\"yes\",\"no\",\"no\",\"yes\",\"yes\",\"yes\",\"yes\",\"yes\",\"yes\",\"yes\",\"yes\",\"no\",\"yes\",\"yes\",\"yes\",\"yes\",\"yes\",\"yes\",\"no\",\"yes\",\"yes\",\"yes\",\"yes\",\"no\",\"no\",\"yes\",\"no\",\"yes\",\"yes\",\"no\",\"yes\",\"yes\",\"yes\",\"yes\",\"yes\",\"yes\",\"no\",\"yes\",\"no\",\"yes\",\"yes\",\"no\",\"no\",\"yes\",\"yes\",\"yes\",\"yes\",\"no\",\"yes\",\"yes\",\"no\",\"yes\",\"yes\",\"yes\",\"yes\",\"yes\",\"no\",\"yes\",\"no\",\"no\",\"no\",\"yes\",\"no\",\"no\",\"no\",\"yes\",\"yes\",\"yes\",\"yes\",\"yes\",\"no\",\"no\",\"yes\",\"yes\",\"yes\",\"yes\",\"yes\",\"yes\",\"yes\",\"yes\",\"no\",\"no\",\"yes\",\"yes\",\"no\",\"yes\",\"no\",\"yes\",\"yes\",\"no\",\"yes\",\"no\",\"yes\",\"yes\",\"yes\",\"no\",\"no\",\"no\",\"yes\",\"yes\",\"no\",\"yes\",\"yes\",\"no\",\"no\",\"no\",\"yes\",\"no\",\"no\",\"no\",\"no\",\"no\",\"no\",\"no\",\"no\",\"no\",\"yes\",\"yes\",\"no\",\"yes\",\"yes\",\"yes\",\"yes\",\"yes\",\"yes\",\"no\",\"no\",\"yes\",\"yes\",\"no\",\"no\",\"yes\",\"yes\",\"no\",\"yes\",\"no\",\"yes\",\"no\",\"no\",\"no\",\"yes\",\"no\",\"yes\",\"yes\",\"yes\",\"no\",\"yes\",\"no\",\"yes\",\"yes\",\"no\",\"no\",\"yes\",\"yes\",\"no\",\"yes\",\"yes\",\"no\",\"yes\",\"no\",\"no\",\"no\",\"no\",\"yes\",\"yes\",\"yes\",\"yes\",\"no\",\"no\",\"no\",\"yes\",\"no\",\"no\",\"no\",\"no\",\"no\",\"no\",\"no\",\"no\",\"yes\",\"no\",\"no\",\"no\",\"no\",\"yes\",\"no\",\"yes\",\"no\",\"yes\",\"yes\",\"yes\",\"yes\",\"yes\",\"yes\",\"yes\",\"yes\",\"yes\",\"no\",\"yes\",\"yes\",\"yes\",\"yes\",\"yes\",\"yes\",\"no\",\"yes\",\"no\",\"yes\",\"yes\",\"no\",\"no\",\"no\",\"no\",\"no\",\"yes\",\"no\",\"yes\",\"yes\",\"yes\",\"no\",\"yes\",\"yes\",\"yes\",\"yes\",\"no\",\"yes\",\"yes\",\"no\",\"no\",\"yes\",\"no\",\"yes\",\"yes\",\"yes\",\"no\",\"yes\",\"no\",\"yes\",\"yes\",\"yes\",\"yes\",\"yes\",\"no\",\"yes\",\"yes\",\"no\",\"no\",\"no\",\"no\",\"no\",\"no\",\"no\",\"no\",\"no\",\"no\",\"no\",\"no\",\"no\",\"no\",\"no\",\"no\",\"no\",\"no\",\"no\",\"no\",\"no\",\"no\",\"no\",\"no\",\"no\",\"no\",\"no\",\"no\",\"no\",\"no\",\"no\",\"no\",\"no\",\"no\",\"no\",\"no\",\"no\",\"no\",null,\"no\",\"no\",\"no\",\"no\",\"no\",\"no\",\"no\",\"no\",null,\"no\",\"no\",\"no\",\"no\",\"no\",\"no\",\"no\",\"no\",\"no\",\"no\",\"no\",\"no\",\"no\",\"no\",\"no\",\"no\",\"no\",\"no\",\"no\",\"no\",\"no\",\"no\",\"no\",\"no\",\"no\",\"no\",\"no\",\"no\",\"no\",\"no\",\"no\",\"no\",\"no\",\"no\",\"no\",\"no\",\"no\",\"no\",\"no\",\"no\",\"no\",\"no\",\"no\",\"no\",\"no\",\"no\",\"no\",\"no\",\"no\",\"no\",\"no\",\"no\",\"no\",\"no\",\"no\",\"no\",\"no\",\"no\",\"no\",\"no\",\"no\",\"no\",\"no\",\"no\",\"no\",\"no\",\"no\",\"no\",\"no\",\"no\",\"no\",\"no\",\"no\",\"no\",\"no\",\"no\",\"no\",\"no\",\"no\",\"no\",\"no\",\"no\",\"no\",\"no\",\"no\",\"no\",\"no\",\"no\",\"no\",\"no\",\"no\",\"no\",\"no\",\"no\",\"no\",\"no\",\"no\",\"no\",\"no\",\"no\",\"no\",\"no\"],\"z\":[0.0,0.0,3.0,0.0,0.0,0.0,0.0,4.0,0.0,0.0,4.0,0.0,1.0,null,2.0,0.0,0.0,null,3.0,0.0,0.0,null,0.0,0.0,0.0,0.0,0.0,4.0,3.0,0.0,null,0.0,1.0,0.0,0.0,1.0,0.0,null,0.0,2.0,0.0,0.0,0.0,0.0,0.0,0.0,0.0,0.0,0.0,0.0,null,0.0,0.0,5.0,2.0,0.0,4.0,null,0.0,null,0.0,3.0,0.0,0.0,0.0,0.0,0.0,0.0,0.0,4.0,4.0,0.0,3.0,0.0,0.0,0.0,0.0,0.0,null,0.0,0.0,null,null,0.0,0.0,null,null,0.0,0.0,0.0,2.0,1.0,0.0,2.0,0.0,0.0,1.0,0.0,null,4.0,0.0,0.0,0.0,0.0,null,0.0,null,4.0,0.0,null,0.0,3.0,0.0,2.0,0.0,0.0,0.0,0.0,0.0,0.0,3.0,null,null,3.0,0.0,null,0.0,0.0,3.0,0.0,0.0,0.0,null,0.0,null,2.0,null,0.0,0.0,0.0,4.0,0.0,null,4.0,0.0,0.0,3.0,1.0,null,0.0,0.0,null,0.0,1.0,3.0,0.0,0.0,0.0,2.0,0.0,null,0.0,null,0.0,0.0,2.0,null,0.0,4.0,2.0,5.0,0.0,2.0,0.0,null,0.0,0.0,1.0,0.0,0.0,4.0,0.0,0.0,0.0,2.0,0.0,0.0,0.0,null,1.0,0.0,0.0,0.0,0.0,null,1.0,0.0,null,2.0,0.0,0.0,null,null,null,2.0,null,0.0,0.0,null,0.0,2.0,0.0,4.0,1.0,0.0,0.0,0.0,0.0,0.0,0.0,0.0,0.0,null,3.0,0.0,5.0,2.0,0.0,null,0.0,0.0,null,0.0,0.0,0.0,0.0,null,2.0,null,0.0,0.0,0.0,3.0,1.0,2.0,null,0.0,0.0,3.0,1.0,0.0,0.0,0.0,0.0,0.0,0.0,0.0,0.0,0.0,0.0,0.0,0.0,0.0,0.0,0.0,0.0,0.0,0.0,null,0.0,0.0,0.0,0.0,0.0,0.0,0.0,0.0,0.0,0.0,0.0,null,0.0,0.0,0.0,0.0,0.0,0.0,0.0,0.0,0.0,0.0,0.0,0.0,0.0,0.0,null,0.0,0.0,0.0,0.0,0.0,0.0,0.0,0.0,0.0,0.0,0.0,0.0,0.0,0.0,0.0,0.0,0.0,0.0,0.0,0.0,0.0,0.0,0.0,0.0,0.0,0.0,null,0.0,0.0,0.0,0.0,0.0,0.0,0.0,0.0,0.0,0.0,0.0,0.0,0.0,0.0,0.0,0.0,0.0,0.0,0.0,0.0,0.0,0.0,0.0,null,0.0,0.0,0.0,0.0,0.0,0.0,0.0,0.0,0.0,0.0,0.0,0.0,0.0,0.0,0.0,0.0,0.0,0.0,0.0,0.0,0.0,0.0,0.0,0.0,0.0,0.0,0.0,0.0,0.0,0.0,0.0,0.0,0.0,0.0,0.0,0.0,0.0,0.0,0.0,0.0,0.0,0.0,0.0,0.0,0.0,0.0,0.0,0.0,0.0,0.0,0.0,0.0,0.0],\"type\":\"scatter3d\"}],                        {\"template\":{\"data\":{\"bar\":[{\"error_x\":{\"color\":\"#2a3f5f\"},\"error_y\":{\"color\":\"#2a3f5f\"},\"marker\":{\"line\":{\"color\":\"#E5ECF6\",\"width\":0.5},\"pattern\":{\"fillmode\":\"overlay\",\"size\":10,\"solidity\":0.2}},\"type\":\"bar\"}],\"barpolar\":[{\"marker\":{\"line\":{\"color\":\"#E5ECF6\",\"width\":0.5},\"pattern\":{\"fillmode\":\"overlay\",\"size\":10,\"solidity\":0.2}},\"type\":\"barpolar\"}],\"carpet\":[{\"aaxis\":{\"endlinecolor\":\"#2a3f5f\",\"gridcolor\":\"white\",\"linecolor\":\"white\",\"minorgridcolor\":\"white\",\"startlinecolor\":\"#2a3f5f\"},\"baxis\":{\"endlinecolor\":\"#2a3f5f\",\"gridcolor\":\"white\",\"linecolor\":\"white\",\"minorgridcolor\":\"white\",\"startlinecolor\":\"#2a3f5f\"},\"type\":\"carpet\"}],\"choropleth\":[{\"colorbar\":{\"outlinewidth\":0,\"ticks\":\"\"},\"type\":\"choropleth\"}],\"contour\":[{\"colorbar\":{\"outlinewidth\":0,\"ticks\":\"\"},\"colorscale\":[[0.0,\"#0d0887\"],[0.1111111111111111,\"#46039f\"],[0.2222222222222222,\"#7201a8\"],[0.3333333333333333,\"#9c179e\"],[0.4444444444444444,\"#bd3786\"],[0.5555555555555556,\"#d8576b\"],[0.6666666666666666,\"#ed7953\"],[0.7777777777777778,\"#fb9f3a\"],[0.8888888888888888,\"#fdca26\"],[1.0,\"#f0f921\"]],\"type\":\"contour\"}],\"contourcarpet\":[{\"colorbar\":{\"outlinewidth\":0,\"ticks\":\"\"},\"type\":\"contourcarpet\"}],\"heatmap\":[{\"colorbar\":{\"outlinewidth\":0,\"ticks\":\"\"},\"colorscale\":[[0.0,\"#0d0887\"],[0.1111111111111111,\"#46039f\"],[0.2222222222222222,\"#7201a8\"],[0.3333333333333333,\"#9c179e\"],[0.4444444444444444,\"#bd3786\"],[0.5555555555555556,\"#d8576b\"],[0.6666666666666666,\"#ed7953\"],[0.7777777777777778,\"#fb9f3a\"],[0.8888888888888888,\"#fdca26\"],[1.0,\"#f0f921\"]],\"type\":\"heatmap\"}],\"heatmapgl\":[{\"colorbar\":{\"outlinewidth\":0,\"ticks\":\"\"},\"colorscale\":[[0.0,\"#0d0887\"],[0.1111111111111111,\"#46039f\"],[0.2222222222222222,\"#7201a8\"],[0.3333333333333333,\"#9c179e\"],[0.4444444444444444,\"#bd3786\"],[0.5555555555555556,\"#d8576b\"],[0.6666666666666666,\"#ed7953\"],[0.7777777777777778,\"#fb9f3a\"],[0.8888888888888888,\"#fdca26\"],[1.0,\"#f0f921\"]],\"type\":\"heatmapgl\"}],\"histogram\":[{\"marker\":{\"pattern\":{\"fillmode\":\"overlay\",\"size\":10,\"solidity\":0.2}},\"type\":\"histogram\"}],\"histogram2d\":[{\"colorbar\":{\"outlinewidth\":0,\"ticks\":\"\"},\"colorscale\":[[0.0,\"#0d0887\"],[0.1111111111111111,\"#46039f\"],[0.2222222222222222,\"#7201a8\"],[0.3333333333333333,\"#9c179e\"],[0.4444444444444444,\"#bd3786\"],[0.5555555555555556,\"#d8576b\"],[0.6666666666666666,\"#ed7953\"],[0.7777777777777778,\"#fb9f3a\"],[0.8888888888888888,\"#fdca26\"],[1.0,\"#f0f921\"]],\"type\":\"histogram2d\"}],\"histogram2dcontour\":[{\"colorbar\":{\"outlinewidth\":0,\"ticks\":\"\"},\"colorscale\":[[0.0,\"#0d0887\"],[0.1111111111111111,\"#46039f\"],[0.2222222222222222,\"#7201a8\"],[0.3333333333333333,\"#9c179e\"],[0.4444444444444444,\"#bd3786\"],[0.5555555555555556,\"#d8576b\"],[0.6666666666666666,\"#ed7953\"],[0.7777777777777778,\"#fb9f3a\"],[0.8888888888888888,\"#fdca26\"],[1.0,\"#f0f921\"]],\"type\":\"histogram2dcontour\"}],\"mesh3d\":[{\"colorbar\":{\"outlinewidth\":0,\"ticks\":\"\"},\"type\":\"mesh3d\"}],\"parcoords\":[{\"line\":{\"colorbar\":{\"outlinewidth\":0,\"ticks\":\"\"}},\"type\":\"parcoords\"}],\"pie\":[{\"automargin\":true,\"type\":\"pie\"}],\"scatter\":[{\"marker\":{\"colorbar\":{\"outlinewidth\":0,\"ticks\":\"\"}},\"type\":\"scatter\"}],\"scatter3d\":[{\"line\":{\"colorbar\":{\"outlinewidth\":0,\"ticks\":\"\"}},\"marker\":{\"colorbar\":{\"outlinewidth\":0,\"ticks\":\"\"}},\"type\":\"scatter3d\"}],\"scattercarpet\":[{\"marker\":{\"colorbar\":{\"outlinewidth\":0,\"ticks\":\"\"}},\"type\":\"scattercarpet\"}],\"scattergeo\":[{\"marker\":{\"colorbar\":{\"outlinewidth\":0,\"ticks\":\"\"}},\"type\":\"scattergeo\"}],\"scattergl\":[{\"marker\":{\"colorbar\":{\"outlinewidth\":0,\"ticks\":\"\"}},\"type\":\"scattergl\"}],\"scattermapbox\":[{\"marker\":{\"colorbar\":{\"outlinewidth\":0,\"ticks\":\"\"}},\"type\":\"scattermapbox\"}],\"scatterpolar\":[{\"marker\":{\"colorbar\":{\"outlinewidth\":0,\"ticks\":\"\"}},\"type\":\"scatterpolar\"}],\"scatterpolargl\":[{\"marker\":{\"colorbar\":{\"outlinewidth\":0,\"ticks\":\"\"}},\"type\":\"scatterpolargl\"}],\"scatterternary\":[{\"marker\":{\"colorbar\":{\"outlinewidth\":0,\"ticks\":\"\"}},\"type\":\"scatterternary\"}],\"surface\":[{\"colorbar\":{\"outlinewidth\":0,\"ticks\":\"\"},\"colorscale\":[[0.0,\"#0d0887\"],[0.1111111111111111,\"#46039f\"],[0.2222222222222222,\"#7201a8\"],[0.3333333333333333,\"#9c179e\"],[0.4444444444444444,\"#bd3786\"],[0.5555555555555556,\"#d8576b\"],[0.6666666666666666,\"#ed7953\"],[0.7777777777777778,\"#fb9f3a\"],[0.8888888888888888,\"#fdca26\"],[1.0,\"#f0f921\"]],\"type\":\"surface\"}],\"table\":[{\"cells\":{\"fill\":{\"color\":\"#EBF0F8\"},\"line\":{\"color\":\"white\"}},\"header\":{\"fill\":{\"color\":\"#C8D4E3\"},\"line\":{\"color\":\"white\"}},\"type\":\"table\"}]},\"layout\":{\"annotationdefaults\":{\"arrowcolor\":\"#2a3f5f\",\"arrowhead\":0,\"arrowwidth\":1},\"autotypenumbers\":\"strict\",\"coloraxis\":{\"colorbar\":{\"outlinewidth\":0,\"ticks\":\"\"}},\"colorscale\":{\"diverging\":[[0,\"#8e0152\"],[0.1,\"#c51b7d\"],[0.2,\"#de77ae\"],[0.3,\"#f1b6da\"],[0.4,\"#fde0ef\"],[0.5,\"#f7f7f7\"],[0.6,\"#e6f5d0\"],[0.7,\"#b8e186\"],[0.8,\"#7fbc41\"],[0.9,\"#4d9221\"],[1,\"#276419\"]],\"sequential\":[[0.0,\"#0d0887\"],[0.1111111111111111,\"#46039f\"],[0.2222222222222222,\"#7201a8\"],[0.3333333333333333,\"#9c179e\"],[0.4444444444444444,\"#bd3786\"],[0.5555555555555556,\"#d8576b\"],[0.6666666666666666,\"#ed7953\"],[0.7777777777777778,\"#fb9f3a\"],[0.8888888888888888,\"#fdca26\"],[1.0,\"#f0f921\"]],\"sequentialminus\":[[0.0,\"#0d0887\"],[0.1111111111111111,\"#46039f\"],[0.2222222222222222,\"#7201a8\"],[0.3333333333333333,\"#9c179e\"],[0.4444444444444444,\"#bd3786\"],[0.5555555555555556,\"#d8576b\"],[0.6666666666666666,\"#ed7953\"],[0.7777777777777778,\"#fb9f3a\"],[0.8888888888888888,\"#fdca26\"],[1.0,\"#f0f921\"]]},\"colorway\":[\"#636efa\",\"#EF553B\",\"#00cc96\",\"#ab63fa\",\"#FFA15A\",\"#19d3f3\",\"#FF6692\",\"#B6E880\",\"#FF97FF\",\"#FECB52\"],\"font\":{\"color\":\"#2a3f5f\"},\"geo\":{\"bgcolor\":\"white\",\"lakecolor\":\"white\",\"landcolor\":\"#E5ECF6\",\"showlakes\":true,\"showland\":true,\"subunitcolor\":\"white\"},\"hoverlabel\":{\"align\":\"left\"},\"hovermode\":\"closest\",\"mapbox\":{\"style\":\"light\"},\"paper_bgcolor\":\"white\",\"plot_bgcolor\":\"#E5ECF6\",\"polar\":{\"angularaxis\":{\"gridcolor\":\"white\",\"linecolor\":\"white\",\"ticks\":\"\"},\"bgcolor\":\"#E5ECF6\",\"radialaxis\":{\"gridcolor\":\"white\",\"linecolor\":\"white\",\"ticks\":\"\"}},\"scene\":{\"xaxis\":{\"backgroundcolor\":\"#E5ECF6\",\"gridcolor\":\"white\",\"gridwidth\":2,\"linecolor\":\"white\",\"showbackground\":true,\"ticks\":\"\",\"zerolinecolor\":\"white\"},\"yaxis\":{\"backgroundcolor\":\"#E5ECF6\",\"gridcolor\":\"white\",\"gridwidth\":2,\"linecolor\":\"white\",\"showbackground\":true,\"ticks\":\"\",\"zerolinecolor\":\"white\"},\"zaxis\":{\"backgroundcolor\":\"#E5ECF6\",\"gridcolor\":\"white\",\"gridwidth\":2,\"linecolor\":\"white\",\"showbackground\":true,\"ticks\":\"\",\"zerolinecolor\":\"white\"}},\"shapedefaults\":{\"line\":{\"color\":\"#2a3f5f\"}},\"ternary\":{\"aaxis\":{\"gridcolor\":\"white\",\"linecolor\":\"white\",\"ticks\":\"\"},\"baxis\":{\"gridcolor\":\"white\",\"linecolor\":\"white\",\"ticks\":\"\"},\"bgcolor\":\"#E5ECF6\",\"caxis\":{\"gridcolor\":\"white\",\"linecolor\":\"white\",\"ticks\":\"\"}},\"title\":{\"x\":0.05},\"xaxis\":{\"automargin\":true,\"gridcolor\":\"white\",\"linecolor\":\"white\",\"ticks\":\"\",\"title\":{\"standoff\":15},\"zerolinecolor\":\"white\",\"zerolinewidth\":2},\"yaxis\":{\"automargin\":true,\"gridcolor\":\"white\",\"linecolor\":\"white\",\"ticks\":\"\",\"title\":{\"standoff\":15},\"zerolinecolor\":\"white\",\"zerolinewidth\":2}}},\"scene\":{\"domain\":{\"x\":[0.0,1.0],\"y\":[0.0,1.0]},\"xaxis\":{\"title\":{\"text\":\"age\"}},\"yaxis\":{\"title\":{\"text\":\"hypertension\"}},\"zaxis\":{\"title\":{\"text\":\"sugar\"}}},\"coloraxis\":{\"colorbar\":{\"title\":{\"text\":\"class\"}},\"colorscale\":[[0.0,\"#0d0887\"],[0.1111111111111111,\"#46039f\"],[0.2222222222222222,\"#7201a8\"],[0.3333333333333333,\"#9c179e\"],[0.4444444444444444,\"#bd3786\"],[0.5555555555555556,\"#d8576b\"],[0.6666666666666666,\"#ed7953\"],[0.7777777777777778,\"#fb9f3a\"],[0.8888888888888888,\"#fdca26\"],[1.0,\"#f0f921\"]]},\"legend\":{\"tracegroupgap\":0},\"margin\":{\"t\":60}},                        {\"responsive\": true}                    ).then(function(){\n",
              "                            \n",
              "var gd = document.getElementById('ecc9a2fe-49e7-4a24-a681-cd8de214c7c1');\n",
              "var x = new MutationObserver(function (mutations, observer) {{\n",
              "        var display = window.getComputedStyle(gd).display;\n",
              "        if (!display || display === 'none') {{\n",
              "            console.log([gd, 'removed!']);\n",
              "            Plotly.purge(gd);\n",
              "            observer.disconnect();\n",
              "        }}\n",
              "}});\n",
              "\n",
              "// Listen for the removal of the full notebook cells\n",
              "var notebookContainer = gd.closest('#notebook-container');\n",
              "if (notebookContainer) {{\n",
              "    x.observe(notebookContainer, {childList: true});\n",
              "}}\n",
              "\n",
              "// Listen for the clearing of the current output cell\n",
              "var outputEl = gd.closest('.output');\n",
              "if (outputEl) {{\n",
              "    x.observe(outputEl, {childList: true});\n",
              "}}\n",
              "\n",
              "                        })                };                            </script>        </div>\n",
              "</body>\n",
              "</html>"
            ]
          },
          "metadata": {}
        }
      ],
      "source": [
        "px.scatter_3d(df, x='age', y='hypertension', z='sugar', color='class')"
      ]
    },
    {
      "cell_type": "markdown",
      "metadata": {
        "id": "g2ry7IZRVyXR"
      },
      "source": [
        "processing the data"
      ]
    },
    {
      "cell_type": "code",
      "execution_count": 99,
      "metadata": {
        "colab": {
          "base_uri": "https://localhost:8080/"
        },
        "id": "Ti8EoNIyV2XB",
        "outputId": "b5526545-1144-49e7-a7ed-9c79abea4189"
      },
      "outputs": [
        {
          "output_type": "execute_result",
          "data": {
            "text/plain": [
              "red_blood_cells            152\n",
              "red_blood_cell_count       131\n",
              "white_blood_cell_count     106\n",
              "potassium                   88\n",
              "sodium                      87\n",
              "packed_cell_volume          71\n",
              "pus_cell                    65\n",
              "haemoglobin                 52\n",
              "sugar                       49\n",
              "specific_gravity            47\n",
              "albumin                     46\n",
              "blood_glucose_random        44\n",
              "blood_urea                  19\n",
              "serum_creatinine            17\n",
              "blood_pressure              12\n",
              "age                          9\n",
              "bacteria                     4\n",
              "pus_cell_clumps              4\n",
              "hypertension                 2\n",
              "diabetes_mellitus            2\n",
              "coronary_artery_disease      2\n",
              "appetite                     1\n",
              "pedal_edema                  1\n",
              "anemia                       1\n",
              "class                        0\n",
              "dtype: int64"
            ]
          },
          "metadata": {},
          "execution_count": 99
        }
      ],
      "source": [
        "df.isna().sum().sort_values(ascending = False)"
      ]
    },
    {
      "cell_type": "markdown",
      "metadata": {
        "id": "7jKp619_WoI4"
      },
      "source": [
        "fixing the missing values issue"
      ]
    },
    {
      "cell_type": "code",
      "execution_count": 100,
      "metadata": {
        "colab": {
          "base_uri": "https://localhost:8080/"
        },
        "id": "5ibLEL8CWtSB",
        "outputId": "f854b886-0194-41c2-d765-fa85c7260ee9"
      },
      "outputs": [
        {
          "output_type": "execute_result",
          "data": {
            "text/plain": [
              "age                         9\n",
              "blood_pressure             12\n",
              "specific_gravity           47\n",
              "albumin                    46\n",
              "sugar                      49\n",
              "blood_glucose_random       44\n",
              "blood_urea                 19\n",
              "serum_creatinine           17\n",
              "sodium                     87\n",
              "potassium                  88\n",
              "haemoglobin                52\n",
              "packed_cell_volume         71\n",
              "white_blood_cell_count    106\n",
              "red_blood_cell_count      131\n",
              "class                       0\n",
              "dtype: int64"
            ]
          },
          "metadata": {},
          "execution_count": 100
        }
      ],
      "source": [
        "df[num_cols].isnull().sum()"
      ]
    },
    {
      "cell_type": "code",
      "execution_count": 101,
      "metadata": {
        "colab": {
          "base_uri": "https://localhost:8080/"
        },
        "id": "hOwuZDyVW228",
        "outputId": "976c7622-7862-4d69-e181-960016394a97"
      },
      "outputs": [
        {
          "output_type": "execute_result",
          "data": {
            "text/plain": [
              "red_blood_cells            152\n",
              "pus_cell                    65\n",
              "pus_cell_clumps              4\n",
              "bacteria                     4\n",
              "hypertension                 2\n",
              "diabetes_mellitus            2\n",
              "coronary_artery_disease      2\n",
              "appetite                     1\n",
              "pedal_edema                  1\n",
              "anemia                       1\n",
              "dtype: int64"
            ]
          },
          "metadata": {},
          "execution_count": 101
        }
      ],
      "source": [
        "df[cat_cols].isnull().sum()"
      ]
    },
    {
      "cell_type": "markdown",
      "metadata": {
        "id": "sn_OfHn5XBsV"
      },
      "source": [
        "**Random sampling for higher values and mean or mode sampling for lower null values.**"
      ]
    },
    {
      "cell_type": "code",
      "execution_count": 102,
      "metadata": {
        "id": "e9-W3gHuW-W4"
      },
      "outputs": [],
      "source": [
        "def random_value_imputation(feature):\n",
        "    random_sample = df[feature].dropna().sample(df[feature].isna().sum())\n",
        "    random_sample.index = df[df[feature].isnull()].index\n",
        "    df.loc[df[feature].isnull(), feature] = random_sample\n",
        "    \n",
        "def impute_mode(feature):\n",
        "    mode = df[feature].mode()[0]\n",
        "    df[feature] = df[feature].fillna(mode)"
      ]
    },
    {
      "cell_type": "code",
      "execution_count": 103,
      "metadata": {
        "colab": {
          "base_uri": "https://localhost:8080/"
        },
        "id": "53xd5L8cXSdX",
        "outputId": "ccf5530f-a51d-4b55-a46c-055247d9d281"
      },
      "outputs": [
        {
          "output_type": "execute_result",
          "data": {
            "text/plain": [
              "age                       0\n",
              "blood_pressure            0\n",
              "specific_gravity          0\n",
              "albumin                   0\n",
              "sugar                     0\n",
              "blood_glucose_random      0\n",
              "blood_urea                0\n",
              "serum_creatinine          0\n",
              "sodium                    0\n",
              "potassium                 0\n",
              "haemoglobin               0\n",
              "packed_cell_volume        0\n",
              "white_blood_cell_count    0\n",
              "red_blood_cell_count      0\n",
              "class                     0\n",
              "dtype: int64"
            ]
          },
          "metadata": {},
          "execution_count": 103
        }
      ],
      "source": [
        "# filling num_cols null values using random sampling method\n",
        "\n",
        "for col in num_cols:\n",
        "    random_value_imputation(col)\n",
        "df[num_cols].isnull().sum()"
      ]
    },
    {
      "cell_type": "code",
      "execution_count": 104,
      "metadata": {
        "colab": {
          "base_uri": "https://localhost:8080/"
        },
        "id": "3-c-GCvyXbWz",
        "outputId": "0eb59c74-b02e-4a4b-be0f-d0358f30c804"
      },
      "outputs": [
        {
          "output_type": "execute_result",
          "data": {
            "text/plain": [
              "red_blood_cells            0\n",
              "pus_cell                   0\n",
              "pus_cell_clumps            0\n",
              "bacteria                   0\n",
              "hypertension               0\n",
              "diabetes_mellitus          0\n",
              "coronary_artery_disease    0\n",
              "appetite                   0\n",
              "pedal_edema                0\n",
              "anemia                     0\n",
              "dtype: int64"
            ]
          },
          "metadata": {},
          "execution_count": 104
        }
      ],
      "source": [
        "# filling \"red_blood_cells\" and \"pus_cell\" using random sampling method and rest of cat_cols using mode imputation\n",
        "\n",
        "random_value_imputation('red_blood_cells')\n",
        "random_value_imputation('pus_cell')\n",
        "\n",
        "for col in cat_cols:\n",
        "    impute_mode(col)\n",
        "df[cat_cols].isnull().sum()"
      ]
    },
    {
      "cell_type": "markdown",
      "metadata": {
        "id": "7kZ743BAXmL4"
      },
      "source": [
        "# **FEATURE ENCODING**"
      ]
    },
    {
      "cell_type": "code",
      "execution_count": 105,
      "metadata": {
        "colab": {
          "base_uri": "https://localhost:8080/"
        },
        "id": "wmcbMRt4X3Sz",
        "outputId": "e5426ff5-80d6-4bb1-997d-df185b586a9c"
      },
      "outputs": [
        {
          "output_type": "stream",
          "name": "stdout",
          "text": [
            "red_blood_cells has 2 categories\n",
            "\n",
            "pus_cell has 2 categories\n",
            "\n",
            "pus_cell_clumps has 2 categories\n",
            "\n",
            "bacteria has 2 categories\n",
            "\n",
            "hypertension has 2 categories\n",
            "\n",
            "diabetes_mellitus has 2 categories\n",
            "\n",
            "coronary_artery_disease has 2 categories\n",
            "\n",
            "appetite has 2 categories\n",
            "\n",
            "pedal_edema has 2 categories\n",
            "\n",
            "anemia has 2 categories\n",
            "\n"
          ]
        }
      ],
      "source": [
        "for col in cat_cols:\n",
        "    print(f\"{col} has {df[col].nunique()} categories\\n\")"
      ]
    },
    {
      "cell_type": "markdown",
      "metadata": {
        "id": "WzPLDFGnX9UP"
      },
      "source": [
        "**Using label encoder as each column have two classes**\n"
      ]
    },
    {
      "cell_type": "code",
      "execution_count": 106,
      "metadata": {
        "id": "dX2eH-YdYJaW"
      },
      "outputs": [],
      "source": [
        "from sklearn.preprocessing import LabelEncoder\n",
        "\n",
        "le = LabelEncoder()\n",
        "\n",
        "for col in cat_cols:\n",
        "    df[col] = le.fit_transform(df[col])"
      ]
    },
    {
      "cell_type": "code",
      "execution_count": 107,
      "metadata": {
        "colab": {
          "base_uri": "https://localhost:8080/",
          "height": 270
        },
        "id": "2BTbbSHDYMF3",
        "outputId": "a38dd182-e5b6-41a4-ebc0-920caeb7be08"
      },
      "outputs": [
        {
          "output_type": "execute_result",
          "data": {
            "text/plain": [
              "    age  blood_pressure  specific_gravity  albumin  sugar  red_blood_cells  \\\n",
              "0  48.0            80.0             1.020      1.0    0.0                0   \n",
              "1   7.0            50.0             1.020      4.0    0.0                1   \n",
              "2  62.0            80.0             1.010      2.0    3.0                1   \n",
              "3  48.0            70.0             1.005      4.0    0.0                1   \n",
              "4  51.0            80.0             1.010      2.0    0.0                1   \n",
              "\n",
              "   pus_cell  pus_cell_clumps  bacteria  blood_glucose_random  blood_urea  \\\n",
              "0         1                0         0                 121.0        36.0   \n",
              "1         1                0         0                 110.0        18.0   \n",
              "2         1                0         0                 423.0        53.0   \n",
              "3         0                1         0                 117.0        56.0   \n",
              "4         1                0         0                 106.0        26.0   \n",
              "\n",
              "   serum_creatinine  sodium  potassium  haemoglobin  packed_cell_volume  \\\n",
              "0               1.2   139.0        4.3         15.4                44.0   \n",
              "1               0.8   135.0        6.6         11.3                38.0   \n",
              "2               1.8   138.0        4.9          9.6                31.0   \n",
              "3               3.8   111.0        2.5         11.2                32.0   \n",
              "4               1.4   147.0        4.2         11.6                35.0   \n",
              "\n",
              "   white_blood_cell_count  red_blood_cell_count  hypertension  \\\n",
              "0                  7800.0                   5.2             1   \n",
              "1                  6000.0                   4.7             0   \n",
              "2                  7500.0                   5.5             0   \n",
              "3                  6700.0                   3.9             1   \n",
              "4                  7300.0                   4.6             0   \n",
              "\n",
              "   diabetes_mellitus  coronary_artery_disease  appetite  pedal_edema  anemia  \\\n",
              "0                  1                        0         0            0       0   \n",
              "1                  0                        0         0            0       0   \n",
              "2                  1                        0         1            0       1   \n",
              "3                  0                        0         1            1       1   \n",
              "4                  0                        0         0            0       0   \n",
              "\n",
              "   class  \n",
              "0      0  \n",
              "1      0  \n",
              "2      0  \n",
              "3      0  \n",
              "4      0  "
            ],
            "text/html": [
              "\n",
              "  <div id=\"df-2d9a8063-8d98-4bbe-8e95-cc48a02dc68d\">\n",
              "    <div class=\"colab-df-container\">\n",
              "      <div>\n",
              "<style scoped>\n",
              "    .dataframe tbody tr th:only-of-type {\n",
              "        vertical-align: middle;\n",
              "    }\n",
              "\n",
              "    .dataframe tbody tr th {\n",
              "        vertical-align: top;\n",
              "    }\n",
              "\n",
              "    .dataframe thead th {\n",
              "        text-align: right;\n",
              "    }\n",
              "</style>\n",
              "<table border=\"1\" class=\"dataframe\">\n",
              "  <thead>\n",
              "    <tr style=\"text-align: right;\">\n",
              "      <th></th>\n",
              "      <th>age</th>\n",
              "      <th>blood_pressure</th>\n",
              "      <th>specific_gravity</th>\n",
              "      <th>albumin</th>\n",
              "      <th>sugar</th>\n",
              "      <th>red_blood_cells</th>\n",
              "      <th>pus_cell</th>\n",
              "      <th>pus_cell_clumps</th>\n",
              "      <th>bacteria</th>\n",
              "      <th>blood_glucose_random</th>\n",
              "      <th>blood_urea</th>\n",
              "      <th>serum_creatinine</th>\n",
              "      <th>sodium</th>\n",
              "      <th>potassium</th>\n",
              "      <th>haemoglobin</th>\n",
              "      <th>packed_cell_volume</th>\n",
              "      <th>white_blood_cell_count</th>\n",
              "      <th>red_blood_cell_count</th>\n",
              "      <th>hypertension</th>\n",
              "      <th>diabetes_mellitus</th>\n",
              "      <th>coronary_artery_disease</th>\n",
              "      <th>appetite</th>\n",
              "      <th>pedal_edema</th>\n",
              "      <th>anemia</th>\n",
              "      <th>class</th>\n",
              "    </tr>\n",
              "  </thead>\n",
              "  <tbody>\n",
              "    <tr>\n",
              "      <th>0</th>\n",
              "      <td>48.0</td>\n",
              "      <td>80.0</td>\n",
              "      <td>1.020</td>\n",
              "      <td>1.0</td>\n",
              "      <td>0.0</td>\n",
              "      <td>0</td>\n",
              "      <td>1</td>\n",
              "      <td>0</td>\n",
              "      <td>0</td>\n",
              "      <td>121.0</td>\n",
              "      <td>36.0</td>\n",
              "      <td>1.2</td>\n",
              "      <td>139.0</td>\n",
              "      <td>4.3</td>\n",
              "      <td>15.4</td>\n",
              "      <td>44.0</td>\n",
              "      <td>7800.0</td>\n",
              "      <td>5.2</td>\n",
              "      <td>1</td>\n",
              "      <td>1</td>\n",
              "      <td>0</td>\n",
              "      <td>0</td>\n",
              "      <td>0</td>\n",
              "      <td>0</td>\n",
              "      <td>0</td>\n",
              "    </tr>\n",
              "    <tr>\n",
              "      <th>1</th>\n",
              "      <td>7.0</td>\n",
              "      <td>50.0</td>\n",
              "      <td>1.020</td>\n",
              "      <td>4.0</td>\n",
              "      <td>0.0</td>\n",
              "      <td>1</td>\n",
              "      <td>1</td>\n",
              "      <td>0</td>\n",
              "      <td>0</td>\n",
              "      <td>110.0</td>\n",
              "      <td>18.0</td>\n",
              "      <td>0.8</td>\n",
              "      <td>135.0</td>\n",
              "      <td>6.6</td>\n",
              "      <td>11.3</td>\n",
              "      <td>38.0</td>\n",
              "      <td>6000.0</td>\n",
              "      <td>4.7</td>\n",
              "      <td>0</td>\n",
              "      <td>0</td>\n",
              "      <td>0</td>\n",
              "      <td>0</td>\n",
              "      <td>0</td>\n",
              "      <td>0</td>\n",
              "      <td>0</td>\n",
              "    </tr>\n",
              "    <tr>\n",
              "      <th>2</th>\n",
              "      <td>62.0</td>\n",
              "      <td>80.0</td>\n",
              "      <td>1.010</td>\n",
              "      <td>2.0</td>\n",
              "      <td>3.0</td>\n",
              "      <td>1</td>\n",
              "      <td>1</td>\n",
              "      <td>0</td>\n",
              "      <td>0</td>\n",
              "      <td>423.0</td>\n",
              "      <td>53.0</td>\n",
              "      <td>1.8</td>\n",
              "      <td>138.0</td>\n",
              "      <td>4.9</td>\n",
              "      <td>9.6</td>\n",
              "      <td>31.0</td>\n",
              "      <td>7500.0</td>\n",
              "      <td>5.5</td>\n",
              "      <td>0</td>\n",
              "      <td>1</td>\n",
              "      <td>0</td>\n",
              "      <td>1</td>\n",
              "      <td>0</td>\n",
              "      <td>1</td>\n",
              "      <td>0</td>\n",
              "    </tr>\n",
              "    <tr>\n",
              "      <th>3</th>\n",
              "      <td>48.0</td>\n",
              "      <td>70.0</td>\n",
              "      <td>1.005</td>\n",
              "      <td>4.0</td>\n",
              "      <td>0.0</td>\n",
              "      <td>1</td>\n",
              "      <td>0</td>\n",
              "      <td>1</td>\n",
              "      <td>0</td>\n",
              "      <td>117.0</td>\n",
              "      <td>56.0</td>\n",
              "      <td>3.8</td>\n",
              "      <td>111.0</td>\n",
              "      <td>2.5</td>\n",
              "      <td>11.2</td>\n",
              "      <td>32.0</td>\n",
              "      <td>6700.0</td>\n",
              "      <td>3.9</td>\n",
              "      <td>1</td>\n",
              "      <td>0</td>\n",
              "      <td>0</td>\n",
              "      <td>1</td>\n",
              "      <td>1</td>\n",
              "      <td>1</td>\n",
              "      <td>0</td>\n",
              "    </tr>\n",
              "    <tr>\n",
              "      <th>4</th>\n",
              "      <td>51.0</td>\n",
              "      <td>80.0</td>\n",
              "      <td>1.010</td>\n",
              "      <td>2.0</td>\n",
              "      <td>0.0</td>\n",
              "      <td>1</td>\n",
              "      <td>1</td>\n",
              "      <td>0</td>\n",
              "      <td>0</td>\n",
              "      <td>106.0</td>\n",
              "      <td>26.0</td>\n",
              "      <td>1.4</td>\n",
              "      <td>147.0</td>\n",
              "      <td>4.2</td>\n",
              "      <td>11.6</td>\n",
              "      <td>35.0</td>\n",
              "      <td>7300.0</td>\n",
              "      <td>4.6</td>\n",
              "      <td>0</td>\n",
              "      <td>0</td>\n",
              "      <td>0</td>\n",
              "      <td>0</td>\n",
              "      <td>0</td>\n",
              "      <td>0</td>\n",
              "      <td>0</td>\n",
              "    </tr>\n",
              "  </tbody>\n",
              "</table>\n",
              "</div>\n",
              "      <button class=\"colab-df-convert\" onclick=\"convertToInteractive('df-2d9a8063-8d98-4bbe-8e95-cc48a02dc68d')\"\n",
              "              title=\"Convert this dataframe to an interactive table.\"\n",
              "              style=\"display:none;\">\n",
              "        \n",
              "  <svg xmlns=\"http://www.w3.org/2000/svg\" height=\"24px\"viewBox=\"0 0 24 24\"\n",
              "       width=\"24px\">\n",
              "    <path d=\"M0 0h24v24H0V0z\" fill=\"none\"/>\n",
              "    <path d=\"M18.56 5.44l.94 2.06.94-2.06 2.06-.94-2.06-.94-.94-2.06-.94 2.06-2.06.94zm-11 1L8.5 8.5l.94-2.06 2.06-.94-2.06-.94L8.5 2.5l-.94 2.06-2.06.94zm10 10l.94 2.06.94-2.06 2.06-.94-2.06-.94-.94-2.06-.94 2.06-2.06.94z\"/><path d=\"M17.41 7.96l-1.37-1.37c-.4-.4-.92-.59-1.43-.59-.52 0-1.04.2-1.43.59L10.3 9.45l-7.72 7.72c-.78.78-.78 2.05 0 2.83L4 21.41c.39.39.9.59 1.41.59.51 0 1.02-.2 1.41-.59l7.78-7.78 2.81-2.81c.8-.78.8-2.07 0-2.86zM5.41 20L4 18.59l7.72-7.72 1.47 1.35L5.41 20z\"/>\n",
              "  </svg>\n",
              "      </button>\n",
              "      \n",
              "  <style>\n",
              "    .colab-df-container {\n",
              "      display:flex;\n",
              "      flex-wrap:wrap;\n",
              "      gap: 12px;\n",
              "    }\n",
              "\n",
              "    .colab-df-convert {\n",
              "      background-color: #E8F0FE;\n",
              "      border: none;\n",
              "      border-radius: 50%;\n",
              "      cursor: pointer;\n",
              "      display: none;\n",
              "      fill: #1967D2;\n",
              "      height: 32px;\n",
              "      padding: 0 0 0 0;\n",
              "      width: 32px;\n",
              "    }\n",
              "\n",
              "    .colab-df-convert:hover {\n",
              "      background-color: #E2EBFA;\n",
              "      box-shadow: 0px 1px 2px rgba(60, 64, 67, 0.3), 0px 1px 3px 1px rgba(60, 64, 67, 0.15);\n",
              "      fill: #174EA6;\n",
              "    }\n",
              "\n",
              "    [theme=dark] .colab-df-convert {\n",
              "      background-color: #3B4455;\n",
              "      fill: #D2E3FC;\n",
              "    }\n",
              "\n",
              "    [theme=dark] .colab-df-convert:hover {\n",
              "      background-color: #434B5C;\n",
              "      box-shadow: 0px 1px 3px 1px rgba(0, 0, 0, 0.15);\n",
              "      filter: drop-shadow(0px 1px 2px rgba(0, 0, 0, 0.3));\n",
              "      fill: #FFFFFF;\n",
              "    }\n",
              "  </style>\n",
              "\n",
              "      <script>\n",
              "        const buttonEl =\n",
              "          document.querySelector('#df-2d9a8063-8d98-4bbe-8e95-cc48a02dc68d button.colab-df-convert');\n",
              "        buttonEl.style.display =\n",
              "          google.colab.kernel.accessAllowed ? 'block' : 'none';\n",
              "\n",
              "        async function convertToInteractive(key) {\n",
              "          const element = document.querySelector('#df-2d9a8063-8d98-4bbe-8e95-cc48a02dc68d');\n",
              "          const dataTable =\n",
              "            await google.colab.kernel.invokeFunction('convertToInteractive',\n",
              "                                                     [key], {});\n",
              "          if (!dataTable) return;\n",
              "\n",
              "          const docLinkHtml = 'Like what you see? Visit the ' +\n",
              "            '<a target=\"_blank\" href=https://colab.research.google.com/notebooks/data_table.ipynb>data table notebook</a>'\n",
              "            + ' to learn more about interactive tables.';\n",
              "          element.innerHTML = '';\n",
              "          dataTable['output_type'] = 'display_data';\n",
              "          await google.colab.output.renderOutput(dataTable, element);\n",
              "          const docLink = document.createElement('div');\n",
              "          docLink.innerHTML = docLinkHtml;\n",
              "          element.appendChild(docLink);\n",
              "        }\n",
              "      </script>\n",
              "    </div>\n",
              "  </div>\n",
              "  "
            ]
          },
          "metadata": {},
          "execution_count": 107
        }
      ],
      "source": [
        "df.head()"
      ]
    },
    {
      "cell_type": "markdown",
      "metadata": {
        "id": "2ho1m6JUYU3s"
      },
      "source": [
        "# **Making of the Machine learning Model**"
      ]
    },
    {
      "cell_type": "code",
      "execution_count": 108,
      "metadata": {
        "id": "ulsJBG-wYhao"
      },
      "outputs": [],
      "source": [
        "# data splitting in X,y\n",
        "x = df.iloc[:, :-1]\n",
        "y = df.iloc[:, -1]"
      ]
    },
    {
      "cell_type": "code",
      "execution_count": 109,
      "metadata": {
        "id": "P42l5T-_YmeV"
      },
      "outputs": [],
      "source": [
        "X_train, X_test, y_train, y_test = train_test_split(x, y, test_size=0.20, random_state=42)"
      ]
    },
    {
      "cell_type": "code",
      "execution_count": 110,
      "metadata": {
        "colab": {
          "base_uri": "https://localhost:8080/"
        },
        "id": "jhUS6QaoYqHF",
        "outputId": "b0463929-9b6b-4b39-cc44-84a65161ad9f"
      },
      "outputs": [
        {
          "output_type": "stream",
          "name": "stdout",
          "text": [
            "The shape of X_train (320, 24)\n",
            "The shape of X_test (80, 24)\n",
            "The shape of X_train (320,)\n",
            "The shape of X_test (80,)\n"
          ]
        }
      ],
      "source": [
        "print(\"The shape of X_train\",X_train.shape)\n",
        "print(\"The shape of X_test\",X_test.shape)\n",
        "print(\"The shape of X_train\",y_train.shape)\n",
        "print(\"The shape of X_test\",y_test.shape)"
      ]
    },
    {
      "cell_type": "markdown",
      "metadata": {
        "id": "mRErHnI5Ytx1"
      },
      "source": [
        "# **Random forest Classifier**"
      ]
    },
    {
      "cell_type": "code",
      "execution_count": 111,
      "metadata": {
        "colab": {
          "base_uri": "https://localhost:8080/"
        },
        "id": "rasoaGvUY3Vj",
        "outputId": "213d154e-f035-458a-9773-c2044ae53bc0"
      },
      "outputs": [
        {
          "output_type": "execute_result",
          "data": {
            "text/plain": [
              "RandomForestClassifier(criterion='entropy', n_estimators=10, random_state=0)"
            ]
          },
          "metadata": {},
          "execution_count": 111
        }
      ],
      "source": [
        "# Fitting Random Forest Classification to the Training set\n",
        "from sklearn.ensemble import RandomForestClassifier\n",
        "classifier = RandomForestClassifier(n_estimators = 10, criterion = 'entropy', random_state = 0)\n",
        "classifier.fit(X_train, y_train)"
      ]
    },
    {
      "cell_type": "code",
      "execution_count": 112,
      "metadata": {
        "colab": {
          "base_uri": "https://localhost:8080/"
        },
        "id": "mHfJVrriZWC7",
        "outputId": "0e37a0d9-e669-451f-ad1e-9620c88dcf20"
      },
      "outputs": [
        {
          "output_type": "execute_result",
          "data": {
            "text/plain": [
              "array([0, 0, 0, 0, 0, 0, 1, 0, 1, 0])"
            ]
          },
          "metadata": {},
          "execution_count": 112
        }
      ],
      "source": [
        "# Predicting the Test set results\n",
        "y_pred = classifier.predict(X_test)\n",
        "y_pred[:10]"
      ]
    },
    {
      "cell_type": "code",
      "execution_count": 113,
      "metadata": {
        "colab": {
          "base_uri": "https://localhost:8080/"
        },
        "id": "xlN4HXJSZajw",
        "outputId": "abb7b4fe-9ee8-4e33-98b4-8ca92cb5c489"
      },
      "outputs": [
        {
          "output_type": "stream",
          "name": "stdout",
          "text": [
            "model_DT Train Score is :  0.99375\n",
            "model_DT Test Score is :  0.9875\n"
          ]
        }
      ],
      "source": [
        "print('model_DT Train Score is : ' , classifier.score(X_train, y_train))\n",
        "print('model_DT Test Score is : ' , classifier.score(X_test, y_test))"
      ]
    },
    {
      "cell_type": "markdown",
      "source": [
        "***Accuracy of the model***"
      ],
      "metadata": {
        "id": "2eI2OrfvsD05"
      }
    },
    {
      "cell_type": "code",
      "execution_count": 114,
      "metadata": {
        "colab": {
          "base_uri": "https://localhost:8080/"
        },
        "id": "yQE7FRIbZfxB",
        "outputId": "29af8d16-1cf3-400d-ee47-e1cdceeb14a4"
      },
      "outputs": [
        {
          "output_type": "stream",
          "name": "stdout",
          "text": [
            "The Score is:  98.75\n"
          ]
        }
      ],
      "source": [
        "print(\"The Score is: \",accuracy_score(y_test , y_pred)*100)"
      ]
    },
    {
      "cell_type": "code",
      "execution_count": 115,
      "metadata": {
        "colab": {
          "base_uri": "https://localhost:8080/"
        },
        "id": "SO9Z4im2ZknL",
        "outputId": "6f1feb81-db1b-4695-a053-beb568e4bc7c"
      },
      "outputs": [
        {
          "output_type": "execute_result",
          "data": {
            "text/plain": [
              "array([[0.8, 0.2],\n",
              "       [0.6, 0.4]])"
            ]
          },
          "metadata": {},
          "execution_count": 115
        }
      ],
      "source": [
        "#probability of all values\n",
        "pr1 = classifier.predict_proba(X_test)[0:10,:]\n",
        "pr1[:2]"
      ]
    },
    {
      "cell_type": "code",
      "execution_count": 116,
      "metadata": {
        "colab": {
          "base_uri": "https://localhost:8080/"
        },
        "id": "XKVuBTFVZnqy",
        "outputId": "3c75350c-ff28-42fd-9a9d-b4d9e3ad53b8"
      },
      "outputs": [
        {
          "output_type": "execute_result",
          "data": {
            "text/plain": [
              "array([0.8, 0.6])"
            ]
          },
          "metadata": {},
          "execution_count": 116
        }
      ],
      "source": [
        "#probability of zeros\n",
        "pr2 = classifier.predict_proba(X_test)[0:10,0]\n",
        "pr2[:2]"
      ]
    },
    {
      "cell_type": "code",
      "execution_count": 117,
      "metadata": {
        "colab": {
          "base_uri": "https://localhost:8080/"
        },
        "id": "YQ00vrnVZrK2",
        "outputId": "6fe227da-27ff-40fa-b5bc-9b6206b3e6ef"
      },
      "outputs": [
        {
          "output_type": "execute_result",
          "data": {
            "text/plain": [
              "array([0.2, 0.4])"
            ]
          },
          "metadata": {},
          "execution_count": 117
        }
      ],
      "source": [
        "#probability of ones\n",
        "pr3 = classifier.predict_proba(X_test)[0:10,1]\n",
        "pr3[:2]"
      ]
    },
    {
      "cell_type": "code",
      "execution_count": 118,
      "metadata": {
        "id": "rbUtgySiZvXj"
      },
      "outputs": [],
      "source": [
        "#  Confusion Matrix\n",
        "from sklearn.metrics import confusion_matrix\n",
        "cm1 = confusion_matrix(y_test, y_pred)"
      ]
    },
    {
      "cell_type": "code",
      "execution_count": 119,
      "metadata": {
        "colab": {
          "base_uri": "https://localhost:8080/",
          "height": 279
        },
        "id": "DFN8lu5iZy7B",
        "outputId": "7d4b23a2-fa53-417b-cf41-7c9cfc44bc8f"
      },
      "outputs": [
        {
          "output_type": "display_data",
          "data": {
            "text/plain": [
              "<Figure size 432x288 with 2 Axes>"
            ],
            "image/png": "[encoded data removed]"
          },
          "metadata": {
            "needs_background": "light"
          }
        }
      ],
      "source": [
        "from sklearn.metrics import confusion_matrix, ConfusionMatrixDisplay\n",
        "disp = ConfusionMatrixDisplay(confusion_matrix=cm1,display_labels=classifier.classes_)\n",
        "disp.plot()\n",
        "plt.show()"
      ]
    },
    {
      "cell_type": "code",
      "execution_count": 120,
      "metadata": {
        "id": "fYQ-OEpxZ-Q1"
      },
      "outputs": [],
      "source": [
        "# mean_absolute_error\n",
        "from sklearn.metrics import mean_absolute_error\n",
        "meanabs =mean_absolute_error(y_test, y_pred)\n",
        "# mean_squared_error\n",
        "from sklearn.metrics import mean_squared_error\n",
        "meansq =mean_squared_error(y_test, y_pred)\n",
        "# median_absolute_error\n",
        "from sklearn.metrics import median_absolute_error\n",
        "medianab =median_absolute_error(y_test, y_pred)"
      ]
    },
    {
      "cell_type": "code",
      "execution_count": 121,
      "metadata": {
        "colab": {
          "base_uri": "https://localhost:8080/"
        },
        "id": "UkQNSo99aKff",
        "outputId": "218a9f14-aad3-49d1-f2b4-3bbf2e6dee2c"
      },
      "outputs": [
        {
          "output_type": "stream",
          "name": "stdout",
          "text": [
            "The mean_absolute_error 0.0125\n",
            "The mean_Squre_error 0.0125\n",
            "The Medain_absolute_error 0.0\n"
          ]
        }
      ],
      "source": [
        "print(\"The mean_absolute_error\",meanabs)\n",
        "print(\"The mean_Squre_error\",meansq)\n",
        "print(\"The Medain_absolute_error\",medianab)"
      ]
    },
    {
      "cell_type": "markdown",
      "metadata": {
        "id": "cuUlrDVrFaUn"
      },
      "source": [
        "# **Decision Tree Classifier**"
      ]
    },
    {
      "cell_type": "code",
      "execution_count": 122,
      "metadata": {
        "colab": {
          "base_uri": "https://localhost:8080/"
        },
        "id": "xBg8eUuVF6-Y",
        "outputId": "caba7ff9-2597-460d-8ead-ca1d35e2dc2d"
      },
      "outputs": [
        {
          "output_type": "execute_result",
          "data": {
            "text/plain": [
              "DecisionTreeClassifier()"
            ]
          },
          "metadata": {},
          "execution_count": 122
        }
      ],
      "source": [
        "from sklearn.tree import DecisionTreeClassifier\n",
        "# Creating model object\n",
        "model_dt = DecisionTreeClassifier( )\n",
        "# Training Model\n",
        "model_dt.fit(X_train,y_train)"
      ]
    },
    {
      "cell_type": "code",
      "execution_count": 123,
      "metadata": {
        "id": "zpaXn09yGup4"
      },
      "outputs": [],
      "source": [
        "# Making Prediction\n",
        "pred_dt = model_dt.predict(X_test)"
      ]
    },
    {
      "cell_type": "code",
      "execution_count": 124,
      "metadata": {
        "colab": {
          "base_uri": "https://localhost:8080/"
        },
        "id": "Q8N7jEgzGzRF",
        "outputId": "bf26a086-b088-41ca-9875-1f2a45a1e04f"
      },
      "outputs": [
        {
          "output_type": "stream",
          "name": "stdout",
          "text": [
            "model_DT Train Score is :  1.0\n",
            "model_DT Test Score is :  0.9875\n"
          ]
        }
      ],
      "source": [
        "print('model_DT Train Score is : ' , model_dt.score(X_train, y_train))\n",
        "print('model_DT Test Score is : ' , model_dt.score(X_test, y_test))"
      ]
    },
    {
      "cell_type": "markdown",
      "metadata": {
        "id": "9AnhRC7HIDro"
      },
      "source": [
        "***Accuracy of the model***"
      ]
    },
    {
      "cell_type": "code",
      "execution_count": 125,
      "metadata": {
        "colab": {
          "base_uri": "https://localhost:8080/"
        },
        "id": "JIlODO2FG6YK",
        "outputId": "a9ee5472-a89c-42c8-f402-504f08b57436"
      },
      "outputs": [
        {
          "output_type": "stream",
          "name": "stdout",
          "text": [
            "bt accuracy  0.9875\n"
          ]
        }
      ],
      "source": [
        "print('bt accuracy ' , accuracy_score(y_test , pred_dt))"
      ]
    },
    {
      "cell_type": "code",
      "execution_count": 126,
      "metadata": {
        "id": "24ScTVBbHIBf"
      },
      "outputs": [],
      "source": [
        "from sklearn.metrics import plot_confusion_matrix\n",
        "# Confusion Matrix\n",
        "from sklearn.metrics import confusion_matrix\n",
        "cm2 = confusion_matrix(y_test, pred_dt)"
      ]
    },
    {
      "cell_type": "code",
      "execution_count": 127,
      "metadata": {
        "colab": {
          "base_uri": "https://localhost:8080/",
          "height": 279
        },
        "id": "HyTOV2wOHLM5",
        "outputId": "4327c26b-d6e5-43a9-a432-1298f527d3c4"
      },
      "outputs": [
        {
          "output_type": "display_data",
          "data": {
            "text/plain": [
              "<Figure size 432x288 with 2 Axes>"
            ],
            "image/png": "[encoded data removed]"
          },
          "metadata": {
            "needs_background": "light"
          }
        }
      ],
      "source": [
        "from sklearn.metrics import confusion_matrix, ConfusionMatrixDisplay\n",
        "disp = ConfusionMatrixDisplay(confusion_matrix=cm2,display_labels=model_dt.classes_)\n",
        "disp.plot()\n",
        "plt.show()"
      ]
    },
    {
      "cell_type": "code",
      "execution_count": 128,
      "metadata": {
        "id": "snV3Ju1rHP2I"
      },
      "outputs": [],
      "source": [
        "# mean_absolute_error\n",
        "from sklearn.metrics import mean_absolute_error\n",
        "meanabs =mean_absolute_error(y_test, pred_dt)\n",
        "# mean_squared_error\n",
        "from sklearn.metrics import mean_squared_error\n",
        "meansq =mean_squared_error(y_test, pred_dt)\n",
        "# median_absolute_error\n",
        "from sklearn.metrics import median_absolute_error\n",
        "medianab =median_absolute_error(y_test, pred_dt)"
      ]
    },
    {
      "cell_type": "code",
      "execution_count": 129,
      "metadata": {
        "colab": {
          "base_uri": "https://localhost:8080/"
        },
        "id": "VUC991QmHZKl",
        "outputId": "edf4b921-b261-4ade-b114-1f60948467c6"
      },
      "outputs": [
        {
          "output_type": "stream",
          "name": "stdout",
          "text": [
            "The mean_absolute_error =  0.0125\n",
            "The mean_Squre_error =  0.0125\n",
            "The Medain_absolute_error =  0.0\n"
          ]
        }
      ],
      "source": [
        "print(\"The mean_absolute_error = \",meanabs)\n",
        "print(\"The mean_Squre_error = \",meansq)\n",
        "print(\"The Medain_absolute_error = \",medianab)"
      ]
    },
    {
      "cell_type": "code",
      "execution_count": 130,
      "metadata": {
        "colab": {
          "base_uri": "https://localhost:8080/"
        },
        "id": "YvHPWnblHgs2",
        "outputId": "f800be27-eac6-49b3-f138-22dcb5dbfa8c"
      },
      "outputs": [
        {
          "output_type": "execute_result",
          "data": {
            "text/plain": [
              "array([[51,  1],\n",
              "       [ 0, 28]])"
            ]
          },
          "metadata": {},
          "execution_count": 130
        }
      ],
      "source": [
        "from sklearn.metrics import confusion_matrix,classification_report,plot_confusion_matrix #for model evaluation\n",
        "confusion_matrix2=confusion_matrix(y_test,pred_dt)\n",
        "confusion_matrix2"
      ]
    },
    {
      "cell_type": "code",
      "execution_count": 131,
      "metadata": {
        "colab": {
          "base_uri": "https://localhost:8080/"
        },
        "id": "eJu9MxsNHjsb",
        "outputId": "6e5b3a56-e939-4096-c189-e1904deadf0e"
      },
      "outputs": [
        {
          "output_type": "stream",
          "name": "stdout",
          "text": [
            "Sensitivity :  1.0\n",
            "Specificity :  0.9655172413793104\n"
          ]
        }
      ],
      "source": [
        "total=sum(sum(confusion_matrix2))\n",
        "\n",
        "sensitivity = confusion_matrix2[0,0]/(confusion_matrix2[0,0]+confusion_matrix2[1,0])\n",
        "print('Sensitivity : ', sensitivity )\n",
        "\n",
        "specificity = confusion_matrix2[1,1]/(confusion_matrix2[1,1]+confusion_matrix2[0,1])\n",
        "print('Specificity : ', specificity)"
      ]
    },
    {
      "cell_type": "code",
      "execution_count": 132,
      "metadata": {
        "colab": {
          "base_uri": "https://localhost:8080/",
          "height": 441
        },
        "id": "jWIrDp5bHuGY",
        "outputId": "cf1ad980-1261-4ba7-f587-d955c2b17a8f"
      },
      "outputs": [
        {
          "output_type": "display_data",
          "data": {
            "text/plain": [
              "<Figure size 576x432 with 1 Axes>"
            ],
            "image/png": "[encoded data removed]"
          },
          "metadata": {
            "needs_background": "light"
          }
        }
      ],
      "source": [
        "from sklearn.metrics import roc_curve, auc #for model evaluation\n",
        "from matplotlib import pyplot\n",
        "fig, (ax2) = plt.subplots(figsize = (8,6))\n",
        "        #roc-curve\n",
        "fpr, tpr, thresholds_roc = roc_curve(y_test,pred_dt)\n",
        "roc_auc = auc(fpr,tpr)\n",
        "ax2.plot(fpr,tpr, label = \" AUROC = {:0.2f}\".format(roc_auc))\n",
        "ax2.plot([0,1], [0,1], 'r', linestyle = \"--\", lw = 2)\n",
        "ax2.set_xlabel(\"False Positive Rate\", fontsize = 14)\n",
        "ax2.set_ylabel(\"True Positive Rate\", fontsize = 14)\n",
        "ax2.set_title(\"ROC Curve\", fontsize = 18)\n",
        "ax2.legend(loc = 'best')\n",
        "plt.title('ROC curve for Decision Tree Classifier ')\n",
        "plt.xlabel('False Positive Rate (1 - Specificity)')\n",
        "plt.ylabel('True Positive Rate (Sensitivity)')\n",
        "        #find default threshold\n",
        "close_default = np.argmin(np.abs(thresholds_roc - 0.5))\n",
        "ax2.plot(fpr[close_default], tpr[close_default], 'o', markersize = 8)\n",
        "plt.tight_layout()"
      ]
    },
    {
      "cell_type": "markdown",
      "source": [
        "# **XGB Classifier**"
      ],
      "metadata": {
        "id": "OHHJHgx9syi6"
      }
    },
    {
      "cell_type": "code",
      "source": [
        "from xgboost import XGBClassifier\n",
        "from sklearn import metrics\n",
        "# Creating model object\n",
        "model_xgb = XGBClassifier()\n",
        "model_xgb.fit(X_train, y_train)"
      ],
      "metadata": {
        "colab": {
          "base_uri": "https://localhost:8080/"
        },
        "id": "YjvrTJyas4UJ",
        "outputId": "bc93242a-2826-49f5-fb87-d84df33c678c"
      },
      "execution_count": 133,
      "outputs": [
        {
          "output_type": "execute_result",
          "data": {
            "text/plain": [
              "XGBClassifier()"
            ]
          },
          "metadata": {},
          "execution_count": 133
        }
      ]
    },
    {
      "cell_type": "code",
      "source": [
        "pred_xgb= model_xgb.predict(X_test)"
      ],
      "metadata": {
        "id": "ix57kSEXs_W0"
      },
      "execution_count": 134,
      "outputs": []
    },
    {
      "cell_type": "code",
      "source": [
        "print('model_xgb Train Score is : ' , model_xgb.score(X_train, y_train))\n",
        "print('model_xgb Test Score is : ' , model_xgb.score(X_test, y_test))"
      ],
      "metadata": {
        "colab": {
          "base_uri": "https://localhost:8080/"
        },
        "id": "wVzGhWastCzB",
        "outputId": "da743fc9-45ed-4235-e8cf-7cb5d2e7e3a3"
      },
      "execution_count": 135,
      "outputs": [
        {
          "output_type": "stream",
          "name": "stdout",
          "text": [
            "model_xgb Train Score is :  1.0\n",
            "model_xgb Test Score is :  0.975\n"
          ]
        }
      ]
    },
    {
      "cell_type": "code",
      "source": [
        "import matplotlib\n",
        "from sklearn.metrics import confusion_matrix,classification_report,plot_confusion_matrix\n",
        "matplotlib.rcParams['figure.figsize'] = (8,5)\n",
        "plot_confusion_matrix(model_xgb,X_test,y_test);"
      ],
      "metadata": {
        "colab": {
          "base_uri": "https://localhost:8080/",
          "height": 333
        },
        "id": "iP88t5jFtH7M",
        "outputId": "95052bbd-5b60-4742-ccd8-06653811e590"
      },
      "execution_count": 136,
      "outputs": [
        {
          "output_type": "display_data",
          "data": {
            "text/plain": [
              "<Figure size 576x360 with 2 Axes>"
            ],
            "image/png": "[encoded data removed]"
          },
          "metadata": {
            "needs_background": "light"
          }
        }
      ]
    },
    {
      "cell_type": "code",
      "source": [
        "from sklearn.metrics import confusion_matrix,classification_report,plot_confusion_matrix #for model evaluation\n",
        "confusion_matrix=confusion_matrix(y_test,pred_xgb)\n",
        "confusion_matrix"
      ],
      "metadata": {
        "colab": {
          "base_uri": "https://localhost:8080/"
        },
        "id": "QSwOTOuitOtG",
        "outputId": "efcdf881-468a-41bf-8e3b-644586822510"
      },
      "execution_count": 137,
      "outputs": [
        {
          "output_type": "execute_result",
          "data": {
            "text/plain": [
              "array([[51,  1],\n",
              "       [ 1, 27]])"
            ]
          },
          "metadata": {},
          "execution_count": 137
        }
      ]
    },
    {
      "cell_type": "code",
      "source": [
        "total=sum(sum(confusion_matrix))\n",
        "\n",
        "sensitivity = confusion_matrix[0,0]/(confusion_matrix[0,0]+confusion_matrix[1,0])\n",
        "print('Sensitivity : ', sensitivity )\n",
        "\n",
        "specificity = confusion_matrix[1,1]/(confusion_matrix[1,1]+confusion_matrix[0,1])\n",
        "print('Specificity : ', specificity)"
      ],
      "metadata": {
        "colab": {
          "base_uri": "https://localhost:8080/"
        },
        "id": "IUqqLODKtcSe",
        "outputId": "1d1f0b78-0cde-44e1-dc64-59c0d92587e9"
      },
      "execution_count": 138,
      "outputs": [
        {
          "output_type": "stream",
          "name": "stdout",
          "text": [
            "Sensitivity :  0.9807692307692307\n",
            "Specificity :  0.9642857142857143\n"
          ]
        }
      ]
    },
    {
      "cell_type": "code",
      "source": [
        "total=sum(sum(confusion_matrix))\n",
        "\n",
        "ppv = confusion_matrix[0,0]/(confusion_matrix[0,0]+confusion_matrix[0,1])\n",
        "print('ppv : ', ppv )\n",
        "\n",
        "npv = confusion_matrix[1,1]/(confusion_matrix[1,0]+confusion_matrix[1,1])\n",
        "print('npv : ', npv)"
      ],
      "metadata": {
        "colab": {
          "base_uri": "https://localhost:8080/"
        },
        "id": "LZrhXZwvtiT7",
        "outputId": "603fc674-5e8b-485f-f5d6-1c44394d1896"
      },
      "execution_count": 139,
      "outputs": [
        {
          "output_type": "stream",
          "name": "stdout",
          "text": [
            "ppv :  0.9807692307692307\n",
            "npv :  0.9642857142857143\n"
          ]
        }
      ]
    },
    {
      "cell_type": "code",
      "source": [
        "from sklearn.metrics import roc_curve, auc #for model evaluation\n",
        "from matplotlib import pyplot\n",
        "fig, (ax2) = plt.subplots(figsize = (8,6))\n",
        "        #roc-curve\n",
        "fpr, tpr, thresholds_roc = roc_curve(y_test,pred_xgb)\n",
        "roc_auc = auc(fpr,tpr)\n",
        "ax2.plot(fpr,tpr, label = \" AUROC = {:0.2f}\".format(roc_auc))\n",
        "ax2.plot([0,1], [0,1], 'r', linestyle = \"--\", lw = 2)\n",
        "ax2.set_xlabel(\"False Positive Rate\", fontsize = 14)\n",
        "ax2.set_ylabel(\"True Positive Rate\", fontsize = 14)\n",
        "ax2.set_title(\"ROC Curve\", fontsize = 18)\n",
        "ax2.legend(loc = 'best')\n",
        "plt.title('ROC curve for XgBoost Classifier')\n",
        "plt.xlabel('False Positive Rate (1 - Specificity)')\n",
        "plt.ylabel('True Positive Rate (Sensitivity)')\n",
        "        #find default threshold\n",
        "close_default = np.argmin(np.abs(thresholds_roc - 0.5))\n",
        "ax2.plot(fpr[close_default], tpr[close_default], 'o', markersize = 8)\n",
        "plt.tight_layout()"
      ],
      "metadata": {
        "colab": {
          "base_uri": "https://localhost:8080/",
          "height": 441
        },
        "id": "8lTWAKFltsou",
        "outputId": "ec291dde-0cc2-4e01-81ca-de2e25ff31b0"
      },
      "execution_count": 140,
      "outputs": [
        {
          "output_type": "display_data",
          "data": {
            "text/plain": [
              "<Figure size 576x432 with 1 Axes>"
            ],
            "image/png": "[encoded data removed]"
          },
          "metadata": {
            "needs_background": "light"
          }
        }
      ]
    }
  ],
  "metadata": {
    "colab": {
      "collapsed_sections": [],
      "provenance": [],
      "authorship_tag": "ABX9TyM7CIglpoAkLX4RazN7fe8o"
    },
    "kernelspec": {
      "display_name": "Python 3",
      "name": "python3"
    },
    "language_info": {
      "name": "python"
    }
  },
  "nbformat": 4,
  "nbformat_minor": 0
}